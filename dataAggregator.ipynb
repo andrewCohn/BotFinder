{
 "cells": [
  {
   "cell_type": "code",
   "execution_count": 22,
   "metadata": {},
   "outputs": [],
   "source": [
    "import os\n",
    "import pandas as pd\n",
    "import numpy as np\n",
    "\n",
    "np.random.seed(42)\n",
    "DAI = pd.read_csv('rawData/DAIGTV2/train_v2_drcat_02.csv')\n",
    "llmDetect = pd.read_csv('rawData/llm-detect/train_essays.csv')\n",
    "dataframes = []\n",
    "\n",
    "data = {\n",
    "        \"label\":[],\n",
    "        \"source\":[],\n",
    "        \"text\":[]\n",
    "}\n",
    "\n",
    "for index,row in DAI.iterrows():\n",
    "    data['text'].append(row['text'])\n",
    "    data['label'].append(row[\"label\"])\n",
    "    data['source']=0\n",
    "\n",
    "for index,row in llmDetect.iterrows():\n",
    "    data['text'].append(row['text'])\n",
    "    data['label'].append(row[\"generated\"])\n",
    "    data['source']=1\n",
    "\n",
    "df = pd.DataFrame(data)\n",
    "\n",
    "df_80 = df.sample(frac=0.8, random_state=42)\n",
    "df_20 = df.drop(df_80.index)\n",
    "\n",
    "df_label_1 = df_20[df_20['label'] == 1]\n",
    "df_label_0 = df_20[df_20['label'] == 0]\n",
    "n_half = min(len(df_label_1), len(df_label_0))\n",
    "df_20_balanced = pd.concat([df_label_1.sample(n=n_half, random_state=42),\n",
    "                            df_label_0.sample(n=n_half, random_state=42)])\n",
    "\n",
    "n_half = min(len(df_label_1), len(df_label_0))\n",
    "df_80.to_csv('trainData/trainData.csv', index=False)\n",
    "df_20_balanced.to_csv('testData/testData.csv', index=False)                            \n"
   ]
  }
 ],
 "metadata": {
  "kernelspec": {
   "display_name": "Python 3",
   "language": "python",
   "name": "python3"
  },
  "language_info": {
   "codemirror_mode": {
    "name": "ipython",
    "version": 3
   },
   "file_extension": ".py",
   "mimetype": "text/x-python",
   "name": "python",
   "nbconvert_exporter": "python",
   "pygments_lexer": "ipython3",
   "version": "3.12.7"
  }
 },
 "nbformat": 4,
 "nbformat_minor": 2
}
