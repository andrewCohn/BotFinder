{
 "cells": [
  {
   "cell_type": "markdown",
   "id": "f3f20b9c",
   "metadata": {},
   "source": [
    "# 2 Single 2 Perceptron"
   ]
  },
  {
   "cell_type": "code",
   "execution_count": 1,
   "id": "d561a30b",
   "metadata": {},
   "outputs": [],
   "source": [
    "# Package imports\n",
    "\n",
    "from src.utils.recorder_util import ModelResults\n",
    "import pandas as pd\n",
    "from gensim.models import Word2Vec\n",
    "import numpy as np\n",
    "from sklearn.preprocessing import StandardScaler\n",
    "from tqdm import tqdm\n",
    "from nltk.tokenize import word_tokenize"
   ]
  },
  {
   "cell_type": "code",
   "execution_count": 2,
   "id": "edb4d0bb",
   "metadata": {},
   "outputs": [],
   "source": [
    "# Initializing recorder results\n",
    "\n",
    "model_name = \"2_Single_2Perceptron_Word2Vec\"\n",
    "author = \"Noah Sher\"\n",
    "seed = 123\n",
    "\n",
    "recorder = ModelResults(model_name, author, seed)"
   ]
  },
  {
   "cell_type": "code",
   "execution_count": 3,
   "id": "18cb65f2",
   "metadata": {},
   "outputs": [
    {
     "name": "stdout",
     "output_type": "stream",
     "text": [
      "Unprocessed data:\n"
     ]
    },
    {
     "data": {
      "text/html": [
       "<div>\n",
       "<style scoped>\n",
       "    .dataframe tbody tr th:only-of-type {\n",
       "        vertical-align: middle;\n",
       "    }\n",
       "\n",
       "    .dataframe tbody tr th {\n",
       "        vertical-align: top;\n",
       "    }\n",
       "\n",
       "    .dataframe thead th {\n",
       "        text-align: right;\n",
       "    }\n",
       "</style>\n",
       "<table border=\"1\" class=\"dataframe\">\n",
       "  <thead>\n",
       "    <tr style=\"text-align: right;\">\n",
       "      <th></th>\n",
       "      <th>label</th>\n",
       "      <th>source</th>\n",
       "      <th>text</th>\n",
       "    </tr>\n",
       "  </thead>\n",
       "  <tbody>\n",
       "    <tr>\n",
       "      <th>0</th>\n",
       "      <td>0</td>\n",
       "      <td>1</td>\n",
       "      <td>Help wanted!\\n\\nThe Seagoing Cowboys program i...</td>\n",
       "    </tr>\n",
       "    <tr>\n",
       "      <th>1</th>\n",
       "      <td>0</td>\n",
       "      <td>1</td>\n",
       "      <td>The system of the Electoral College is a widel...</td>\n",
       "    </tr>\n",
       "    <tr>\n",
       "      <th>2</th>\n",
       "      <td>1</td>\n",
       "      <td>1</td>\n",
       "      <td>The renowned British statesman Winston Churchi...</td>\n",
       "    </tr>\n",
       "    <tr>\n",
       "      <th>3</th>\n",
       "      <td>0</td>\n",
       "      <td>1</td>\n",
       "      <td>My grandfather would always say \"creativity is...</td>\n",
       "    </tr>\n",
       "    <tr>\n",
       "      <th>4</th>\n",
       "      <td>1</td>\n",
       "      <td>1</td>\n",
       "      <td>In my pursuit to become an assistant manager a...</td>\n",
       "    </tr>\n",
       "  </tbody>\n",
       "</table>\n",
       "</div>"
      ],
      "text/plain": [
       "   label  source                                               text\n",
       "0      0       1  Help wanted!\\n\\nThe Seagoing Cowboys program i...\n",
       "1      0       1  The system of the Electoral College is a widel...\n",
       "2      1       1  The renowned British statesman Winston Churchi...\n",
       "3      0       1  My grandfather would always say \"creativity is...\n",
       "4      1       1  In my pursuit to become an assistant manager a..."
      ]
     },
     "execution_count": 3,
     "metadata": {},
     "output_type": "execute_result"
    }
   ],
   "source": [
    "# Loading datasets\n",
    "\n",
    "train_data = pd.read_csv(\"trainData/trainData.csv\")\n",
    "test_data = pd.read_csv(\"testData/testData.csv\")\n",
    "\n",
    "print(\"Unprocessed data:\")\n",
    "train_data.head()"
   ]
  },
  {
   "cell_type": "code",
   "execution_count": 4,
   "id": "e63aeacd",
   "metadata": {},
   "outputs": [
    {
     "name": "stdout",
     "output_type": "stream",
     "text": [
      "Preprocessed data:\n"
     ]
    },
    {
     "data": {
      "text/html": [
       "<div>\n",
       "<style scoped>\n",
       "    .dataframe tbody tr th:only-of-type {\n",
       "        vertical-align: middle;\n",
       "    }\n",
       "\n",
       "    .dataframe tbody tr th {\n",
       "        vertical-align: top;\n",
       "    }\n",
       "\n",
       "    .dataframe thead th {\n",
       "        text-align: right;\n",
       "    }\n",
       "</style>\n",
       "<table border=\"1\" class=\"dataframe\">\n",
       "  <thead>\n",
       "    <tr style=\"text-align: right;\">\n",
       "      <th></th>\n",
       "      <th>label</th>\n",
       "      <th>source</th>\n",
       "      <th>text</th>\n",
       "      <th>preprocessed_text</th>\n",
       "    </tr>\n",
       "  </thead>\n",
       "  <tbody>\n",
       "    <tr>\n",
       "      <th>0</th>\n",
       "      <td>0</td>\n",
       "      <td>1</td>\n",
       "      <td>Help wanted!\\n\\nThe Seagoing Cowboys program i...</td>\n",
       "      <td>[help, wanted!, the, seagoing, cowboys, progra...</td>\n",
       "    </tr>\n",
       "    <tr>\n",
       "      <th>1</th>\n",
       "      <td>0</td>\n",
       "      <td>1</td>\n",
       "      <td>The system of the Electoral College is a widel...</td>\n",
       "      <td>[the, system, of, the, electoral, college, is,...</td>\n",
       "    </tr>\n",
       "    <tr>\n",
       "      <th>2</th>\n",
       "      <td>1</td>\n",
       "      <td>1</td>\n",
       "      <td>The renowned British statesman Winston Churchi...</td>\n",
       "      <td>[the, renowned, british, statesman, winston, c...</td>\n",
       "    </tr>\n",
       "    <tr>\n",
       "      <th>3</th>\n",
       "      <td>0</td>\n",
       "      <td>1</td>\n",
       "      <td>My grandfather would always say \"creativity is...</td>\n",
       "      <td>[my, grandfather, would, always, say, \"creativ...</td>\n",
       "    </tr>\n",
       "    <tr>\n",
       "      <th>4</th>\n",
       "      <td>1</td>\n",
       "      <td>1</td>\n",
       "      <td>In my pursuit to become an assistant manager a...</td>\n",
       "      <td>[in, my, pursuit, to, become, an, assistant, m...</td>\n",
       "    </tr>\n",
       "  </tbody>\n",
       "</table>\n",
       "</div>"
      ],
      "text/plain": [
       "   label  source                                               text  \\\n",
       "0      0       1  Help wanted!\\n\\nThe Seagoing Cowboys program i...   \n",
       "1      0       1  The system of the Electoral College is a widel...   \n",
       "2      1       1  The renowned British statesman Winston Churchi...   \n",
       "3      0       1  My grandfather would always say \"creativity is...   \n",
       "4      1       1  In my pursuit to become an assistant manager a...   \n",
       "\n",
       "                                   preprocessed_text  \n",
       "0  [help, wanted!, the, seagoing, cowboys, progra...  \n",
       "1  [the, system, of, the, electoral, college, is,...  \n",
       "2  [the, renowned, british, statesman, winston, c...  \n",
       "3  [my, grandfather, would, always, say, \"creativ...  \n",
       "4  [in, my, pursuit, to, become, an, assistant, m...  "
      ]
     },
     "execution_count": 4,
     "metadata": {},
     "output_type": "execute_result"
    }
   ],
   "source": [
    "# Preprocessing text by:\n",
    "#   1. lowercasing all letters and\n",
    "#   2. splitting all strings into a list of words.\n",
    "\n",
    "def preprocess_data(text):\n",
    "    lower_text = text.lower()\n",
    "    preprocessed = lower_text.split()\n",
    "    return preprocessed\n",
    "\n",
    "train_data[\"preprocessed_text\"] = train_data[\"text\"].apply(preprocess_data)\n",
    "test_data[\"preprocessed_text\"] = test_data[\"text\"].apply(preprocess_data)\n",
    "\n",
    "print(\"Preprocessed data:\")\n",
    "train_data.head()"
   ]
  },
  {
   "cell_type": "code",
   "execution_count": 5,
   "id": "18365433-5e64-46e0-9505-0df31796ffb7",
   "metadata": {},
   "outputs": [],
   "source": [
    "# Training Word2Vec on the train_data\n",
    "\n",
    "word2Vec = Word2Vec(\n",
    "    sentences = train_data[\"preprocessed_text\"],\n",
    "    vector_size = 100,\n",
    "    window = 5,\n",
    "    min_count = 1,\n",
    "    workers = 4\n",
    ")\n",
    "\n",
    "def embeddings(text, model):\n",
    "    vectors = []\n",
    "    for word in text:\n",
    "        if word in model.wv:\n",
    "            vectors.append(model.wv[word])\n",
    "    if vectors:\n",
    "        return np.mean(vectors, axis = 0)\n",
    "    else:\n",
    "        return np.zeros(model.vector_size)"
   ]
  },
  {
   "cell_type": "code",
   "execution_count": 6,
   "id": "e99746b3-7720-4ee5-84be-4308d9a2a0c6",
   "metadata": {},
   "outputs": [],
   "source": [
    "# Converting training texts to embeddings\n",
    "\n",
    "x_train = []\n",
    "for text in train_data[\"preprocessed_text\"]:\n",
    "    embedding = embeddings(text, word2Vec)\n",
    "    x_train.append(embedding)\n",
    "x_train = np.array(x_train)\n",
    "y_train = train_data[\"label\"].values"
   ]
  },
  {
   "cell_type": "code",
   "execution_count": 7,
   "id": "514e4439-3a65-40fc-b690-d44151b85edd",
   "metadata": {},
   "outputs": [],
   "source": [
    "# Converting testing texts to embeddings\n",
    "\n",
    "x_test = []\n",
    "for text in test_data[\"preprocessed_text\"]:\n",
    "    embedding = embeddings(text, word2Vec)\n",
    "    x_test.append(embedding)\n",
    "x_test = np.array(x_test)\n",
    "y_test = test_data[\"label\"].values"
   ]
  },
  {
   "cell_type": "code",
   "execution_count": 8,
   "id": "be2f1724-7653-4315-a159-eec556f36c95",
   "metadata": {},
   "outputs": [],
   "source": [
    "# Scaling the data\n",
    "\n",
    "scaler = StandardScaler()\n",
    "x_train_scaled = scaler.fit_transform(x_train)\n",
    "x_test_scaled = scaler.transform(x_test)"
   ]
  },
  {
   "cell_type": "code",
   "execution_count": 9,
   "id": "94f99550",
   "metadata": {},
   "outputs": [],
   "source": [
    "# initializing weights and bias\n",
    "\n",
    "np.random.seed(seed)\n",
    "n_examples, n_features = x_train_scaled.shape\n",
    "w = np.zeros(n_features)\n",
    "b = 0"
   ]
  },
  {
   "cell_type": "code",
   "execution_count": 10,
   "id": "03a2ef78",
   "metadata": {},
   "outputs": [
    {
     "name": "stderr",
     "output_type": "stream",
     "text": [
      "epoch 1: 100%|██████████| 36997/36997 [00:00<00:00, 459294.16it/s]\n"
     ]
    },
    {
     "name": "stdout",
     "output_type": "stream",
     "text": [
      "Epoch 1: Errors = 1211\n"
     ]
    },
    {
     "name": "stderr",
     "output_type": "stream",
     "text": [
      "epoch 2: 100%|██████████| 36997/36997 [00:00<00:00, 466970.60it/s]\n"
     ]
    },
    {
     "name": "stdout",
     "output_type": "stream",
     "text": [
      "Epoch 2: Errors = 996\n"
     ]
    },
    {
     "name": "stderr",
     "output_type": "stream",
     "text": [
      "epoch 3: 100%|██████████| 36997/36997 [00:00<00:00, 465262.47it/s]\n"
     ]
    },
    {
     "name": "stdout",
     "output_type": "stream",
     "text": [
      "Epoch 3: Errors = 987\n"
     ]
    },
    {
     "name": "stderr",
     "output_type": "stream",
     "text": [
      "epoch 4: 100%|██████████| 36997/36997 [00:00<00:00, 465018.47it/s]\n"
     ]
    },
    {
     "name": "stdout",
     "output_type": "stream",
     "text": [
      "Epoch 4: Errors = 914\n"
     ]
    },
    {
     "name": "stderr",
     "output_type": "stream",
     "text": [
      "epoch 5: 100%|██████████| 36997/36997 [00:00<00:00, 465752.63it/s]\n"
     ]
    },
    {
     "name": "stdout",
     "output_type": "stream",
     "text": [
      "Epoch 5: Errors = 979\n"
     ]
    },
    {
     "name": "stderr",
     "output_type": "stream",
     "text": [
      "epoch 6: 100%|██████████| 36997/36997 [00:00<00:00, 464684.27it/s]\n"
     ]
    },
    {
     "name": "stdout",
     "output_type": "stream",
     "text": [
      "Epoch 6: Errors = 919\n"
     ]
    },
    {
     "name": "stderr",
     "output_type": "stream",
     "text": [
      "epoch 7: 100%|██████████| 36997/36997 [00:00<00:00, 467234.94it/s]\n"
     ]
    },
    {
     "name": "stdout",
     "output_type": "stream",
     "text": [
      "Epoch 7: Errors = 926\n"
     ]
    },
    {
     "name": "stderr",
     "output_type": "stream",
     "text": [
      "epoch 8: 100%|██████████| 36997/36997 [00:00<00:00, 464559.07it/s]\n"
     ]
    },
    {
     "name": "stdout",
     "output_type": "stream",
     "text": [
      "Epoch 8: Errors = 925\n"
     ]
    },
    {
     "name": "stderr",
     "output_type": "stream",
     "text": [
      "epoch 9: 100%|██████████| 36997/36997 [00:00<00:00, 466428.80it/s]\n"
     ]
    },
    {
     "name": "stdout",
     "output_type": "stream",
     "text": [
      "Epoch 9: Errors = 920\n"
     ]
    },
    {
     "name": "stderr",
     "output_type": "stream",
     "text": [
      "epoch 10: 100%|██████████| 36997/36997 [00:00<00:00, 463636.04it/s]"
     ]
    },
    {
     "name": "stdout",
     "output_type": "stream",
     "text": [
      "Epoch 10: Errors = 922\n"
     ]
    },
    {
     "name": "stderr",
     "output_type": "stream",
     "text": [
      "\n"
     ]
    }
   ],
   "source": [
    "# Training the perceptron\n",
    "\n",
    "n_epochs = 10\n",
    "indices = np.arange(n_examples)\n",
    "recorder.record_training_start()\n",
    "for epoch in range(n_epochs):\n",
    "    n_errors = 0\n",
    "    np.random.shuffle(indices)\n",
    "    for i in tqdm(indices, desc=f'epoch {epoch + 1}'):\n",
    "        x = x_train_scaled[i]\n",
    "        y_true = y_train[i]\n",
    "        score = x @ w + b\n",
    "        y_pred = 1 if score > 0 else 0\n",
    "        if y_true != y_pred:\n",
    "            if y_true == 1:\n",
    "                w += x\n",
    "                b += 1\n",
    "            else:\n",
    "                w -= x\n",
    "                b -= 1\n",
    "            n_errors += 1\n",
    "    print(f\"Epoch {epoch + 1}: Errors = {n_errors}\")\n",
    "    if n_errors == 0:\n",
    "        break\n",
    "recorder.record_training_stop()"
   ]
  },
  {
   "cell_type": "code",
   "execution_count": 11,
   "id": "56fdb2bf",
   "metadata": {},
   "outputs": [],
   "source": [
    "# Testing the perceptron\n",
    "\n",
    "recorder.record_testing_start()\n",
    "y_pred = (np.dot(x_test_scaled, w) + b) > 0\n",
    "recorder.record_testing_stop()"
   ]
  },
  {
   "cell_type": "code",
   "execution_count": 12,
   "id": "11822495",
   "metadata": {},
   "outputs": [],
   "source": [
    "def binary_classification_report(y_true, y_pred):\n",
    "    # count true positives, false positives, true negatives, and false negatives\n",
    "    tp = fp = tn = fn = 0\n",
    "    for gold, pred in zip(y_true, y_pred):\n",
    "        if pred == True:\n",
    "            if gold == True:\n",
    "                tp += 1\n",
    "            else:\n",
    "                fp += 1\n",
    "        else:\n",
    "            if gold == False:\n",
    "                tn += 1\n",
    "            else:\n",
    "                fn += 1\n",
    "    # calculate precision and recall\n",
    "    precision = tp / (tp + fp) if (tp + fp) > 0 else 0\n",
    "    recall = tp / (tp + fn) if (tp + fn) > 0 else 0\n",
    "    # calculate f1 score\n",
    "    fscore = 2 * precision * recall / (precision + recall) if (precision + recall) > 0 else 0\n",
    "    # calculate accuracy\n",
    "    accuracy = (tp + tn) / len(y_true)\n",
    "    # number of positive labels in y_true\n",
    "    support = sum(y_true)\n",
    "    return {\n",
    "        \"precision\": precision,\n",
    "        \"recall\": recall,\n",
    "        \"f1-score\": fscore,\n",
    "        \"support\": support,\n",
    "        \"accuracy\": accuracy,\n",
    "    }"
   ]
  },
  {
   "cell_type": "code",
   "execution_count": 13,
   "id": "b9f53d07",
   "metadata": {
    "tags": []
   },
   "outputs": [
    {
     "name": "stdout",
     "output_type": "stream",
     "text": [
      "{'precision': 0.9792215393620135, 'recall': 0.9740902474526929, 'f1-score': 0.9766491535318155, 'support': 3435, 'accuracy': 0.9767103347889374}\n"
     ]
    }
   ],
   "source": [
    "# Recording results\n",
    "\n",
    "report = binary_classification_report(y_test == 1, y_pred)\n",
    "print(report)\n",
    "recorder.record_performance(\n",
    "    y_true=y_test,\n",
    "    y_pred=y_pred,\n",
    "    target_names=[\"Not Bot\", \"Bot\"],\n",
    ")\n",
    "recorder.write(\"model_results.csv\")"
   ]
  }
 ],
 "metadata": {
  "kernelspec": {
   "display_name": "Python 3 (ipykernel)",
   "language": "python",
   "name": "python3"
  },
  "language_info": {
   "codemirror_mode": {
    "name": "ipython",
    "version": 3
   },
   "file_extension": ".py",
   "mimetype": "text/x-python",
   "name": "python",
   "nbconvert_exporter": "python",
   "pygments_lexer": "ipython3",
   "version": "3.11.6"
  }
 },
 "nbformat": 4,
 "nbformat_minor": 5
}
