{
 "cells": [
  {
   "cell_type": "code",
   "execution_count": null,
   "id": "444d56f2-18c7-46f7-a07b-0615129d922f",
   "metadata": {},
   "outputs": [],
   "source": []
  },
  {
   "cell_type": "code",
   "execution_count": null,
   "id": "065262c7-16a3-4b77-8c27-19108bdc1ac1",
   "metadata": {},
   "outputs": [],
   "source": [
    "import random\n",
    "import torch\n",
    "import numpy as np\n",
    "import pandas as pd\n",
    "from tqdm.notebook import tqdm\n",
    "from sklearn.metrics import classification_report\n",
    "from nltk.tokenize import word_tokenize\n",
    "from gensim.models import Word2Vec\n",
    "from utils.recorder_util import ModelResults\n",
    "\n",
    "# enable tqdm in pandas\n",
    "tqdm.pandas()\n",
    "\n",
    "# set to True to use the gpu (if there is one available)\n",
    "use_gpu = True\n",
    "\n",
    "\n",
    "\n",
    "# select device\n",
    "device = torch.device('cuda' if use_gpu and torch.cuda.is_available() else 'cpu')\n",
    "print(f'device: {device.type}')\n",
    "\n",
    "# random seed\n",
    "seed = 1234\n",
    "\n",
    "# set random seed\n",
    "if seed is not None:\n",
    "    print(f'random seed: {seed}')\n",
    "    random.seed(seed)\n",
    "    np.random.seed(seed)\n",
    "    torch.manual_seed(seed)\n",
    "\n",
    "\n",
    "recorder = ModelResults(\"LSTM_W2V\", \"Bryan Bielawa\", seed)\n"
   ]
  },
  {
   "cell_type": "code",
   "execution_count": null,
   "id": "b3def0cd-5bf4-41cd-aa7f-f11ca2bd76cb",
   "metadata": {},
   "outputs": [],
   "source": [
    "train_df = pd.read_csv('../../../trainData/trainData.csv', header=None)\n",
    "train_df"
   ]
  },
  {
   "cell_type": "code",
   "execution_count": null,
   "id": "cdb7b8ed-881a-4f4d-b21b-ed814db49dad",
   "metadata": {},
   "outputs": [],
   "source": [
    "#borrowing Noah's Word2Vec code\n",
    "# Preprocessing text by:\n",
    "#   1. lowercasing all letters and\n",
    "#   2. splitting all strings into a list of words.\n",
    "\n",
    "def preprocess_data(text):\n",
    "    lower_text = text.lower()\n",
    "    preprocessed = lower_text.split()\n",
    "    return preprocessed\n",
    "\n",
    "train_data[\"preprocessed_text\"] = (train_data[\"text\"]).apply(preprocess_data)\n",
    "test_data[\"preprocessed_text\"] = (test_data[\"text\"]).apply(preprocess_data)\n",
    "\n",
    "print(\"Preprocessed data:\")\n",
    "train_data.head()"
   ]
  },
  {
   "cell_type": "code",
   "execution_count": null,
   "id": "034e1fd0-341d-40c0-a821-77679bf7420a",
   "metadata": {},
   "outputs": [],
   "source": [
    "word2Vec = Word2Vec(\n",
    "    sentences = train_data[\"preprocessed_text\"], \n",
    "    vector_size = 100, \n",
    "    window = 5,\n",
    "    min_count = 1,\n",
    "    workers = 4)\n",
    "\n",
    "def get_embedding(text, model):\n",
    "    vectors = []\n",
    "    for word in text:\n",
    "        if word in model.wv:\n",
    "            vectors.append(model.wv[word])\n",
    "    if vectors:\n",
    "        return np.mean(vectors, axis = 0)\n",
    "    else:\n",
    "        return np.zeros(100)"
   ]
  },
  {
   "cell_type": "code",
   "execution_count": null,
   "id": "78504740-1f84-4a09-8347-017842812bc0",
   "metadata": {},
   "outputs": [],
   "source": []
  },
  {
   "cell_type": "code",
   "execution_count": null,
   "id": "2ff195f6-6084-4ab4-b473-05cb8a687cb6",
   "metadata": {},
   "outputs": [],
   "source": []
  }
 ],
 "metadata": {
  "kernelspec": {
   "display_name": "Python 3 (ipykernel)",
   "language": "python",
   "name": "python3"
  },
  "language_info": {
   "codemirror_mode": {
    "name": "ipython",
    "version": 3
   },
   "file_extension": ".py",
   "mimetype": "text/x-python",
   "name": "python",
   "nbconvert_exporter": "python",
   "pygments_lexer": "ipython3",
   "version": "3.11.10"
  }
 },
 "nbformat": 4,
 "nbformat_minor": 5
}
