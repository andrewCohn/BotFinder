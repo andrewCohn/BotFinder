{
 "cells": [
  {
   "cell_type": "code",
   "execution_count": null,
   "id": "444d56f2-18c7-46f7-a07b-0615129d922f",
   "metadata": {},
   "outputs": [],
   "source": []
  },
  {
   "cell_type": "code",
   "execution_count": null,
   "id": "065262c7-16a3-4b77-8c27-19108bdc1ac1",
   "metadata": {},
   "outputs": [],
   "source": [
    "import random\n",
    "import torch\n",
    "import numpy as np\n",
    "import pandas as pd\n",
    "from tqdm.notebook import tqdm\n",
    "from sklearn.metrics import classification_report\n",
    "from nltk.tokenize import word_tokenize\n",
    "from gensim.models import Word2Vec\n",
    "from utils.recorder_util import ModelResults\n",
    "from torch import nn, optim\n",
    "\n",
    "# enable tqdm in pandas\n",
    "tqdm.pandas()\n",
    "\n",
    "# set to True to use the gpu (if there is one available)\n",
    "use_gpu = True\n",
    "\n",
    "\n",
    "\n",
    "# select device\n",
    "device = torch.device('cuda' if use_gpu and torch.cuda.is_available() else 'cpu')\n",
    "print(f'device: {device.type}')\n",
    "\n",
    "# random seed\n",
    "seed = 1234\n",
    "\n",
    "# set random seed\n",
    "if seed is not None:\n",
    "    print(f'random seed: {seed}')\n",
    "    random.seed(seed)\n",
    "    np.random.seed(seed)\n",
    "    torch.manual_seed(seed)\n",
    "\n",
    "\n",
    "recorder = ModelResults(\"LSTM_W2V\", \"Bryan Bielawa\", seed)\n"
   ]
  },
  {
   "cell_type": "code",
   "execution_count": null,
   "id": "b3def0cd-5bf4-41cd-aa7f-f11ca2bd76cb",
   "metadata": {},
   "outputs": [],
   "source": [
    "train_df = pd.read_csv('../../../trainData/trainData.csv', header=None)\n",
    "train_df"
   ]
  },
  {
   "cell_type": "code",
   "execution_count": null,
   "id": "cdb7b8ed-881a-4f4d-b21b-ed814db49dad",
   "metadata": {},
   "outputs": [],
   "source": [
    "#borrowing Noah's Word2Vec code\n",
    "\n",
    "def preprocess_data(text):\n",
    "    lower_text = text.lower()\n",
    "    preprocessed = lower_text.split()\n",
    "    return preprocessed\n",
    "\n",
    "train_df[\"preprocessed_text\"] = (train_df[\"text\"]).apply(preprocess_data)"
   ]
  },
  {
   "cell_type": "code",
   "execution_count": null,
   "id": "78504740-1f84-4a09-8347-017842812bc0",
   "metadata": {},
   "outputs": [],
   "source": [
    "# Import pretrained word2vec model embeddings\n",
    "#using Andrew's embeddings code\n",
    "\n",
    "def get_embedding(text, embedding_layer, word_to_index):\n",
    "    # Convert words to indices and filter out words not in the vocabulary\n",
    "    indices = [word_to_index[word] for word in text if word in word_to_index]\n",
    "    \n",
    "    if indices:\n",
    "        # Convert to a tensor and pass through the embedding layer in one go\n",
    "        word_indices_tensor = torch.tensor(indices, device=device)\n",
    "        vectors = embedding_layer(word_indices_tensor).cpu().detach().numpy()\n",
    "        return np.mean(vectors, axis=0)\n",
    "    else:\n",
    "        return np.zeros(embedding_layer.embedding_dim)\n",
    "\n",
    "    \n",
    "# Load the word2vec model\n",
    "\n",
    "word2vec_embeddings =  np.load(\"../../../rawData/gloveEmbeds.npy\")\n",
    "word2vec_tensor = torch.tensor(word2vec_embeddings, dtype=torch.float32)\n",
    "embedding_layer = nn.Embedding.from_pretrained(word2vec_tensor, freeze=True).to(device)\n",
    "vocab = codecs.open(\"../../../rawData/vocab.txt\").read().split(\"\\n\")\n",
    "vocab_size = len(vocab)\n",
    "\n",
    "word_to_index = {word: i for i, word in enumerate(vocab)}\n",
    "x_train = np.array([get_embedding(text, embedding_layer, word_to_index) \n",
    "                    for text in train_df[\"preprocessed_text\"]])\n",
    "y_train = train_df[\"label\"].values\n",
    "x_train.shape, y_train.shape"
   ]
  },
  {
   "cell_type": "code",
   "execution_count": null,
   "id": "2ff195f6-6084-4ab4-b473-05cb8a687cb6",
   "metadata": {},
   "outputs": [],
   "source": []
  }
 ],
 "metadata": {
  "kernelspec": {
   "display_name": "Python 3 (ipykernel)",
   "language": "python",
   "name": "python3"
  },
  "language_info": {
   "codemirror_mode": {
    "name": "ipython",
    "version": 3
   },
   "file_extension": ".py",
   "mimetype": "text/x-python",
   "name": "python",
   "nbconvert_exporter": "python",
   "pygments_lexer": "ipython3",
   "version": "3.11.10"
  }
 },
 "nbformat": 4,
 "nbformat_minor": 5
}
