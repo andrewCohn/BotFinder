{
 "cells": [
  {
   "cell_type": "code",
   "execution_count": null,
   "id": "48fcff48-f30f-47b9-b07d-643ad1ef0bdb",
   "metadata": {},
   "outputs": [
    {
     "name": "stdout",
     "output_type": "stream",
     "text": [
      "Collecting gensim\n",
      "  Downloading gensim-4.3.3-cp311-cp311-manylinux_2_17_x86_64.manylinux2014_x86_64.whl.metadata (8.1 kB)\n",
      "Requirement already satisfied: numpy<2.0,>=1.18.5 in /opt/conda/lib/python3.11/site-packages (from gensim) (1.24.4)\n",
      "Requirement already satisfied: scipy<1.14.0,>=1.7.0 in /opt/conda/lib/python3.11/site-packages (from gensim) (1.11.3)\n",
      "Collecting smart-open>=1.8.1 (from gensim)\n",
      "  Downloading smart_open-7.0.5-py3-none-any.whl.metadata (24 kB)\n",
      "Collecting wrapt (from smart-open>=1.8.1->gensim)\n",
      "  Downloading wrapt-1.17.0-cp311-cp311-manylinux_2_5_x86_64.manylinux1_x86_64.manylinux_2_17_x86_64.manylinux2014_x86_64.whl.metadata (6.4 kB)\n",
      "Downloading gensim-4.3.3-cp311-cp311-manylinux_2_17_x86_64.manylinux2014_x86_64.whl (26.7 MB)\n",
      "\u001b[2K   \u001b[90m━━━━━━━━━━━━━━━━━━━━━━━━━━━━━━━━━━━━━━━━\u001b[0m \u001b[32m26.7/26.7 MB\u001b[0m \u001b[31m157.9 MB/s\u001b[0m eta \u001b[36m0:00:00\u001b[0m00:01\u001b[0m00:01\u001b[0m\n",
      "\u001b[?25hDownloading smart_open-7.0.5-py3-none-any.whl (61 kB)\n",
      "\u001b[2K   \u001b[90m━━━━━━━━━━━━━━━━━━━━━━━━━━━━━━━━━━━━━━━━\u001b[0m \u001b[32m61.4/61.4 kB\u001b[0m \u001b[31m27.7 MB/s\u001b[0m eta \u001b[36m0:00:00\u001b[0m\n",
      "\u001b[?25hDownloading wrapt-1.17.0-cp311-cp311-manylinux_2_5_x86_64.manylinux1_x86_64.manylinux_2_17_x86_64.manylinux2014_x86_64.whl (83 kB)\n",
      "\u001b[2K   \u001b[90m━━━━━━━━━━━━━━━━━━━━━━━━━━━━━━━━━━━━━━━━\u001b[0m \u001b[32m83.2/83.2 kB\u001b[0m \u001b[31m49.1 MB/s\u001b[0m eta \u001b[36m0:00:00\u001b[0m\n",
      "\u001b[?25hInstalling collected packages: wrapt, smart-open, gensim\n",
      "Successfully installed gensim-4.3.3 smart-open-7.0.5 wrapt-1.17.0\n"
     ]
    }
   ],
   "source": [
    "!pip install gensim"
   ]
  },
  {
   "cell_type": "code",
   "execution_count": 1,
   "id": "69329196-9ae3-4052-9089-2504554234bd",
   "metadata": {},
   "outputs": [],
   "source": [
    "# Package imports\n",
    "\n",
    "import sys\n",
    "sys.path.append(\"../../\")  \n",
    "\n",
    "from src.utils.recorder_util import ModelResults\n",
    "import pandas as pd\n",
    "from gensim.models import Word2Vec\n",
    "import numpy as np\n",
    "from sklearn.linear_model import Perceptron\n",
    "from sklearn.preprocessing import StandardScaler\n",
    "from sklearn.metrics import classification_report"
   ]
  },
  {
   "cell_type": "code",
   "execution_count": 2,
   "id": "b0de1ac5-f754-4be3-8ee8-d37662df4886",
   "metadata": {},
   "outputs": [],
   "source": [
    "# Initializing recorder results\n",
    "\n",
    "model_name = \"Single_Perceptron_Word2Vec\"\n",
    "author = \"Noah Sher\"\n",
    "seed = 123\n",
    "\n",
    "recorder = ModelResults(model_name, author, seed)"
   ]
  },
  {
   "cell_type": "code",
   "execution_count": 3,
   "id": "07d25eb9-838d-4139-815c-32ac55817cb9",
   "metadata": {},
   "outputs": [
    {
     "name": "stdout",
     "output_type": "stream",
     "text": [
      "Unprocessed data:\n"
     ]
    },
    {
     "data": {
      "text/html": [
       "<div>\n",
       "<style scoped>\n",
       "    .dataframe tbody tr th:only-of-type {\n",
       "        vertical-align: middle;\n",
       "    }\n",
       "\n",
       "    .dataframe tbody tr th {\n",
       "        vertical-align: top;\n",
       "    }\n",
       "\n",
       "    .dataframe thead th {\n",
       "        text-align: right;\n",
       "    }\n",
       "</style>\n",
       "<table border=\"1\" class=\"dataframe\">\n",
       "  <thead>\n",
       "    <tr style=\"text-align: right;\">\n",
       "      <th></th>\n",
       "      <th>label</th>\n",
       "      <th>source</th>\n",
       "      <th>text</th>\n",
       "    </tr>\n",
       "  </thead>\n",
       "  <tbody>\n",
       "    <tr>\n",
       "      <th>0</th>\n",
       "      <td>0</td>\n",
       "      <td>1</td>\n",
       "      <td>Help wanted!\\n\\nThe Seagoing Cowboys program i...</td>\n",
       "    </tr>\n",
       "    <tr>\n",
       "      <th>1</th>\n",
       "      <td>0</td>\n",
       "      <td>1</td>\n",
       "      <td>The system of the Electoral College is a widel...</td>\n",
       "    </tr>\n",
       "    <tr>\n",
       "      <th>2</th>\n",
       "      <td>1</td>\n",
       "      <td>1</td>\n",
       "      <td>The renowned British statesman Winston Churchi...</td>\n",
       "    </tr>\n",
       "    <tr>\n",
       "      <th>3</th>\n",
       "      <td>0</td>\n",
       "      <td>1</td>\n",
       "      <td>My grandfather would always say \"creativity is...</td>\n",
       "    </tr>\n",
       "    <tr>\n",
       "      <th>4</th>\n",
       "      <td>1</td>\n",
       "      <td>1</td>\n",
       "      <td>In my pursuit to become an assistant manager a...</td>\n",
       "    </tr>\n",
       "  </tbody>\n",
       "</table>\n",
       "</div>"
      ],
      "text/plain": [
       "   label  source                                               text\n",
       "0      0       1  Help wanted!\\n\\nThe Seagoing Cowboys program i...\n",
       "1      0       1  The system of the Electoral College is a widel...\n",
       "2      1       1  The renowned British statesman Winston Churchi...\n",
       "3      0       1  My grandfather would always say \"creativity is...\n",
       "4      1       1  In my pursuit to become an assistant manager a..."
      ]
     },
     "execution_count": 3,
     "metadata": {},
     "output_type": "execute_result"
    }
   ],
   "source": [
    "# Loading datasets\n",
    "\n",
    "train_data = pd.read_csv(\"../../trainData/trainData.csv\")\n",
    "test_data = pd.read_csv(\"../../testData/testData.csv\")\n",
    "\n",
    "print(\"Unprocessed data:\")\n",
    "train_data.head()"
   ]
  },
  {
   "cell_type": "code",
   "execution_count": 4,
   "id": "a4aa2922-c458-4d1c-895f-d70277cfea50",
   "metadata": {},
   "outputs": [
    {
     "name": "stdout",
     "output_type": "stream",
     "text": [
      "Preprocessed data:\n"
     ]
    },
    {
     "data": {
      "text/html": [
       "<div>\n",
       "<style scoped>\n",
       "    .dataframe tbody tr th:only-of-type {\n",
       "        vertical-align: middle;\n",
       "    }\n",
       "\n",
       "    .dataframe tbody tr th {\n",
       "        vertical-align: top;\n",
       "    }\n",
       "\n",
       "    .dataframe thead th {\n",
       "        text-align: right;\n",
       "    }\n",
       "</style>\n",
       "<table border=\"1\" class=\"dataframe\">\n",
       "  <thead>\n",
       "    <tr style=\"text-align: right;\">\n",
       "      <th></th>\n",
       "      <th>label</th>\n",
       "      <th>source</th>\n",
       "      <th>text</th>\n",
       "      <th>preprocessed_text</th>\n",
       "    </tr>\n",
       "  </thead>\n",
       "  <tbody>\n",
       "    <tr>\n",
       "      <th>0</th>\n",
       "      <td>0</td>\n",
       "      <td>1</td>\n",
       "      <td>Help wanted!\\n\\nThe Seagoing Cowboys program i...</td>\n",
       "      <td>[help, wanted!, the, seagoing, cowboys, progra...</td>\n",
       "    </tr>\n",
       "    <tr>\n",
       "      <th>1</th>\n",
       "      <td>0</td>\n",
       "      <td>1</td>\n",
       "      <td>The system of the Electoral College is a widel...</td>\n",
       "      <td>[the, system, of, the, electoral, college, is,...</td>\n",
       "    </tr>\n",
       "    <tr>\n",
       "      <th>2</th>\n",
       "      <td>1</td>\n",
       "      <td>1</td>\n",
       "      <td>The renowned British statesman Winston Churchi...</td>\n",
       "      <td>[the, renowned, british, statesman, winston, c...</td>\n",
       "    </tr>\n",
       "    <tr>\n",
       "      <th>3</th>\n",
       "      <td>0</td>\n",
       "      <td>1</td>\n",
       "      <td>My grandfather would always say \"creativity is...</td>\n",
       "      <td>[my, grandfather, would, always, say, \"creativ...</td>\n",
       "    </tr>\n",
       "    <tr>\n",
       "      <th>4</th>\n",
       "      <td>1</td>\n",
       "      <td>1</td>\n",
       "      <td>In my pursuit to become an assistant manager a...</td>\n",
       "      <td>[in, my, pursuit, to, become, an, assistant, m...</td>\n",
       "    </tr>\n",
       "  </tbody>\n",
       "</table>\n",
       "</div>"
      ],
      "text/plain": [
       "   label  source                                               text  \\\n",
       "0      0       1  Help wanted!\\n\\nThe Seagoing Cowboys program i...   \n",
       "1      0       1  The system of the Electoral College is a widel...   \n",
       "2      1       1  The renowned British statesman Winston Churchi...   \n",
       "3      0       1  My grandfather would always say \"creativity is...   \n",
       "4      1       1  In my pursuit to become an assistant manager a...   \n",
       "\n",
       "                                   preprocessed_text  \n",
       "0  [help, wanted!, the, seagoing, cowboys, progra...  \n",
       "1  [the, system, of, the, electoral, college, is,...  \n",
       "2  [the, renowned, british, statesman, winston, c...  \n",
       "3  [my, grandfather, would, always, say, \"creativ...  \n",
       "4  [in, my, pursuit, to, become, an, assistant, m...  "
      ]
     },
     "execution_count": 4,
     "metadata": {},
     "output_type": "execute_result"
    }
   ],
   "source": [
    "# Preprocessing text by:\n",
    "#   1. lowercasing all letters and\n",
    "#   2. splitting all strings into a list of words.\n",
    "\n",
    "def preprocess_data(text):\n",
    "    lower_text = text.lower()\n",
    "    preprocessed = lower_text.split()\n",
    "    return preprocessed\n",
    "\n",
    "train_data[\"preprocessed_text\"] = (train_data[\"text\"]).apply(preprocess_data)\n",
    "test_data[\"preprocessed_text\"] = (test_data[\"text\"]).apply(preprocess_data)\n",
    "\n",
    "print(\"Preprocessed data:\")\n",
    "train_data.head()"
   ]
  },
  {
   "cell_type": "code",
   "execution_count": 5,
   "id": "d1fac2b7-a8fd-45f2-b432-d8474f37649d",
   "metadata": {},
   "outputs": [],
   "source": [
    "# Training Word2Vec on the train_data\n",
    "\n",
    "word2Vec = Word2Vec(\n",
    "    sentences = train_data[\"preprocessed_text\"], \n",
    "    vector_size = 100, \n",
    "    window = 5,\n",
    "    min_count = 1,\n",
    "    workers = 4)\n",
    "\n",
    "def get_embedding(text, model):\n",
    "    vectors = []\n",
    "    for word in text:\n",
    "        if word in model.wv:\n",
    "            vectors.append(model.wv[word])\n",
    "    if vectors:\n",
    "        return np.mean(vectors, axis = 0)\n",
    "    else:\n",
    "        return np.zeros(100)\n",
    "\n",
    "# I am fitting a Word2Vec Model with my data."
   ]
  },
  {
   "cell_type": "code",
   "execution_count": 6,
   "id": "ed6daa3e-b5bb-4fb8-b762-d44835678fa0",
   "metadata": {},
   "outputs": [],
   "source": [
    "# Converting texts to embeddings for train_data and test_data\n",
    "\n",
    "x_train = np.array([get_embedding(text, word2Vec) \n",
    "                    for text in train_data[\"preprocessed_text\"]])\n",
    "y_train = (train_data[\"label\"]).values\n",
    "\n",
    "x_test = np.array([get_embedding(text, word2Vec) \n",
    "                    for text in test_data[\"preprocessed_text\"]])\n",
    "y_test = (test_data[\"label\"]).values"
   ]
  },
  {
   "cell_type": "code",
   "execution_count": 7,
   "id": "442140a4-aed4-4577-9629-7c41eb17fc0d",
   "metadata": {},
   "outputs": [],
   "source": [
    "# Scaling the model features \n",
    "scaler = StandardScaler()\n",
    "x_train_scaled = scaler.fit_transform(x_train)\n",
    "x_test_scaled = scaler.transform(x_test)"
   ]
  },
  {
   "cell_type": "code",
   "execution_count": 8,
   "id": "772f6a42-f613-4037-bdb4-2ce93c44125f",
   "metadata": {},
   "outputs": [],
   "source": [
    "# Initializing the Single Perceptron Model\n",
    "\n",
    "model = Perceptron(max_iter = 1000, random_state = seed)"
   ]
  },
  {
   "cell_type": "code",
   "execution_count": 9,
   "id": "6606247f-f1eb-4fe1-b9e6-03d44c7af375",
   "metadata": {},
   "outputs": [],
   "source": [
    "# Training on the scaled train_data\n",
    "\n",
    "recorder.record_training_start()\n",
    "model.fit(x_train_scaled, y_train)\n",
    "recorder.record_training_stop()"
   ]
  },
  {
   "cell_type": "code",
   "execution_count": 10,
   "id": "d3d2c406-dd81-4c62-888b-710c7e264663",
   "metadata": {},
   "outputs": [],
   "source": [
    "# Predicting the test_data\n",
    "\n",
    "recorder.record_testing_start()\n",
    "y_prediction = model.predict(x_test_scaled)\n",
    "recorder.record_testing_stop()"
   ]
  },
  {
   "cell_type": "code",
   "execution_count": 11,
   "id": "3c50b103-0580-45d4-a12f-ccbd81b44621",
   "metadata": {},
   "outputs": [],
   "source": [
    "# Evaluating the performance of the model\n",
    "target_names = [\"Not Bot\", \"Bot\"]\n",
    "recorder.record_performance(\n",
    "    y_true = y_test,\n",
    "    y_pred = y_prediction, \n",
    "    target_names = target_names)"
   ]
  },
  {
   "cell_type": "code",
   "execution_count": 12,
   "id": "10306491-6230-4b2a-9c10-15208cd7a312",
   "metadata": {},
   "outputs": [
    {
     "name": "stdout",
     "output_type": "stream",
     "text": [
      "Performance Summary:\n",
      "{'Not Bot': {'precision': 0.9406850459482038, 'recall': 0.9834061135371179, 'f1-score': 0.9615713065755764, 'support': 3435.0}, 'Bot': {'precision': 0.9826166514181153, 'recall': 0.9379912663755459, 'f1-score': 0.9597855227882037, 'support': 3435.0}, 'accuracy': 0.9606986899563319, 'macro avg': {'precision': 0.9616508486831595, 'recall': 0.9606986899563319, 'f1-score': 0.9606784146818901, 'support': 6870.0}, 'weighted avg': {'precision': 0.9616508486831596, 'recall': 0.9606986899563319, 'f1-score': 0.9606784146818901, 'support': 6870.0}}\n"
     ]
    }
   ],
   "source": [
    "# Output and saving results\n",
    "\n",
    "recorder.write(\"../model_results.csv\")\n",
    "print(\"Performance Summary:\")\n",
    "print(recorder.performance)"
   ]
  },
  {
   "cell_type": "code",
   "execution_count": null,
   "id": "29b04352-a0fa-4a17-990a-a78d79bca046",
   "metadata": {},
   "outputs": [],
   "source": []
  }
 ],
 "metadata": {
  "kernelspec": {
   "display_name": "Python 3",
   "language": "python",
   "name": "python3"
  },
  "language_info": {
   "codemirror_mode": {
    "name": "ipython",
    "version": 3
   },
   "file_extension": ".py",
   "mimetype": "text/x-python",
   "name": "python",
   "nbconvert_exporter": "python",
   "pygments_lexer": "ipython3",
   "version": "3.12.7"
  }
 },
 "nbformat": 4,
 "nbformat_minor": 5
}
