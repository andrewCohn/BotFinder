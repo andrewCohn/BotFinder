{
 "cells": [
  {
   "cell_type": "code",
   "execution_count": 1,
   "metadata": {},
   "outputs": [
    {
     "name": "stdout",
     "output_type": "stream",
     "text": [
      "device: cuda\n",
      "random seed: 123\n"
     ]
    }
   ],
   "source": [
    "import random\n",
    "import torch\n",
    "import numpy as np\n",
    "import pandas as pd\n",
    "from tqdm.notebook import tqdm\n",
    "from nltk.tokenize import word_tokenize\n",
    "from gensim.models import Word2Vec\n",
    "from sklearn.metrics import classification_report\n",
    "from torch import nn, optim\n",
    "import codecs\n",
    "import sys\n",
    "sys.path.append(\"../../\")  \n",
    "from utils.recorder_util import ModelResults\n",
    "\n",
    "# enable tqdm in pandas\n",
    "tqdm.pandas()\n",
    "\n",
    "# set to True to use the gpu (if there is one available)\n",
    "use_gpu = True\n",
    "\n",
    "# select device\n",
    "device = torch.device('cuda' if use_gpu and torch.cuda.is_available() else 'cpu')\n",
    "print(f'device: {device.type}')\n",
    "\n",
    "# random seed\n",
    "seed = 1234\n",
    "# Initializing recorder results\n",
    "\n",
    "model_name = \"FFNN_word2vec\"\n",
    "author = \"Andrew Cohn\"\n",
    "seed = 123\n",
    "\n",
    "recorder = ModelResults(model_name, author, seed)\n",
    "\n",
    "# set random seed\n",
    "if seed is not None:\n",
    "    print(f'random seed: {seed}')\n",
    "    random.seed(seed)\n",
    "    np.random.seed(seed)\n",
    "    torch.manual_seed(seed)"
   ]
  },
  {
   "cell_type": "markdown",
   "metadata": {},
   "source": [
    "Some basic initalization stuffs. Borrwing a lot from assn 3. Now, load our training data set:"
   ]
  },
  {
   "cell_type": "code",
   "execution_count": 2,
   "metadata": {},
   "outputs": [
    {
     "data": {
      "text/html": [
       "<div>\n",
       "<style scoped>\n",
       "    .dataframe tbody tr th:only-of-type {\n",
       "        vertical-align: middle;\n",
       "    }\n",
       "\n",
       "    .dataframe tbody tr th {\n",
       "        vertical-align: top;\n",
       "    }\n",
       "\n",
       "    .dataframe thead th {\n",
       "        text-align: right;\n",
       "    }\n",
       "</style>\n",
       "<table border=\"1\" class=\"dataframe\">\n",
       "  <thead>\n",
       "    <tr style=\"text-align: right;\">\n",
       "      <th></th>\n",
       "      <th>label</th>\n",
       "      <th>source</th>\n",
       "      <th>text</th>\n",
       "    </tr>\n",
       "  </thead>\n",
       "  <tbody>\n",
       "    <tr>\n",
       "      <th>0</th>\n",
       "      <td>0</td>\n",
       "      <td>1</td>\n",
       "      <td>Help wanted!\\n\\nThe Seagoing Cowboys program i...</td>\n",
       "    </tr>\n",
       "    <tr>\n",
       "      <th>1</th>\n",
       "      <td>0</td>\n",
       "      <td>1</td>\n",
       "      <td>The system of the Electoral College is a widel...</td>\n",
       "    </tr>\n",
       "    <tr>\n",
       "      <th>2</th>\n",
       "      <td>1</td>\n",
       "      <td>1</td>\n",
       "      <td>The renowned British statesman Winston Churchi...</td>\n",
       "    </tr>\n",
       "    <tr>\n",
       "      <th>3</th>\n",
       "      <td>0</td>\n",
       "      <td>1</td>\n",
       "      <td>My grandfather would always say \"creativity is...</td>\n",
       "    </tr>\n",
       "    <tr>\n",
       "      <th>4</th>\n",
       "      <td>1</td>\n",
       "      <td>1</td>\n",
       "      <td>In my pursuit to become an assistant manager a...</td>\n",
       "    </tr>\n",
       "  </tbody>\n",
       "</table>\n",
       "</div>"
      ],
      "text/plain": [
       "   label  source                                               text\n",
       "0      0       1  Help wanted!\\n\\nThe Seagoing Cowboys program i...\n",
       "1      0       1  The system of the Electoral College is a widel...\n",
       "2      1       1  The renowned British statesman Winston Churchi...\n",
       "3      0       1  My grandfather would always say \"creativity is...\n",
       "4      1       1  In my pursuit to become an assistant manager a..."
      ]
     },
     "execution_count": 2,
     "metadata": {},
     "output_type": "execute_result"
    }
   ],
   "source": [
    "train_df = pd.read_csv('../../../trainData/trainData.csv', header=0)\n",
    "train_df.head(5)"
   ]
  },
  {
   "cell_type": "markdown",
   "metadata": {},
   "source": [
    "I will now be borrowing some of Noah's code to preproccess the text, and train word 2 vec:\n",
    "\n"
   ]
  },
  {
   "cell_type": "code",
   "execution_count": 3,
   "metadata": {},
   "outputs": [],
   "source": [
    "def preprocess_data(text):\n",
    "    lower_text = text.lower()\n",
    "    preprocessed = lower_text.split()\n",
    "    return preprocessed\n",
    "\n",
    "train_df[\"preprocessed_text\"] = (train_df[\"text\"]).apply(preprocess_data)"
   ]
  },
  {
   "cell_type": "code",
   "execution_count": 4,
   "metadata": {},
   "outputs": [
    {
     "data": {
      "text/plain": [
       "((36997, 300), (36997,))"
      ]
     },
     "execution_count": 4,
     "metadata": {},
     "output_type": "execute_result"
    }
   ],
   "source": [
    "# Import pretrained word2vec model embeddings\n",
    "\n",
    "\n",
    "def get_embedding(text, embedding_layer, word_to_index):\n",
    "    # Convert words to indices and filter out words not in the vocabulary\n",
    "    indices = [word_to_index[word] for word in text if word in word_to_index]\n",
    "    \n",
    "    if indices:\n",
    "        # Convert to a tensor and pass through the embedding layer in one go\n",
    "        word_indices_tensor = torch.tensor(indices, device=device)\n",
    "        vectors = embedding_layer(word_indices_tensor).cpu().detach().numpy()\n",
    "        return np.mean(vectors, axis=0)\n",
    "    else:\n",
    "        return np.zeros(embedding_layer.embedding_dim)\n",
    "\n",
    "    \n",
    "# Load the word2vec model\n",
    "\n",
    "word2vec_embeddings =  np.load(\"../../../rawData/gloveEmbeds.npy\")\n",
    "word2vec_tensor = torch.tensor(word2vec_embeddings, dtype=torch.float32)\n",
    "embedding_layer = nn.Embedding.from_pretrained(word2vec_tensor, freeze=True).to(device)\n",
    "vocab = codecs.open(\"../../../rawData/vocab.txt\").read().split(\"\\n\")\n",
    "vocab_size = len(vocab)\n",
    "#searchVocab = set(vocab) # so we can search in O(1) time\n",
    "word_to_index = {word: i for i, word in enumerate(vocab)}\n",
    "x_train = np.array([get_embedding(text, embedding_layer, word_to_index) \n",
    "                    for text in train_df[\"preprocessed_text\"]])\n",
    "y_train = train_df[\"label\"].values\n",
    "x_train.shape, y_train.shape"
   ]
  },
  {
   "cell_type": "code",
   "execution_count": 5,
   "metadata": {},
   "outputs": [],
   "source": [
    "import torch.nn.functional as F\n",
    "class Model(nn.Module):\n",
    "    def __init__(self, input_dim, hidden_dim, hidden_dim2, output_dim, dropout):\n",
    "        super().__init__()\n",
    "        self.layers = nn.Sequential(\n",
    "            nn.Dropout(dropout),\n",
    "            nn.Linear(input_dim, hidden_dim),\n",
    "            nn.GELU(),\n",
    "            nn.Dropout(dropout),\n",
    "            nn.Linear(hidden_dim, hidden_dim2),\n",
    "            nn.GELU(),\n",
    "            nn.Linear(hidden_dim2,output_dim)\n",
    "        )\n",
    "        \n",
    "    def forward(self, x):\n",
    "        return self.layers(x)"
   ]
  },
  {
   "cell_type": "code",
   "execution_count": 6,
   "metadata": {},
   "outputs": [],
   "source": [
    "from torch.utils.data import Dataset\n",
    "\n",
    "class MyDataset(Dataset):\n",
    "    def __init__(self, x, y):\n",
    "        self.x = x\n",
    "        self.y = y\n",
    "\n",
    "    def __len__(self):\n",
    "        return len(self.x)\n",
    "\n",
    "    def __getitem__(self, index):\n",
    "        x = torch.zeros(vocab_size, dtype=torch.float32)\n",
    "        y = torch.tensor(self.y[index], dtype=torch.long)  # Ensure y is a tensor of type long\n",
    "        for k, v in enumerate(self.x[index]):  # Enumerate over the array\n",
    "            x[k] = float(v)\n",
    "        return x, y\n"
   ]
  },
  {
   "cell_type": "code",
   "execution_count": 7,
   "metadata": {},
   "outputs": [],
   "source": [
    "\n",
    "# hyperparameters\n",
    "lr = 1e-3\n",
    "weight_decay = 1e-5\n",
    "batch_size = 500\n",
    "shuffle = True\n",
    "n_epochs = 8\n",
    "input_dim = len(vocab)\n",
    "hidden_dim = 100\n",
    "hidden_dim2 = 50\n",
    "output_dim = 1\n",
    "dropout = 0.3\n"
   ]
  },
  {
   "cell_type": "code",
   "execution_count": 8,
   "metadata": {},
   "outputs": [],
   "source": [
    "from torch import optim\n",
    "from torch.utils.data import DataLoader\n",
    "from sklearn.metrics import accuracy_score\n",
    "\n",
    "\n",
    "# initialize the model, loss function, optimizer, and data-loader\n",
    "model = Model(input_dim, hidden_dim,hidden_dim2, output_dim, dropout).to(device)\n",
    "loss_func = nn.BCEWithLogitsLoss()\n",
    "optimizer = optim.Adam(\n",
    "    model.parameters(),\n",
    "    lr=lr,\n",
    "    weight_decay=weight_decay)\n",
    "train_ds = MyDataset(\n",
    "    x_train,\n",
    "    y_train)\n",
    "train_dl = DataLoader(\n",
    "    train_ds,\n",
    "    batch_size=batch_size,\n",
    "    shuffle=shuffle)\n",
    "\n",
    "\n",
    "\n",
    "# lists used to store plotting data\n",
    "train_loss, train_acc = [], []\n"
   ]
  },
  {
   "cell_type": "code",
   "execution_count": 9,
   "metadata": {},
   "outputs": [
    {
     "data": {
      "application/vnd.jupyter.widget-view+json": {
       "model_id": "3eea1f3d77974a0f8ad9132f1f14adb6",
       "version_major": 2,
       "version_minor": 0
      },
      "text/plain": [
       "epoch 1 (train):   0%|          | 0/74 [00:00<?, ?it/s]"
      ]
     },
     "metadata": {},
     "output_type": "display_data"
    },
    {
     "data": {
      "application/vnd.jupyter.widget-view+json": {
       "model_id": "76644a1db7f74cd18b008c6e251df1be",
       "version_major": 2,
       "version_minor": 0
      },
      "text/plain": [
       "epoch 2 (train):   0%|          | 0/74 [00:00<?, ?it/s]"
      ]
     },
     "metadata": {},
     "output_type": "display_data"
    },
    {
     "data": {
      "application/vnd.jupyter.widget-view+json": {
       "model_id": "2727d8ae986f4f15aed2ef97c6dbc0f7",
       "version_major": 2,
       "version_minor": 0
      },
      "text/plain": [
       "epoch 3 (train):   0%|          | 0/74 [00:00<?, ?it/s]"
      ]
     },
     "metadata": {},
     "output_type": "display_data"
    },
    {
     "data": {
      "application/vnd.jupyter.widget-view+json": {
       "model_id": "b4fdb5d42a6b4f83a4844703d624b5df",
       "version_major": 2,
       "version_minor": 0
      },
      "text/plain": [
       "epoch 4 (train):   0%|          | 0/74 [00:00<?, ?it/s]"
      ]
     },
     "metadata": {},
     "output_type": "display_data"
    },
    {
     "data": {
      "application/vnd.jupyter.widget-view+json": {
       "model_id": "15865bacb6fe4b9c9bfa909f70f610db",
       "version_major": 2,
       "version_minor": 0
      },
      "text/plain": [
       "epoch 5 (train):   0%|          | 0/74 [00:00<?, ?it/s]"
      ]
     },
     "metadata": {},
     "output_type": "display_data"
    },
    {
     "data": {
      "application/vnd.jupyter.widget-view+json": {
       "model_id": "a071e935a9fc49b4a0f34de4da96c804",
       "version_major": 2,
       "version_minor": 0
      },
      "text/plain": [
       "epoch 6 (train):   0%|          | 0/74 [00:00<?, ?it/s]"
      ]
     },
     "metadata": {},
     "output_type": "display_data"
    },
    {
     "data": {
      "application/vnd.jupyter.widget-view+json": {
       "model_id": "1cb562e8a20742889ce46634e14a30f8",
       "version_major": 2,
       "version_minor": 0
      },
      "text/plain": [
       "epoch 7 (train):   0%|          | 0/74 [00:00<?, ?it/s]"
      ]
     },
     "metadata": {},
     "output_type": "display_data"
    },
    {
     "data": {
      "application/vnd.jupyter.widget-view+json": {
       "model_id": "e066f095e8dd473696a923cea44435e8",
       "version_major": 2,
       "version_minor": 0
      },
      "text/plain": [
       "epoch 8 (train):   0%|          | 0/74 [00:00<?, ?it/s]"
      ]
     },
     "metadata": {},
     "output_type": "display_data"
    }
   ],
   "source": [
    "recorder.record_training_start()\n",
    "for epoch in range(n_epochs):\n",
    "    losses, acc = [], []\n",
    "    model.train()\n",
    "\n",
    "    for X, y_true in tqdm(train_dl, desc=f'epoch {epoch+1} (train)'):\n",
    "        \n",
    "        \n",
    "        # Ensure y_true is a tensor\n",
    "        if not isinstance(y_true, torch.Tensor):\n",
    "            y_true = torch.tensor(y_true, dtype=torch.long).to(device)\n",
    "\n",
    "        # Move data to the correct device\n",
    "        X = X.to(device)\n",
    "        y_true = y_true.to(device)\n",
    "\n",
    "        # Clear gradients\n",
    "        model.zero_grad()\n",
    "\n",
    "        # Predict label scores\n",
    "        y_pred = model(X)\n",
    "        y_true = y_true.unsqueeze(1).float()\n",
    "        # Compute loss\n",
    "        loss = loss_func(y_pred, y_true)\n",
    "\n",
    "        # Backpropagation and optimization\n",
    "        loss.backward()\n",
    "        optimizer.step()\n",
    "\n",
    "        # Metrics\n",
    "        pred = (torch.sigmoid(y_pred) > 0.5).long()\n",
    "        acc.append((pred == y_true).float().mean().item())\n",
    "        losses.append(loss.detach().cpu().item())\n",
    "\n",
    "    train_loss.append(np.mean(losses))\n",
    "    train_acc.append(np.mean(acc))\n",
    "recorder.record_training_stop()\n",
    "\n"
   ]
  },
  {
   "cell_type": "code",
   "execution_count": 10,
   "metadata": {},
   "outputs": [
    {
     "name": "stdout",
     "output_type": "stream",
     "text": [
      "[np.float64(0.5351656087346979), np.float64(0.3309503189615301), np.float64(0.3032428296031179), np.float64(0.28590212319348307), np.float64(0.2799826961111378), np.float64(0.276570429673066), np.float64(0.26796622010501653), np.float64(0.26424177917274266)]\n"
     ]
    },
    {
     "data": {
      "image/png": "[encoded data removed]",
      "text/plain": [
       "<Figure size 640x480 with 1 Axes>"
      ]
     },
     "metadata": {},
     "output_type": "display_data"
    }
   ],
   "source": [
    "import matplotlib.pyplot as plt\n",
    "\n",
    "x = np.arange(n_epochs) + 1\n",
    "print(train_loss)\n",
    "plt.plot(x, train_loss)\n",
    "\n",
    "plt.legend(['train', 'dev'])\n",
    "plt.xlabel('epoch')\n",
    "plt.ylabel('loss')\n",
    "plt.grid(True)"
   ]
  },
  {
   "cell_type": "code",
   "execution_count": 11,
   "metadata": {},
   "outputs": [
    {
     "data": {
      "image/png": "[encoded data removed]",
      "text/plain": [
       "<Figure size 640x480 with 1 Axes>"
      ]
     },
     "metadata": {},
     "output_type": "display_data"
    }
   ],
   "source": [
    "plt.plot(x, train_acc)\n",
    "\n",
    "plt.legend(['train', 'dev'])\n",
    "plt.xlabel('epoch')\n",
    "plt.ylabel('accuracy')\n",
    "plt.grid(True)"
   ]
  },
  {
   "cell_type": "code",
   "execution_count": 12,
   "metadata": {},
   "outputs": [
    {
     "data": {
      "text/plain": [
       "((6870, 300), (6870,))"
      ]
     },
     "execution_count": 12,
     "metadata": {},
     "output_type": "execute_result"
    }
   ],
   "source": [
    "# repeat all preprocessing done above, this time on the test set\n",
    "test_df = pd.read_csv('../../../testData/testData.csv', header=0)\n",
    "test_df[\"preprocessed_text\"] = (test_df[\"text\"]).apply(preprocess_data)\n",
    "x_test = np.array([get_embedding(text, embedding_layer, word_to_index) \n",
    "                    for text in test_df[\"preprocessed_text\"]])\n",
    "y_test = test_df[\"label\"].values\n",
    "x_test.shape, y_test.shape\n"
   ]
  },
  {
   "cell_type": "code",
   "execution_count": 13,
   "metadata": {},
   "outputs": [
    {
     "data": {
      "application/vnd.jupyter.widget-view+json": {
       "model_id": "f084c81d90e345288244f80eff80a691",
       "version_major": 2,
       "version_minor": 0
      },
      "text/plain": [
       "  0%|          | 0/14 [00:00<?, ?it/s]"
      ]
     },
     "metadata": {},
     "output_type": "display_data"
    },
    {
     "name": "stdout",
     "output_type": "stream",
     "text": [
      "              precision    recall  f1-score   support\n",
      "\n",
      "       human       0.80      0.99      0.88      3435\n",
      "         bot       0.98      0.75      0.85      3435\n",
      "\n",
      "    accuracy                           0.87      6870\n",
      "   macro avg       0.89      0.87      0.87      6870\n",
      "weighted avg       0.89      0.87      0.87      6870\n",
      "\n"
     ]
    }
   ],
   "source": [
    "from sklearn.metrics import classification_report\n",
    "\n",
    "# set model to evaluation mode\n",
    "model.eval()\n",
    "\n",
    "dataset = MyDataset(x_test, y_test)\n",
    "data_loader = DataLoader(dataset, batch_size=batch_size)\n",
    "y_pred = []\n",
    "\n",
    "# disable gradient calculation\n",
    "with torch.no_grad():\n",
    "    recorder.record_testing_start()\n",
    "    for X, _ in tqdm(data_loader):\n",
    "        X = X.to(device)\n",
    "        # Predict the probability\n",
    "        y_pred_prob = model(X).squeeze()  # output probabilities (shape: [batch_size])\n",
    "        \n",
    "        # Convert probabilities to binary class labels (0 or 1)\n",
    "        y_pred_binary = (y_pred_prob > 0.5).int()  # 1 if probability > 0.5, else 0\n",
    "        \n",
    "        # Collect predictions\n",
    "        y_pred.append(y_pred_binary.cpu().numpy())\n",
    "    recorder.record_testing_stop()\n",
    "# Convert the list of predictions to a numpy array\n",
    "y_pred = np.concatenate(y_pred)\n",
    "\n",
    "# Get the true labels\n",
    "y_true = dataset.y\n",
    "recorder.record_performance(y_pred, y_true,None)\n",
    "\n",
    "# Print the classification report\n",
    "print(classification_report(y_true, y_pred, target_names=['human', 'bot']))\n",
    "recorder.write(\"FFNN.csv\")\n"
   ]
  }
 ],
 "metadata": {
  "kernelspec": {
   "display_name": "Python 3",
   "language": "python",
   "name": "python3"
  },
  "language_info": {
   "codemirror_mode": {
    "name": "ipython",
    "version": 3
   },
   "file_extension": ".py",
   "mimetype": "text/x-python",
   "name": "python",
   "nbconvert_exporter": "python",
   "pygments_lexer": "ipython3",
   "version": "3.12.7"
  }
 },
 "nbformat": 4,
 "nbformat_minor": 2
}
