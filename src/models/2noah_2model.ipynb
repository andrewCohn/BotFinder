{
 "cells": [
  {
   "cell_type": "markdown",
   "id": "f3f20b9c",
   "metadata": {},
   "source": [
    "# 2 Single 2 Perceptron"
   ]
  },
  {
   "cell_type": "code",
   "execution_count": 1,
   "id": "dadec002",
   "metadata": {},
   "outputs": [
    {
     "name": "stdout",
     "output_type": "stream",
     "text": [
      "no change     /home/andrew/anaconda3/condabin/conda\n",
      "no change     /home/andrew/anaconda3/bin/conda\n",
      "no change     /home/andrew/anaconda3/bin/conda-env\n",
      "no change     /home/andrew/anaconda3/bin/activate\n",
      "no change     /home/andrew/anaconda3/bin/deactivate\n",
      "no change     /home/andrew/anaconda3/etc/profile.d/conda.sh\n",
      "no change     /home/andrew/anaconda3/etc/fish/conf.d/conda.fish\n",
      "no change     /home/andrew/anaconda3/shell/condabin/Conda.psm1\n",
      "no change     /home/andrew/anaconda3/shell/condabin/conda-hook.ps1\n",
      "no change     /home/andrew/anaconda3/lib/python3.11/site-packages/xontrib/conda.xsh\n",
      "no change     /home/andrew/anaconda3/etc/profile.d/conda.csh\n",
      "no change     /home/andrew/.bashrc\n",
      "No action taken.\n",
      "\n",
      "Note: you may need to restart the kernel to use updated packages.\n",
      "\n",
      "CondaError: Run 'conda init' before 'conda activate'\n",
      "\n",
      "\n",
      "Note: you may need to restart the kernel to use updated packages.\n"
     ]
    }
   ],
   "source": [
    "%conda init\n",
    "%conda activate nlp"
   ]
  },
  {
   "cell_type": "code",
   "execution_count": 2,
   "id": "8d275a8d-a544-44f3-8ba0-9d17a8fca1f2",
   "metadata": {},
   "outputs": [
    {
     "name": "stdout",
     "output_type": "stream",
     "text": [
      "Requirement already satisfied: gensim in /home/andrew/anaconda3/envs/nlp/lib/python3.12/site-packages (4.3.3)\n",
      "Requirement already satisfied: numpy<2.0,>=1.18.5 in /home/andrew/anaconda3/envs/nlp/lib/python3.12/site-packages (from gensim) (1.26.4)\n",
      "Requirement already satisfied: scipy<1.14.0,>=1.7.0 in /home/andrew/anaconda3/envs/nlp/lib/python3.12/site-packages (from gensim) (1.13.1)\n",
      "Requirement already satisfied: smart-open>=1.8.1 in /home/andrew/anaconda3/envs/nlp/lib/python3.12/site-packages (from gensim) (5.2.1)\n",
      "Note: you may need to restart the kernel to use updated packages.\n",
      "Requirement already satisfied: nltk in /home/andrew/anaconda3/envs/nlp/lib/python3.12/site-packages (3.9.1)\n",
      "Requirement already satisfied: click in /home/andrew/anaconda3/envs/nlp/lib/python3.12/site-packages (from nltk) (8.1.7)\n",
      "Requirement already satisfied: joblib in /home/andrew/anaconda3/envs/nlp/lib/python3.12/site-packages (from nltk) (1.4.2)\n",
      "Requirement already satisfied: regex>=2021.8.3 in /home/andrew/anaconda3/envs/nlp/lib/python3.12/site-packages (from nltk) (2024.9.11)\n",
      "Requirement already satisfied: tqdm in /home/andrew/anaconda3/envs/nlp/lib/python3.12/site-packages (from nltk) (4.67.1)\n",
      "Note: you may need to restart the kernel to use updated packages.\n",
      "Requirement already satisfied: kagglehub in /home/andrew/anaconda3/envs/nlp/lib/python3.12/site-packages (0.3.5)\n",
      "Requirement already satisfied: packaging in /home/andrew/anaconda3/envs/nlp/lib/python3.12/site-packages (from kagglehub) (24.2)\n",
      "Requirement already satisfied: requests in /home/andrew/anaconda3/envs/nlp/lib/python3.12/site-packages (from kagglehub) (2.32.3)\n",
      "Requirement already satisfied: tqdm in /home/andrew/anaconda3/envs/nlp/lib/python3.12/site-packages (from kagglehub) (4.67.1)\n",
      "Requirement already satisfied: charset-normalizer<4,>=2 in /home/andrew/anaconda3/envs/nlp/lib/python3.12/site-packages (from requests->kagglehub) (3.4.0)\n",
      "Requirement already satisfied: idna<4,>=2.5 in /home/andrew/anaconda3/envs/nlp/lib/python3.12/site-packages (from requests->kagglehub) (3.10)\n",
      "Requirement already satisfied: urllib3<3,>=1.21.1 in /home/andrew/anaconda3/envs/nlp/lib/python3.12/site-packages (from requests->kagglehub) (2.2.3)\n",
      "Requirement already satisfied: certifi>=2017.4.17 in /home/andrew/anaconda3/envs/nlp/lib/python3.12/site-packages (from requests->kagglehub) (2024.8.30)\n",
      "Note: you may need to restart the kernel to use updated packages.\n",
      "Requirement already satisfied: scipy in /home/andrew/anaconda3/envs/nlp/lib/python3.12/site-packages (1.13.1)\n",
      "Requirement already satisfied: numpy<2.3,>=1.22.4 in /home/andrew/anaconda3/envs/nlp/lib/python3.12/site-packages (from scipy) (1.26.4)\n",
      "Note: you may need to restart the kernel to use updated packages.\n",
      "Requirement already satisfied: scikit-learn in /home/andrew/anaconda3/envs/nlp/lib/python3.12/site-packages (1.6.0)\n",
      "Requirement already satisfied: numpy>=1.19.5 in /home/andrew/anaconda3/envs/nlp/lib/python3.12/site-packages (from scikit-learn) (1.26.4)\n",
      "Requirement already satisfied: scipy>=1.6.0 in /home/andrew/anaconda3/envs/nlp/lib/python3.12/site-packages (from scikit-learn) (1.13.1)\n",
      "Requirement already satisfied: joblib>=1.2.0 in /home/andrew/anaconda3/envs/nlp/lib/python3.12/site-packages (from scikit-learn) (1.4.2)\n",
      "Requirement already satisfied: threadpoolctl>=3.1.0 in /home/andrew/anaconda3/envs/nlp/lib/python3.12/site-packages (from scikit-learn) (3.5.0)\n",
      "Note: you may need to restart the kernel to use updated packages.\n"
     ]
    }
   ],
   "source": [
    "%pip install gensim\n",
    "%pip install nltk\n",
    "%pip install kagglehub\n",
    "%pip install scipy\n",
    "%pip install scikit-learn"
   ]
  },
  {
   "cell_type": "code",
   "execution_count": 3,
   "id": "d561a30b",
   "metadata": {},
   "outputs": [
    {
     "name": "stderr",
     "output_type": "stream",
     "text": [
      "/home/andrew/anaconda3/envs/nlp/lib/python3.12/site-packages/tqdm/auto.py:21: TqdmWarning: IProgress not found. Please update jupyter and ipywidgets. See https://ipywidgets.readthedocs.io/en/stable/user_install.html\n",
      "  from .autonotebook import tqdm as notebook_tqdm\n"
     ]
    }
   ],
   "source": [
    "# Package imports\n",
    "\n",
    "import sys\n",
    "sys.path.append(\"../../\")  \n",
    "from src.utils.recorder_util import ModelResults\n",
    "import pandas as pd\n",
    "import numpy as np\n",
    "from sklearn.preprocessing import StandardScaler\n",
    "from sklearn.metrics import classification_report\n",
    "from tqdm import tqdm\n",
    "from gensim.models import KeyedVectors\n",
    "from nltk.tokenize import word_tokenize\n",
    "import kagglehub\n",
    "import os"
   ]
  },
  {
   "cell_type": "code",
   "execution_count": 4,
   "id": "edb4d0bb",
   "metadata": {},
   "outputs": [],
   "source": [
    "# Initializing recorder results\n",
    "\n",
    "model_name = \"2_Single_2Perceptron_Word2Vec\"\n",
    "author = \"Noah Sher\"\n",
    "seed = 123\n",
    "recorder = ModelResults(model_name, author, seed)"
   ]
  },
  {
   "cell_type": "code",
   "execution_count": 5,
   "id": "18cb65f2",
   "metadata": {},
   "outputs": [],
   "source": [
    "# Loading datasets\n",
    "\n",
    "train_data = pd.read_csv(\"../../trainData/trainData.csv\")\n",
    "test_data = pd.read_csv(\"../../testData/testData.csv\")\n",
    "#test_data = pd.read_csv(\"CHATGPT_test.csv\")"
   ]
  },
  {
   "cell_type": "code",
   "execution_count": 6,
   "id": "f788b420-5bbe-4c9d-9021-2025fbb9c323",
   "metadata": {},
   "outputs": [
    {
     "name": "stdout",
     "output_type": "stream",
     "text": [
      "Unprocessed train_data:\n"
     ]
    },
    {
     "data": {
      "text/html": [
       "<div>\n",
       "<style scoped>\n",
       "    .dataframe tbody tr th:only-of-type {\n",
       "        vertical-align: middle;\n",
       "    }\n",
       "\n",
       "    .dataframe tbody tr th {\n",
       "        vertical-align: top;\n",
       "    }\n",
       "\n",
       "    .dataframe thead th {\n",
       "        text-align: right;\n",
       "    }\n",
       "</style>\n",
       "<table border=\"1\" class=\"dataframe\">\n",
       "  <thead>\n",
       "    <tr style=\"text-align: right;\">\n",
       "      <th></th>\n",
       "      <th>label</th>\n",
       "      <th>source</th>\n",
       "      <th>text</th>\n",
       "    </tr>\n",
       "  </thead>\n",
       "  <tbody>\n",
       "    <tr>\n",
       "      <th>0</th>\n",
       "      <td>0</td>\n",
       "      <td>1</td>\n",
       "      <td>Help wanted!\\n\\nThe Seagoing Cowboys program i...</td>\n",
       "    </tr>\n",
       "    <tr>\n",
       "      <th>1</th>\n",
       "      <td>0</td>\n",
       "      <td>1</td>\n",
       "      <td>The system of the Electoral College is a widel...</td>\n",
       "    </tr>\n",
       "    <tr>\n",
       "      <th>2</th>\n",
       "      <td>1</td>\n",
       "      <td>1</td>\n",
       "      <td>The renowned British statesman Winston Churchi...</td>\n",
       "    </tr>\n",
       "    <tr>\n",
       "      <th>3</th>\n",
       "      <td>0</td>\n",
       "      <td>1</td>\n",
       "      <td>My grandfather would always say \"creativity is...</td>\n",
       "    </tr>\n",
       "    <tr>\n",
       "      <th>4</th>\n",
       "      <td>1</td>\n",
       "      <td>1</td>\n",
       "      <td>In my pursuit to become an assistant manager a...</td>\n",
       "    </tr>\n",
       "  </tbody>\n",
       "</table>\n",
       "</div>"
      ],
      "text/plain": [
       "   label  source                                               text\n",
       "0      0       1  Help wanted!\\n\\nThe Seagoing Cowboys program i...\n",
       "1      0       1  The system of the Electoral College is a widel...\n",
       "2      1       1  The renowned British statesman Winston Churchi...\n",
       "3      0       1  My grandfather would always say \"creativity is...\n",
       "4      1       1  In my pursuit to become an assistant manager a..."
      ]
     },
     "execution_count": 6,
     "metadata": {},
     "output_type": "execute_result"
    }
   ],
   "source": [
    "print(\"Unprocessed train_data:\")\n",
    "train_data.head()"
   ]
  },
  {
   "cell_type": "code",
   "execution_count": 7,
   "id": "50208e22-83f4-4f19-ab52-af706cebee2e",
   "metadata": {},
   "outputs": [
    {
     "name": "stdout",
     "output_type": "stream",
     "text": [
      "Unprocessed test_data:\n"
     ]
    },
    {
     "data": {
      "text/html": [
       "<div>\n",
       "<style scoped>\n",
       "    .dataframe tbody tr th:only-of-type {\n",
       "        vertical-align: middle;\n",
       "    }\n",
       "\n",
       "    .dataframe tbody tr th {\n",
       "        vertical-align: top;\n",
       "    }\n",
       "\n",
       "    .dataframe thead th {\n",
       "        text-align: right;\n",
       "    }\n",
       "</style>\n",
       "<table border=\"1\" class=\"dataframe\">\n",
       "  <thead>\n",
       "    <tr style=\"text-align: right;\">\n",
       "      <th></th>\n",
       "      <th>label</th>\n",
       "      <th>source</th>\n",
       "      <th>text</th>\n",
       "    </tr>\n",
       "  </thead>\n",
       "  <tbody>\n",
       "    <tr>\n",
       "      <th>0</th>\n",
       "      <td>1</td>\n",
       "      <td>1</td>\n",
       "      <td>Hey, Mrs. Johnson! Here's my essay on whether ...</td>\n",
       "    </tr>\n",
       "    <tr>\n",
       "      <th>1</th>\n",
       "      <td>1</td>\n",
       "      <td>1</td>\n",
       "      <td>I believe zoos are very good for the world. Th...</td>\n",
       "    </tr>\n",
       "    <tr>\n",
       "      <th>2</th>\n",
       "      <td>1</td>\n",
       "      <td>1</td>\n",
       "      <td>I believe that the former British Prime Minis...</td>\n",
       "    </tr>\n",
       "    <tr>\n",
       "      <th>3</th>\n",
       "      <td>1</td>\n",
       "      <td>1</td>\n",
       "      <td>Limiting car usage has numerous advantages th...</td>\n",
       "    </tr>\n",
       "    <tr>\n",
       "      <th>4</th>\n",
       "      <td>1</td>\n",
       "      <td>1</td>\n",
       "      <td>Okay, so libaries are like books and stuf but ...</td>\n",
       "    </tr>\n",
       "  </tbody>\n",
       "</table>\n",
       "</div>"
      ],
      "text/plain": [
       "   label  source                                               text\n",
       "0      1       1  Hey, Mrs. Johnson! Here's my essay on whether ...\n",
       "1      1       1  I believe zoos are very good for the world. Th...\n",
       "2      1       1   I believe that the former British Prime Minis...\n",
       "3      1       1   Limiting car usage has numerous advantages th...\n",
       "4      1       1  Okay, so libaries are like books and stuf but ..."
      ]
     },
     "execution_count": 7,
     "metadata": {},
     "output_type": "execute_result"
    }
   ],
   "source": [
    "print(\"Unprocessed test_data:\")\n",
    "test_data.head()"
   ]
  },
  {
   "cell_type": "code",
   "execution_count": 8,
   "id": "e63aeacd",
   "metadata": {},
   "outputs": [],
   "source": [
    "# Preprocessing text by:\n",
    "#   1. lowercasing all letters and\n",
    "#   2. splitting all strings into a list of words.\n",
    "\n",
    "def preprocess_data(text):\n",
    "    lower_text = text.lower()\n",
    "    preprocessed = lower_text.split()\n",
    "    return preprocessed\n",
    "\n",
    "train_data[\"preprocessed_text\"] = train_data[\"text\"].apply(preprocess_data)\n",
    "test_data[\"preprocessed_text\"] = test_data[\"text\"].apply(preprocess_data)"
   ]
  },
  {
   "cell_type": "code",
   "execution_count": 9,
   "id": "ec334c01-9e12-45fa-9160-f2c1d1fb03e0",
   "metadata": {},
   "outputs": [
    {
     "name": "stdout",
     "output_type": "stream",
     "text": [
      "Preprocessed train_data:\n"
     ]
    },
    {
     "data": {
      "text/html": [
       "<div>\n",
       "<style scoped>\n",
       "    .dataframe tbody tr th:only-of-type {\n",
       "        vertical-align: middle;\n",
       "    }\n",
       "\n",
       "    .dataframe tbody tr th {\n",
       "        vertical-align: top;\n",
       "    }\n",
       "\n",
       "    .dataframe thead th {\n",
       "        text-align: right;\n",
       "    }\n",
       "</style>\n",
       "<table border=\"1\" class=\"dataframe\">\n",
       "  <thead>\n",
       "    <tr style=\"text-align: right;\">\n",
       "      <th></th>\n",
       "      <th>label</th>\n",
       "      <th>source</th>\n",
       "      <th>text</th>\n",
       "      <th>preprocessed_text</th>\n",
       "    </tr>\n",
       "  </thead>\n",
       "  <tbody>\n",
       "    <tr>\n",
       "      <th>0</th>\n",
       "      <td>0</td>\n",
       "      <td>1</td>\n",
       "      <td>Help wanted!\\n\\nThe Seagoing Cowboys program i...</td>\n",
       "      <td>[help, wanted!, the, seagoing, cowboys, progra...</td>\n",
       "    </tr>\n",
       "    <tr>\n",
       "      <th>1</th>\n",
       "      <td>0</td>\n",
       "      <td>1</td>\n",
       "      <td>The system of the Electoral College is a widel...</td>\n",
       "      <td>[the, system, of, the, electoral, college, is,...</td>\n",
       "    </tr>\n",
       "    <tr>\n",
       "      <th>2</th>\n",
       "      <td>1</td>\n",
       "      <td>1</td>\n",
       "      <td>The renowned British statesman Winston Churchi...</td>\n",
       "      <td>[the, renowned, british, statesman, winston, c...</td>\n",
       "    </tr>\n",
       "    <tr>\n",
       "      <th>3</th>\n",
       "      <td>0</td>\n",
       "      <td>1</td>\n",
       "      <td>My grandfather would always say \"creativity is...</td>\n",
       "      <td>[my, grandfather, would, always, say, \"creativ...</td>\n",
       "    </tr>\n",
       "    <tr>\n",
       "      <th>4</th>\n",
       "      <td>1</td>\n",
       "      <td>1</td>\n",
       "      <td>In my pursuit to become an assistant manager a...</td>\n",
       "      <td>[in, my, pursuit, to, become, an, assistant, m...</td>\n",
       "    </tr>\n",
       "  </tbody>\n",
       "</table>\n",
       "</div>"
      ],
      "text/plain": [
       "   label  source                                               text  \\\n",
       "0      0       1  Help wanted!\\n\\nThe Seagoing Cowboys program i...   \n",
       "1      0       1  The system of the Electoral College is a widel...   \n",
       "2      1       1  The renowned British statesman Winston Churchi...   \n",
       "3      0       1  My grandfather would always say \"creativity is...   \n",
       "4      1       1  In my pursuit to become an assistant manager a...   \n",
       "\n",
       "                                   preprocessed_text  \n",
       "0  [help, wanted!, the, seagoing, cowboys, progra...  \n",
       "1  [the, system, of, the, electoral, college, is,...  \n",
       "2  [the, renowned, british, statesman, winston, c...  \n",
       "3  [my, grandfather, would, always, say, \"creativ...  \n",
       "4  [in, my, pursuit, to, become, an, assistant, m...  "
      ]
     },
     "execution_count": 9,
     "metadata": {},
     "output_type": "execute_result"
    }
   ],
   "source": [
    "print(\"Preprocessed train_data:\")\n",
    "train_data.head()"
   ]
  },
  {
   "cell_type": "code",
   "execution_count": 10,
   "id": "b927d6f4-1ba6-4824-b137-e2d4ac368f4b",
   "metadata": {},
   "outputs": [
    {
     "name": "stdout",
     "output_type": "stream",
     "text": [
      "Preprocessed test_data:\n"
     ]
    },
    {
     "data": {
      "text/html": [
       "<div>\n",
       "<style scoped>\n",
       "    .dataframe tbody tr th:only-of-type {\n",
       "        vertical-align: middle;\n",
       "    }\n",
       "\n",
       "    .dataframe tbody tr th {\n",
       "        vertical-align: top;\n",
       "    }\n",
       "\n",
       "    .dataframe thead th {\n",
       "        text-align: right;\n",
       "    }\n",
       "</style>\n",
       "<table border=\"1\" class=\"dataframe\">\n",
       "  <thead>\n",
       "    <tr style=\"text-align: right;\">\n",
       "      <th></th>\n",
       "      <th>label</th>\n",
       "      <th>source</th>\n",
       "      <th>text</th>\n",
       "      <th>preprocessed_text</th>\n",
       "    </tr>\n",
       "  </thead>\n",
       "  <tbody>\n",
       "    <tr>\n",
       "      <th>0</th>\n",
       "      <td>1</td>\n",
       "      <td>1</td>\n",
       "      <td>Hey, Mrs. Johnson! Here's my essay on whether ...</td>\n",
       "      <td>[hey,, mrs., johnson!, here's, my, essay, on, ...</td>\n",
       "    </tr>\n",
       "    <tr>\n",
       "      <th>1</th>\n",
       "      <td>1</td>\n",
       "      <td>1</td>\n",
       "      <td>I believe zoos are very good for the world. Th...</td>\n",
       "      <td>[i, believe, zoos, are, very, good, for, the, ...</td>\n",
       "    </tr>\n",
       "    <tr>\n",
       "      <th>2</th>\n",
       "      <td>1</td>\n",
       "      <td>1</td>\n",
       "      <td>I believe that the former British Prime Minis...</td>\n",
       "      <td>[i, believe, that, the, former, british, prime...</td>\n",
       "    </tr>\n",
       "    <tr>\n",
       "      <th>3</th>\n",
       "      <td>1</td>\n",
       "      <td>1</td>\n",
       "      <td>Limiting car usage has numerous advantages th...</td>\n",
       "      <td>[limiting, car, usage, has, numerous, advantag...</td>\n",
       "    </tr>\n",
       "    <tr>\n",
       "      <th>4</th>\n",
       "      <td>1</td>\n",
       "      <td>1</td>\n",
       "      <td>Okay, so libaries are like books and stuf but ...</td>\n",
       "      <td>[okay,, so, libaries, are, like, books, and, s...</td>\n",
       "    </tr>\n",
       "  </tbody>\n",
       "</table>\n",
       "</div>"
      ],
      "text/plain": [
       "   label  source                                               text  \\\n",
       "0      1       1  Hey, Mrs. Johnson! Here's my essay on whether ...   \n",
       "1      1       1  I believe zoos are very good for the world. Th...   \n",
       "2      1       1   I believe that the former British Prime Minis...   \n",
       "3      1       1   Limiting car usage has numerous advantages th...   \n",
       "4      1       1  Okay, so libaries are like books and stuf but ...   \n",
       "\n",
       "                                   preprocessed_text  \n",
       "0  [hey,, mrs., johnson!, here's, my, essay, on, ...  \n",
       "1  [i, believe, zoos, are, very, good, for, the, ...  \n",
       "2  [i, believe, that, the, former, british, prime...  \n",
       "3  [limiting, car, usage, has, numerous, advantag...  \n",
       "4  [okay,, so, libaries, are, like, books, and, s...  "
      ]
     },
     "execution_count": 10,
     "metadata": {},
     "output_type": "execute_result"
    }
   ],
   "source": [
    "print(\"Preprocessed test_data:\")\n",
    "test_data.head()"
   ]
  },
  {
   "cell_type": "code",
   "execution_count": 11,
   "id": "18365433-5e64-46e0-9505-0df31796ffb7",
   "metadata": {},
   "outputs": [
    {
     "name": "stdout",
     "output_type": "stream",
     "text": [
      "Downloading from https://www.kaggle.com/api/v1/datasets/download/adarshsng/googlenewsvectors?dataset_version_number=1...\n"
     ]
    },
    {
     "name": "stderr",
     "output_type": "stream",
     "text": [
      "100%|██████████| 1.64G/1.64G [00:54<00:00, 32.5MB/s]"
     ]
    },
    {
     "name": "stdout",
     "output_type": "stream",
     "text": [
      "Extracting files...\n"
     ]
    },
    {
     "name": "stderr",
     "output_type": "stream",
     "text": [
      "\n"
     ]
    },
    {
     "name": "stdout",
     "output_type": "stream",
     "text": [
      "Google's Word2Vec model loaded successfully.\n"
     ]
    }
   ],
   "source": [
    "# Downloading pretrained Word2Vec model\n",
    "\n",
    "dataset = kagglehub.dataset_download(\"adarshsng/googlenewsvectors\")\n",
    "path = os.path.join(dataset, \"GoogleNews-vectors-negative300.bin\")\n",
    "word2Vec = KeyedVectors.load_word2vec_format(path, \n",
    "                                             binary = True)\n",
    "print(\"Google's Word2Vec model loaded successfully.\")"
   ]
  },
  {
   "cell_type": "code",
   "execution_count": 12,
   "id": "e99746b3-7720-4ee5-84be-4308d9a2a0c6",
   "metadata": {},
   "outputs": [],
   "source": [
    "# Converting texts to embeddings\n",
    "\n",
    "def embeddings(text, model):\n",
    "    vectors = []\n",
    "    for word in text:\n",
    "        if word in model:\n",
    "            vectors.append(model[word])\n",
    "    if vectors:\n",
    "        return np.mean(vectors, \n",
    "                       axis = 0)\n",
    "    else:\n",
    "        return np.zeros(model.vector_size)\n",
    "        \n",
    "x_train = []\n",
    "for text in train_data[\"preprocessed_text\"]:\n",
    "    embedding = embeddings(text, \n",
    "                           word2Vec)\n",
    "    x_train.append(embedding)\n",
    "x_train = np.array(x_train)\n",
    "y_train = train_data[\"label\"].values\n",
    "\n",
    "x_test = []\n",
    "for text in test_data[\"preprocessed_text\"]:\n",
    "    embedding = embeddings(text, \n",
    "                           word2Vec)\n",
    "    x_test.append(embedding)\n",
    "x_test = np.array(x_test)\n",
    "y_test = test_data[\"label\"].values"
   ]
  },
  {
   "cell_type": "code",
   "execution_count": 13,
   "id": "be2f1724-7653-4315-a159-eec556f36c95",
   "metadata": {},
   "outputs": [],
   "source": [
    "# Scaling the data\n",
    "\n",
    "scaler = StandardScaler()\n",
    "x_train_scaled = scaler.fit_transform(x_train)\n",
    "x_test_scaled = scaler.transform(x_test)"
   ]
  },
  {
   "cell_type": "code",
   "execution_count": 14,
   "id": "94f99550",
   "metadata": {},
   "outputs": [],
   "source": [
    "# initializing weights and bias\n",
    "\n",
    "np.random.seed(seed)\n",
    "n_examples, n_features = x_train_scaled.shape\n",
    "w = np.zeros(n_features)\n",
    "b = 0"
   ]
  },
  {
   "cell_type": "code",
   "execution_count": 15,
   "id": "03a2ef78",
   "metadata": {},
   "outputs": [
    {
     "name": "stderr",
     "output_type": "stream",
     "text": [
      "epoch 1: 100%|██████████| 36997/36997 [00:00<00:00, 400644.08it/s]\n",
      "epoch 2: 100%|██████████| 36997/36997 [00:00<00:00, 422684.19it/s]\n",
      "epoch 3: 100%|██████████| 36997/36997 [00:00<00:00, 420724.52it/s]\n",
      "epoch 4: 100%|██████████| 36997/36997 [00:00<00:00, 427948.42it/s]\n",
      "epoch 5: 100%|██████████| 36997/36997 [00:00<00:00, 428870.96it/s]\n",
      "epoch 6: 100%|██████████| 36997/36997 [00:00<00:00, 423801.64it/s]\n",
      "epoch 7: 100%|██████████| 36997/36997 [00:00<00:00, 423890.78it/s]\n",
      "epoch 8: 100%|██████████| 36997/36997 [00:00<00:00, 412107.66it/s]\n",
      "epoch 9: 100%|██████████| 36997/36997 [00:00<00:00, 419776.46it/s]\n",
      "epoch 10: 100%|██████████| 36997/36997 [00:00<00:00, 424521.63it/s]\n",
      "epoch 11: 100%|██████████| 36997/36997 [00:00<00:00, 423923.20it/s]\n",
      "epoch 12: 100%|██████████| 36997/36997 [00:00<00:00, 421901.58it/s]\n",
      "epoch 13: 100%|██████████| 36997/36997 [00:00<00:00, 409156.42it/s]\n",
      "epoch 14: 100%|██████████| 36997/36997 [00:00<00:00, 403317.12it/s]\n",
      "epoch 15: 100%|██████████| 36997/36997 [00:00<00:00, 418141.97it/s]\n",
      "epoch 16: 100%|██████████| 36997/36997 [00:00<00:00, 413258.94it/s]\n",
      "epoch 17: 100%|██████████| 36997/36997 [00:00<00:00, 415798.05it/s]\n",
      "epoch 18: 100%|██████████| 36997/36997 [00:00<00:00, 418984.20it/s]\n",
      "epoch 19: 100%|██████████| 36997/36997 [00:00<00:00, 414838.77it/s]\n",
      "epoch 20: 100%|██████████| 36997/36997 [00:00<00:00, 409193.11it/s]\n"
     ]
    }
   ],
   "source": [
    "# Training the perceptron\n",
    "\n",
    "n_epochs = 20\n",
    "indices = np.arange(n_examples)\n",
    "recorder.record_training_start()\n",
    "for epoch in range(n_epochs):\n",
    "    np.random.shuffle(indices)\n",
    "    for i in tqdm(indices, desc = f'epoch {epoch + 1}'):\n",
    "        x = x_train_scaled[i]\n",
    "        y_true = y_train[i]\n",
    "        score = x @ w + b\n",
    "        y_pred = 1 if score > 0 else 0\n",
    "        if y_true != y_pred:\n",
    "            if y_true == 1:\n",
    "                w += x\n",
    "                b += 1\n",
    "            else:\n",
    "                w -= x\n",
    "                b -= 1\n",
    "recorder.record_training_stop()"
   ]
  },
  {
   "cell_type": "code",
   "execution_count": 16,
   "id": "56fdb2bf",
   "metadata": {},
   "outputs": [],
   "source": [
    "# Testing the perceptron\n",
    "\n",
    "recorder.record_testing_start()\n",
    "y_pred = (np.dot(x_test_scaled, w) + b) > 0\n",
    "recorder.record_testing_stop()"
   ]
  },
  {
   "cell_type": "code",
   "execution_count": 17,
   "id": "b9f53d07",
   "metadata": {
    "tags": []
   },
   "outputs": [
    {
     "name": "stdout",
     "output_type": "stream",
     "text": [
      "              precision    recall  f1-score   support\n",
      "\n",
      "     Not Bot       0.96      0.96      0.96      3435\n",
      "         Bot       0.96      0.96      0.96      3435\n",
      "\n",
      "    accuracy                           0.96      6870\n",
      "   macro avg       0.96      0.96      0.96      6870\n",
      "weighted avg       0.96      0.96      0.96      6870\n",
      "\n"
     ]
    }
   ],
   "source": [
    "# Recording results\n",
    "\n",
    "report = classification_report(y_test, \n",
    "                               y_pred, \n",
    "                               target_names = [\"Not Bot\", \"Bot\"])\n",
    "print(report)\n",
    "recorder.record_performance(y_true = y_test,\n",
    "                            y_pred = y_pred,\n",
    "                            target_names = [\"Not Bot\", \"Bot\"])\n",
    "recorder.write(\"../model_results.csv\")"
   ]
  },
  {
   "cell_type": "code",
   "execution_count": null,
   "id": "b12835bc-7fe3-4e01-a762-20f42d0022f2",
   "metadata": {},
   "outputs": [],
   "source": []
  }
 ],
 "metadata": {
  "kernelspec": {
   "display_name": "nlp",
   "language": "python",
   "name": "python3"
  },
  "language_info": {
   "codemirror_mode": {
    "name": "ipython",
    "version": 3
   },
   "file_extension": ".py",
   "mimetype": "text/x-python",
   "name": "python",
   "nbconvert_exporter": "python",
   "pygments_lexer": "ipython3",
   "version": "3.12.7"
  }
 },
 "nbformat": 4,
 "nbformat_minor": 5
}
