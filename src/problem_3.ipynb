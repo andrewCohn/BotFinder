{
 "cells": [
  {
   "cell_type": "markdown",
   "id": "7ee18790",
   "metadata": {},
   "source": [
    "# Text Classification with a Feed-forward Neural Network and BOW features"
   ]
  },
  {
   "cell_type": "markdown",
   "id": "cda3e463",
   "metadata": {},
   "source": [
    "First, we will do some initialization."
   ]
  },
  {
   "cell_type": "code",
   "execution_count": 30,
   "id": "a49c8265",
   "metadata": {},
   "outputs": [
    {
     "name": "stdout",
     "output_type": "stream",
     "text": [
      "device: cpu\n",
      "random seed: 1234\n"
     ]
    },
    {
     "name": "stderr",
     "output_type": "stream",
     "text": [
      "[nltk_data] Downloading package punkt_tab to /home/ben/nltk_data...\n",
      "[nltk_data]   Package punkt_tab is already up-to-date!\n"
     ]
    }
   ],
   "source": [
    "import random\n",
    "import torch\n",
    "import numpy as np\n",
    "import pandas as pd\n",
    "from tqdm.notebook import tqdm\n",
    "\n",
    "# Ensure NLTK database is downloaded,\n",
    "import nltk\n",
    "nltk.download('punkt_tab')\n",
    "\n",
    "# enable tqdm in pandas\n",
    "tqdm.pandas()\n",
    "\n",
    "# set to True to use the gpu (if there is one available)\n",
    "use_gpu = True\n",
    "\n",
    "# select device\n",
    "device = torch.device('cuda' if use_gpu and torch.cuda.is_available() else 'cpu')\n",
    "print(f'device: {device.type}')\n",
    "\n",
    "# random seed\n",
    "seed = 1234\n",
    "\n",
    "# set random seed\n",
    "if seed is not None:\n",
    "    print(f'random seed: {seed}')\n",
    "    random.seed(seed)\n",
    "    np.random.seed(seed)\n",
    "    torch.manual_seed(seed)"
   ]
  },
  {
   "cell_type": "markdown",
   "id": "1cdcf2e4",
   "metadata": {},
   "source": [
    "We will be using the AG's News Topic Classification Dataset.\n",
    "It is stored in two CSV files: `train.csv` and `test.csv`, as well as a `classes.txt` that stores the labels of the classes to predict.\n",
    "\n",
    "First, we will load the training dataset using [pandas](https://pandas.pydata.org/) and take a quick look at how the data."
   ]
  },
  {
   "cell_type": "code",
   "execution_count": 31,
   "id": "658f7247",
   "metadata": {},
   "outputs": [
    {
     "data": {
      "text/html": [
       "<div>\n",
       "<style scoped>\n",
       "    .dataframe tbody tr th:only-of-type {\n",
       "        vertical-align: middle;\n",
       "    }\n",
       "\n",
       "    .dataframe tbody tr th {\n",
       "        vertical-align: top;\n",
       "    }\n",
       "\n",
       "    .dataframe thead th {\n",
       "        text-align: right;\n",
       "    }\n",
       "</style>\n",
       "<table border=\"1\" class=\"dataframe\">\n",
       "  <thead>\n",
       "    <tr style=\"text-align: right;\">\n",
       "      <th></th>\n",
       "      <th>class index</th>\n",
       "      <th>title</th>\n",
       "      <th>description</th>\n",
       "    </tr>\n",
       "  </thead>\n",
       "  <tbody>\n",
       "    <tr>\n",
       "      <th>0</th>\n",
       "      <td>3</td>\n",
       "      <td>Wall St. Bears Claw Back Into the Black (Reuters)</td>\n",
       "      <td>Reuters - Short-sellers, Wall Street's dwindli...</td>\n",
       "    </tr>\n",
       "    <tr>\n",
       "      <th>1</th>\n",
       "      <td>3</td>\n",
       "      <td>Carlyle Looks Toward Commercial Aerospace (Reu...</td>\n",
       "      <td>Reuters - Private investment firm Carlyle Grou...</td>\n",
       "    </tr>\n",
       "    <tr>\n",
       "      <th>2</th>\n",
       "      <td>3</td>\n",
       "      <td>Oil and Economy Cloud Stocks' Outlook (Reuters)</td>\n",
       "      <td>Reuters - Soaring crude prices plus worries\\ab...</td>\n",
       "    </tr>\n",
       "    <tr>\n",
       "      <th>3</th>\n",
       "      <td>3</td>\n",
       "      <td>Iraq Halts Oil Exports from Main Southern Pipe...</td>\n",
       "      <td>Reuters - Authorities have halted oil export\\f...</td>\n",
       "    </tr>\n",
       "    <tr>\n",
       "      <th>4</th>\n",
       "      <td>3</td>\n",
       "      <td>Oil prices soar to all-time record, posing new...</td>\n",
       "      <td>AFP - Tearaway world oil prices, toppling reco...</td>\n",
       "    </tr>\n",
       "    <tr>\n",
       "      <th>...</th>\n",
       "      <td>...</td>\n",
       "      <td>...</td>\n",
       "      <td>...</td>\n",
       "    </tr>\n",
       "    <tr>\n",
       "      <th>119995</th>\n",
       "      <td>1</td>\n",
       "      <td>Pakistan's Musharraf Says Won't Quit as Army C...</td>\n",
       "      <td>KARACHI (Reuters) - Pakistani President Perve...</td>\n",
       "    </tr>\n",
       "    <tr>\n",
       "      <th>119996</th>\n",
       "      <td>2</td>\n",
       "      <td>Renteria signing a top-shelf deal</td>\n",
       "      <td>Red Sox general manager Theo Epstein acknowled...</td>\n",
       "    </tr>\n",
       "    <tr>\n",
       "      <th>119997</th>\n",
       "      <td>2</td>\n",
       "      <td>Saban not going to Dolphins yet</td>\n",
       "      <td>The Miami Dolphins will put their courtship of...</td>\n",
       "    </tr>\n",
       "    <tr>\n",
       "      <th>119998</th>\n",
       "      <td>2</td>\n",
       "      <td>Today's NFL games</td>\n",
       "      <td>PITTSBURGH at NY GIANTS Time: 1:30 p.m. Line: ...</td>\n",
       "    </tr>\n",
       "    <tr>\n",
       "      <th>119999</th>\n",
       "      <td>2</td>\n",
       "      <td>Nets get Carter from Raptors</td>\n",
       "      <td>INDIANAPOLIS -- All-Star Vince Carter was trad...</td>\n",
       "    </tr>\n",
       "  </tbody>\n",
       "</table>\n",
       "<p>120000 rows × 3 columns</p>\n",
       "</div>"
      ],
      "text/plain": [
       "        class index                                              title  \\\n",
       "0                 3  Wall St. Bears Claw Back Into the Black (Reuters)   \n",
       "1                 3  Carlyle Looks Toward Commercial Aerospace (Reu...   \n",
       "2                 3    Oil and Economy Cloud Stocks' Outlook (Reuters)   \n",
       "3                 3  Iraq Halts Oil Exports from Main Southern Pipe...   \n",
       "4                 3  Oil prices soar to all-time record, posing new...   \n",
       "...             ...                                                ...   \n",
       "119995            1  Pakistan's Musharraf Says Won't Quit as Army C...   \n",
       "119996            2                  Renteria signing a top-shelf deal   \n",
       "119997            2                    Saban not going to Dolphins yet   \n",
       "119998            2                                  Today's NFL games   \n",
       "119999            2                       Nets get Carter from Raptors   \n",
       "\n",
       "                                              description  \n",
       "0       Reuters - Short-sellers, Wall Street's dwindli...  \n",
       "1       Reuters - Private investment firm Carlyle Grou...  \n",
       "2       Reuters - Soaring crude prices plus worries\\ab...  \n",
       "3       Reuters - Authorities have halted oil export\\f...  \n",
       "4       AFP - Tearaway world oil prices, toppling reco...  \n",
       "...                                                   ...  \n",
       "119995   KARACHI (Reuters) - Pakistani President Perve...  \n",
       "119996  Red Sox general manager Theo Epstein acknowled...  \n",
       "119997  The Miami Dolphins will put their courtship of...  \n",
       "119998  PITTSBURGH at NY GIANTS Time: 1:30 p.m. Line: ...  \n",
       "119999  INDIANAPOLIS -- All-Star Vince Carter was trad...  \n",
       "\n",
       "[120000 rows x 3 columns]"
      ]
     },
     "execution_count": 31,
     "metadata": {},
     "output_type": "execute_result"
    }
   ],
   "source": [
    "train_df = pd.read_csv('data/ag_news_csv/train.csv', header=None)\n",
    "train_df.columns = ['class index', 'title', 'description']\n",
    "train_df"
   ]
  },
  {
   "cell_type": "markdown",
   "id": "1ad23ee6",
   "metadata": {},
   "source": [
    "The dataset consists of 120,000 examples, each consisting of a class index, a title, and a description.\n",
    "The class labels are distributed in a separated file. We will add the labels to the dataset so that we can interpret the data more easily. Note that the label indexes are one-based, so we need to subtract one to retrieve them from the list."
   ]
  },
  {
   "cell_type": "code",
   "execution_count": 32,
   "id": "c56cd5e1",
   "metadata": {},
   "outputs": [
    {
     "data": {
      "text/html": [
       "<div>\n",
       "<style scoped>\n",
       "    .dataframe tbody tr th:only-of-type {\n",
       "        vertical-align: middle;\n",
       "    }\n",
       "\n",
       "    .dataframe tbody tr th {\n",
       "        vertical-align: top;\n",
       "    }\n",
       "\n",
       "    .dataframe thead th {\n",
       "        text-align: right;\n",
       "    }\n",
       "</style>\n",
       "<table border=\"1\" class=\"dataframe\">\n",
       "  <thead>\n",
       "    <tr style=\"text-align: right;\">\n",
       "      <th></th>\n",
       "      <th>class index</th>\n",
       "      <th>class</th>\n",
       "      <th>title</th>\n",
       "      <th>description</th>\n",
       "    </tr>\n",
       "  </thead>\n",
       "  <tbody>\n",
       "    <tr>\n",
       "      <th>0</th>\n",
       "      <td>3</td>\n",
       "      <td>Business</td>\n",
       "      <td>Wall St. Bears Claw Back Into the Black (Reuters)</td>\n",
       "      <td>Reuters - Short-sellers, Wall Street's dwindli...</td>\n",
       "    </tr>\n",
       "    <tr>\n",
       "      <th>1</th>\n",
       "      <td>3</td>\n",
       "      <td>Business</td>\n",
       "      <td>Carlyle Looks Toward Commercial Aerospace (Reu...</td>\n",
       "      <td>Reuters - Private investment firm Carlyle Grou...</td>\n",
       "    </tr>\n",
       "    <tr>\n",
       "      <th>2</th>\n",
       "      <td>3</td>\n",
       "      <td>Business</td>\n",
       "      <td>Oil and Economy Cloud Stocks' Outlook (Reuters)</td>\n",
       "      <td>Reuters - Soaring crude prices plus worries\\ab...</td>\n",
       "    </tr>\n",
       "    <tr>\n",
       "      <th>3</th>\n",
       "      <td>3</td>\n",
       "      <td>Business</td>\n",
       "      <td>Iraq Halts Oil Exports from Main Southern Pipe...</td>\n",
       "      <td>Reuters - Authorities have halted oil export\\f...</td>\n",
       "    </tr>\n",
       "    <tr>\n",
       "      <th>4</th>\n",
       "      <td>3</td>\n",
       "      <td>Business</td>\n",
       "      <td>Oil prices soar to all-time record, posing new...</td>\n",
       "      <td>AFP - Tearaway world oil prices, toppling reco...</td>\n",
       "    </tr>\n",
       "    <tr>\n",
       "      <th>...</th>\n",
       "      <td>...</td>\n",
       "      <td>...</td>\n",
       "      <td>...</td>\n",
       "      <td>...</td>\n",
       "    </tr>\n",
       "    <tr>\n",
       "      <th>119995</th>\n",
       "      <td>1</td>\n",
       "      <td>World</td>\n",
       "      <td>Pakistan's Musharraf Says Won't Quit as Army C...</td>\n",
       "      <td>KARACHI (Reuters) - Pakistani President Perve...</td>\n",
       "    </tr>\n",
       "    <tr>\n",
       "      <th>119996</th>\n",
       "      <td>2</td>\n",
       "      <td>Sports</td>\n",
       "      <td>Renteria signing a top-shelf deal</td>\n",
       "      <td>Red Sox general manager Theo Epstein acknowled...</td>\n",
       "    </tr>\n",
       "    <tr>\n",
       "      <th>119997</th>\n",
       "      <td>2</td>\n",
       "      <td>Sports</td>\n",
       "      <td>Saban not going to Dolphins yet</td>\n",
       "      <td>The Miami Dolphins will put their courtship of...</td>\n",
       "    </tr>\n",
       "    <tr>\n",
       "      <th>119998</th>\n",
       "      <td>2</td>\n",
       "      <td>Sports</td>\n",
       "      <td>Today's NFL games</td>\n",
       "      <td>PITTSBURGH at NY GIANTS Time: 1:30 p.m. Line: ...</td>\n",
       "    </tr>\n",
       "    <tr>\n",
       "      <th>119999</th>\n",
       "      <td>2</td>\n",
       "      <td>Sports</td>\n",
       "      <td>Nets get Carter from Raptors</td>\n",
       "      <td>INDIANAPOLIS -- All-Star Vince Carter was trad...</td>\n",
       "    </tr>\n",
       "  </tbody>\n",
       "</table>\n",
       "<p>120000 rows × 4 columns</p>\n",
       "</div>"
      ],
      "text/plain": [
       "        class index     class  \\\n",
       "0                 3  Business   \n",
       "1                 3  Business   \n",
       "2                 3  Business   \n",
       "3                 3  Business   \n",
       "4                 3  Business   \n",
       "...             ...       ...   \n",
       "119995            1     World   \n",
       "119996            2    Sports   \n",
       "119997            2    Sports   \n",
       "119998            2    Sports   \n",
       "119999            2    Sports   \n",
       "\n",
       "                                                    title  \\\n",
       "0       Wall St. Bears Claw Back Into the Black (Reuters)   \n",
       "1       Carlyle Looks Toward Commercial Aerospace (Reu...   \n",
       "2         Oil and Economy Cloud Stocks' Outlook (Reuters)   \n",
       "3       Iraq Halts Oil Exports from Main Southern Pipe...   \n",
       "4       Oil prices soar to all-time record, posing new...   \n",
       "...                                                   ...   \n",
       "119995  Pakistan's Musharraf Says Won't Quit as Army C...   \n",
       "119996                  Renteria signing a top-shelf deal   \n",
       "119997                    Saban not going to Dolphins yet   \n",
       "119998                                  Today's NFL games   \n",
       "119999                       Nets get Carter from Raptors   \n",
       "\n",
       "                                              description  \n",
       "0       Reuters - Short-sellers, Wall Street's dwindli...  \n",
       "1       Reuters - Private investment firm Carlyle Grou...  \n",
       "2       Reuters - Soaring crude prices plus worries\\ab...  \n",
       "3       Reuters - Authorities have halted oil export\\f...  \n",
       "4       AFP - Tearaway world oil prices, toppling reco...  \n",
       "...                                                   ...  \n",
       "119995   KARACHI (Reuters) - Pakistani President Perve...  \n",
       "119996  Red Sox general manager Theo Epstein acknowled...  \n",
       "119997  The Miami Dolphins will put their courtship of...  \n",
       "119998  PITTSBURGH at NY GIANTS Time: 1:30 p.m. Line: ...  \n",
       "119999  INDIANAPOLIS -- All-Star Vince Carter was trad...  \n",
       "\n",
       "[120000 rows x 4 columns]"
      ]
     },
     "execution_count": 32,
     "metadata": {},
     "output_type": "execute_result"
    }
   ],
   "source": [
    "labels = open('data/ag_news_csv/classes.txt').read().splitlines()\n",
    "classes = train_df['class index'].map(lambda i: labels[i-1])\n",
    "train_df.insert(1, 'class', classes)\n",
    "train_df"
   ]
  },
  {
   "cell_type": "markdown",
   "id": "8d51cc89",
   "metadata": {},
   "source": [
    "Let's inspect how balanced our examples are by using a bar plot."
   ]
  },
  {
   "cell_type": "code",
   "execution_count": 33,
   "id": "6d78c358",
   "metadata": {},
   "outputs": [
    {
     "name": "stderr",
     "output_type": "stream",
     "text": [
      "/tmp/ipykernel_29785/1245903889.py:1: FutureWarning: pandas.value_counts is deprecated and will be removed in a future version. Use pd.Series(obj).value_counts() instead.\n",
      "  pd.value_counts(train_df['class']).plot.bar()\n"
     ]
    },
    {
     "data": {
      "text/plain": [
       "<Axes: xlabel='class'>"
      ]
     },
     "execution_count": 33,
     "metadata": {},
     "output_type": "execute_result"
    },
    {
     "data": {
      "image/png": "[encoded data removed]",
      "text/plain": [
       "<Figure size 640x480 with 1 Axes>"
      ]
     },
     "metadata": {},
     "output_type": "display_data"
    }
   ],
   "source": [
    "pd.value_counts(train_df['class']).plot.bar()"
   ]
  },
  {
   "cell_type": "markdown",
   "id": "1b4a8e08",
   "metadata": {},
   "source": [
    "The classes are evenly distributed. That's great!\n",
    "\n",
    "However, the text contains some spurious backslashes in some parts of the text.\n",
    "They are meant to represent newlines in the original text.\n",
    "An example can be seen below, between the words \"dwindling\" and \"band\"."
   ]
  },
  {
   "cell_type": "code",
   "execution_count": 34,
   "id": "ae0ce964",
   "metadata": {},
   "outputs": [
    {
     "name": "stdout",
     "output_type": "stream",
     "text": [
      "Reuters - Short-sellers, Wall Street's dwindling\\band of ultra-cynics, are seeing green again.\n"
     ]
    }
   ],
   "source": [
    "print(train_df.loc[0, 'description'])"
   ]
  },
  {
   "cell_type": "markdown",
   "id": "ff99919c",
   "metadata": {},
   "source": [
    "We will replace the backslashes with spaces on the whole column using pandas replace method."
   ]
  },
  {
   "cell_type": "code",
   "execution_count": 35,
   "id": "0b9be223",
   "metadata": {},
   "outputs": [
    {
     "data": {
      "text/html": [
       "<div>\n",
       "<style scoped>\n",
       "    .dataframe tbody tr th:only-of-type {\n",
       "        vertical-align: middle;\n",
       "    }\n",
       "\n",
       "    .dataframe tbody tr th {\n",
       "        vertical-align: top;\n",
       "    }\n",
       "\n",
       "    .dataframe thead th {\n",
       "        text-align: right;\n",
       "    }\n",
       "</style>\n",
       "<table border=\"1\" class=\"dataframe\">\n",
       "  <thead>\n",
       "    <tr style=\"text-align: right;\">\n",
       "      <th></th>\n",
       "      <th>class index</th>\n",
       "      <th>class</th>\n",
       "      <th>title</th>\n",
       "      <th>description</th>\n",
       "      <th>text</th>\n",
       "    </tr>\n",
       "  </thead>\n",
       "  <tbody>\n",
       "    <tr>\n",
       "      <th>0</th>\n",
       "      <td>3</td>\n",
       "      <td>Business</td>\n",
       "      <td>Wall St. Bears Claw Back Into the Black (Reuters)</td>\n",
       "      <td>Reuters - Short-sellers, Wall Street's dwindli...</td>\n",
       "      <td>wall st. bears claw back into the black (reute...</td>\n",
       "    </tr>\n",
       "    <tr>\n",
       "      <th>1</th>\n",
       "      <td>3</td>\n",
       "      <td>Business</td>\n",
       "      <td>Carlyle Looks Toward Commercial Aerospace (Reu...</td>\n",
       "      <td>Reuters - Private investment firm Carlyle Grou...</td>\n",
       "      <td>carlyle looks toward commercial aerospace (reu...</td>\n",
       "    </tr>\n",
       "    <tr>\n",
       "      <th>2</th>\n",
       "      <td>3</td>\n",
       "      <td>Business</td>\n",
       "      <td>Oil and Economy Cloud Stocks' Outlook (Reuters)</td>\n",
       "      <td>Reuters - Soaring crude prices plus worries\\ab...</td>\n",
       "      <td>oil and economy cloud stocks' outlook (reuters...</td>\n",
       "    </tr>\n",
       "    <tr>\n",
       "      <th>3</th>\n",
       "      <td>3</td>\n",
       "      <td>Business</td>\n",
       "      <td>Iraq Halts Oil Exports from Main Southern Pipe...</td>\n",
       "      <td>Reuters - Authorities have halted oil export\\f...</td>\n",
       "      <td>iraq halts oil exports from main southern pipe...</td>\n",
       "    </tr>\n",
       "    <tr>\n",
       "      <th>4</th>\n",
       "      <td>3</td>\n",
       "      <td>Business</td>\n",
       "      <td>Oil prices soar to all-time record, posing new...</td>\n",
       "      <td>AFP - Tearaway world oil prices, toppling reco...</td>\n",
       "      <td>oil prices soar to all-time record, posing new...</td>\n",
       "    </tr>\n",
       "    <tr>\n",
       "      <th>...</th>\n",
       "      <td>...</td>\n",
       "      <td>...</td>\n",
       "      <td>...</td>\n",
       "      <td>...</td>\n",
       "      <td>...</td>\n",
       "    </tr>\n",
       "    <tr>\n",
       "      <th>119995</th>\n",
       "      <td>1</td>\n",
       "      <td>World</td>\n",
       "      <td>Pakistan's Musharraf Says Won't Quit as Army C...</td>\n",
       "      <td>KARACHI (Reuters) - Pakistani President Perve...</td>\n",
       "      <td>pakistan's musharraf says won't quit as army c...</td>\n",
       "    </tr>\n",
       "    <tr>\n",
       "      <th>119996</th>\n",
       "      <td>2</td>\n",
       "      <td>Sports</td>\n",
       "      <td>Renteria signing a top-shelf deal</td>\n",
       "      <td>Red Sox general manager Theo Epstein acknowled...</td>\n",
       "      <td>renteria signing a top-shelf deal red sox gene...</td>\n",
       "    </tr>\n",
       "    <tr>\n",
       "      <th>119997</th>\n",
       "      <td>2</td>\n",
       "      <td>Sports</td>\n",
       "      <td>Saban not going to Dolphins yet</td>\n",
       "      <td>The Miami Dolphins will put their courtship of...</td>\n",
       "      <td>saban not going to dolphins yet the miami dolp...</td>\n",
       "    </tr>\n",
       "    <tr>\n",
       "      <th>119998</th>\n",
       "      <td>2</td>\n",
       "      <td>Sports</td>\n",
       "      <td>Today's NFL games</td>\n",
       "      <td>PITTSBURGH at NY GIANTS Time: 1:30 p.m. Line: ...</td>\n",
       "      <td>today's nfl games pittsburgh at ny giants time...</td>\n",
       "    </tr>\n",
       "    <tr>\n",
       "      <th>119999</th>\n",
       "      <td>2</td>\n",
       "      <td>Sports</td>\n",
       "      <td>Nets get Carter from Raptors</td>\n",
       "      <td>INDIANAPOLIS -- All-Star Vince Carter was trad...</td>\n",
       "      <td>nets get carter from raptors indianapolis -- a...</td>\n",
       "    </tr>\n",
       "  </tbody>\n",
       "</table>\n",
       "<p>120000 rows × 5 columns</p>\n",
       "</div>"
      ],
      "text/plain": [
       "        class index     class  \\\n",
       "0                 3  Business   \n",
       "1                 3  Business   \n",
       "2                 3  Business   \n",
       "3                 3  Business   \n",
       "4                 3  Business   \n",
       "...             ...       ...   \n",
       "119995            1     World   \n",
       "119996            2    Sports   \n",
       "119997            2    Sports   \n",
       "119998            2    Sports   \n",
       "119999            2    Sports   \n",
       "\n",
       "                                                    title  \\\n",
       "0       Wall St. Bears Claw Back Into the Black (Reuters)   \n",
       "1       Carlyle Looks Toward Commercial Aerospace (Reu...   \n",
       "2         Oil and Economy Cloud Stocks' Outlook (Reuters)   \n",
       "3       Iraq Halts Oil Exports from Main Southern Pipe...   \n",
       "4       Oil prices soar to all-time record, posing new...   \n",
       "...                                                   ...   \n",
       "119995  Pakistan's Musharraf Says Won't Quit as Army C...   \n",
       "119996                  Renteria signing a top-shelf deal   \n",
       "119997                    Saban not going to Dolphins yet   \n",
       "119998                                  Today's NFL games   \n",
       "119999                       Nets get Carter from Raptors   \n",
       "\n",
       "                                              description  \\\n",
       "0       Reuters - Short-sellers, Wall Street's dwindli...   \n",
       "1       Reuters - Private investment firm Carlyle Grou...   \n",
       "2       Reuters - Soaring crude prices plus worries\\ab...   \n",
       "3       Reuters - Authorities have halted oil export\\f...   \n",
       "4       AFP - Tearaway world oil prices, toppling reco...   \n",
       "...                                                   ...   \n",
       "119995   KARACHI (Reuters) - Pakistani President Perve...   \n",
       "119996  Red Sox general manager Theo Epstein acknowled...   \n",
       "119997  The Miami Dolphins will put their courtship of...   \n",
       "119998  PITTSBURGH at NY GIANTS Time: 1:30 p.m. Line: ...   \n",
       "119999  INDIANAPOLIS -- All-Star Vince Carter was trad...   \n",
       "\n",
       "                                                     text  \n",
       "0       wall st. bears claw back into the black (reute...  \n",
       "1       carlyle looks toward commercial aerospace (reu...  \n",
       "2       oil and economy cloud stocks' outlook (reuters...  \n",
       "3       iraq halts oil exports from main southern pipe...  \n",
       "4       oil prices soar to all-time record, posing new...  \n",
       "...                                                   ...  \n",
       "119995  pakistan's musharraf says won't quit as army c...  \n",
       "119996  renteria signing a top-shelf deal red sox gene...  \n",
       "119997  saban not going to dolphins yet the miami dolp...  \n",
       "119998  today's nfl games pittsburgh at ny giants time...  \n",
       "119999  nets get carter from raptors indianapolis -- a...  \n",
       "\n",
       "[120000 rows x 5 columns]"
      ]
     },
     "execution_count": 35,
     "metadata": {},
     "output_type": "execute_result"
    }
   ],
   "source": [
    "train_df['text'] = train_df['title'].str.lower() + \" \" + train_df['description'].str.lower()\n",
    "train_df['text'] = train_df['text'].str.replace('\\\\', ' ', regex=False)\n",
    "train_df"
   ]
  },
  {
   "cell_type": "markdown",
   "id": "c89bd2e4",
   "metadata": {},
   "source": [
    "Now we will proceed to tokenize the title and description columns using NLTK's word_tokenize().\n",
    "We will add a new column to our dataframe with the list of tokens."
   ]
  },
  {
   "cell_type": "code",
   "execution_count": 36,
   "id": "7cadbd62",
   "metadata": {},
   "outputs": [
    {
     "data": {
      "application/vnd.jupyter.widget-view+json": {
       "model_id": "71063fd29ae745dd8cb5177433c0282f",
       "version_major": 2,
       "version_minor": 0
      },
      "text/plain": [
       "  0%|          | 0/120000 [00:00<?, ?it/s]"
      ]
     },
     "metadata": {},
     "output_type": "display_data"
    },
    {
     "data": {
      "text/html": [
       "<div>\n",
       "<style scoped>\n",
       "    .dataframe tbody tr th:only-of-type {\n",
       "        vertical-align: middle;\n",
       "    }\n",
       "\n",
       "    .dataframe tbody tr th {\n",
       "        vertical-align: top;\n",
       "    }\n",
       "\n",
       "    .dataframe thead th {\n",
       "        text-align: right;\n",
       "    }\n",
       "</style>\n",
       "<table border=\"1\" class=\"dataframe\">\n",
       "  <thead>\n",
       "    <tr style=\"text-align: right;\">\n",
       "      <th></th>\n",
       "      <th>class index</th>\n",
       "      <th>class</th>\n",
       "      <th>title</th>\n",
       "      <th>description</th>\n",
       "      <th>text</th>\n",
       "      <th>tokens</th>\n",
       "    </tr>\n",
       "  </thead>\n",
       "  <tbody>\n",
       "    <tr>\n",
       "      <th>0</th>\n",
       "      <td>3</td>\n",
       "      <td>Business</td>\n",
       "      <td>Wall St. Bears Claw Back Into the Black (Reuters)</td>\n",
       "      <td>Reuters - Short-sellers, Wall Street's dwindli...</td>\n",
       "      <td>wall st. bears claw back into the black (reute...</td>\n",
       "      <td>[wall, st., bears, claw, back, into, the, blac...</td>\n",
       "    </tr>\n",
       "    <tr>\n",
       "      <th>1</th>\n",
       "      <td>3</td>\n",
       "      <td>Business</td>\n",
       "      <td>Carlyle Looks Toward Commercial Aerospace (Reu...</td>\n",
       "      <td>Reuters - Private investment firm Carlyle Grou...</td>\n",
       "      <td>carlyle looks toward commercial aerospace (reu...</td>\n",
       "      <td>[carlyle, looks, toward, commercial, aerospace...</td>\n",
       "    </tr>\n",
       "    <tr>\n",
       "      <th>2</th>\n",
       "      <td>3</td>\n",
       "      <td>Business</td>\n",
       "      <td>Oil and Economy Cloud Stocks' Outlook (Reuters)</td>\n",
       "      <td>Reuters - Soaring crude prices plus worries\\ab...</td>\n",
       "      <td>oil and economy cloud stocks' outlook (reuters...</td>\n",
       "      <td>[oil, and, economy, cloud, stocks, ', outlook,...</td>\n",
       "    </tr>\n",
       "    <tr>\n",
       "      <th>3</th>\n",
       "      <td>3</td>\n",
       "      <td>Business</td>\n",
       "      <td>Iraq Halts Oil Exports from Main Southern Pipe...</td>\n",
       "      <td>Reuters - Authorities have halted oil export\\f...</td>\n",
       "      <td>iraq halts oil exports from main southern pipe...</td>\n",
       "      <td>[iraq, halts, oil, exports, from, main, southe...</td>\n",
       "    </tr>\n",
       "    <tr>\n",
       "      <th>4</th>\n",
       "      <td>3</td>\n",
       "      <td>Business</td>\n",
       "      <td>Oil prices soar to all-time record, posing new...</td>\n",
       "      <td>AFP - Tearaway world oil prices, toppling reco...</td>\n",
       "      <td>oil prices soar to all-time record, posing new...</td>\n",
       "      <td>[oil, prices, soar, to, all-time, record, ,, p...</td>\n",
       "    </tr>\n",
       "    <tr>\n",
       "      <th>...</th>\n",
       "      <td>...</td>\n",
       "      <td>...</td>\n",
       "      <td>...</td>\n",
       "      <td>...</td>\n",
       "      <td>...</td>\n",
       "      <td>...</td>\n",
       "    </tr>\n",
       "    <tr>\n",
       "      <th>119995</th>\n",
       "      <td>1</td>\n",
       "      <td>World</td>\n",
       "      <td>Pakistan's Musharraf Says Won't Quit as Army C...</td>\n",
       "      <td>KARACHI (Reuters) - Pakistani President Perve...</td>\n",
       "      <td>pakistan's musharraf says won't quit as army c...</td>\n",
       "      <td>[pakistan, 's, musharraf, says, wo, n't, quit,...</td>\n",
       "    </tr>\n",
       "    <tr>\n",
       "      <th>119996</th>\n",
       "      <td>2</td>\n",
       "      <td>Sports</td>\n",
       "      <td>Renteria signing a top-shelf deal</td>\n",
       "      <td>Red Sox general manager Theo Epstein acknowled...</td>\n",
       "      <td>renteria signing a top-shelf deal red sox gene...</td>\n",
       "      <td>[renteria, signing, a, top-shelf, deal, red, s...</td>\n",
       "    </tr>\n",
       "    <tr>\n",
       "      <th>119997</th>\n",
       "      <td>2</td>\n",
       "      <td>Sports</td>\n",
       "      <td>Saban not going to Dolphins yet</td>\n",
       "      <td>The Miami Dolphins will put their courtship of...</td>\n",
       "      <td>saban not going to dolphins yet the miami dolp...</td>\n",
       "      <td>[saban, not, going, to, dolphins, yet, the, mi...</td>\n",
       "    </tr>\n",
       "    <tr>\n",
       "      <th>119998</th>\n",
       "      <td>2</td>\n",
       "      <td>Sports</td>\n",
       "      <td>Today's NFL games</td>\n",
       "      <td>PITTSBURGH at NY GIANTS Time: 1:30 p.m. Line: ...</td>\n",
       "      <td>today's nfl games pittsburgh at ny giants time...</td>\n",
       "      <td>[today, 's, nfl, games, pittsburgh, at, ny, gi...</td>\n",
       "    </tr>\n",
       "    <tr>\n",
       "      <th>119999</th>\n",
       "      <td>2</td>\n",
       "      <td>Sports</td>\n",
       "      <td>Nets get Carter from Raptors</td>\n",
       "      <td>INDIANAPOLIS -- All-Star Vince Carter was trad...</td>\n",
       "      <td>nets get carter from raptors indianapolis -- a...</td>\n",
       "      <td>[nets, get, carter, from, raptors, indianapoli...</td>\n",
       "    </tr>\n",
       "  </tbody>\n",
       "</table>\n",
       "<p>120000 rows × 6 columns</p>\n",
       "</div>"
      ],
      "text/plain": [
       "        class index     class  \\\n",
       "0                 3  Business   \n",
       "1                 3  Business   \n",
       "2                 3  Business   \n",
       "3                 3  Business   \n",
       "4                 3  Business   \n",
       "...             ...       ...   \n",
       "119995            1     World   \n",
       "119996            2    Sports   \n",
       "119997            2    Sports   \n",
       "119998            2    Sports   \n",
       "119999            2    Sports   \n",
       "\n",
       "                                                    title  \\\n",
       "0       Wall St. Bears Claw Back Into the Black (Reuters)   \n",
       "1       Carlyle Looks Toward Commercial Aerospace (Reu...   \n",
       "2         Oil and Economy Cloud Stocks' Outlook (Reuters)   \n",
       "3       Iraq Halts Oil Exports from Main Southern Pipe...   \n",
       "4       Oil prices soar to all-time record, posing new...   \n",
       "...                                                   ...   \n",
       "119995  Pakistan's Musharraf Says Won't Quit as Army C...   \n",
       "119996                  Renteria signing a top-shelf deal   \n",
       "119997                    Saban not going to Dolphins yet   \n",
       "119998                                  Today's NFL games   \n",
       "119999                       Nets get Carter from Raptors   \n",
       "\n",
       "                                              description  \\\n",
       "0       Reuters - Short-sellers, Wall Street's dwindli...   \n",
       "1       Reuters - Private investment firm Carlyle Grou...   \n",
       "2       Reuters - Soaring crude prices plus worries\\ab...   \n",
       "3       Reuters - Authorities have halted oil export\\f...   \n",
       "4       AFP - Tearaway world oil prices, toppling reco...   \n",
       "...                                                   ...   \n",
       "119995   KARACHI (Reuters) - Pakistani President Perve...   \n",
       "119996  Red Sox general manager Theo Epstein acknowled...   \n",
       "119997  The Miami Dolphins will put their courtship of...   \n",
       "119998  PITTSBURGH at NY GIANTS Time: 1:30 p.m. Line: ...   \n",
       "119999  INDIANAPOLIS -- All-Star Vince Carter was trad...   \n",
       "\n",
       "                                                     text  \\\n",
       "0       wall st. bears claw back into the black (reute...   \n",
       "1       carlyle looks toward commercial aerospace (reu...   \n",
       "2       oil and economy cloud stocks' outlook (reuters...   \n",
       "3       iraq halts oil exports from main southern pipe...   \n",
       "4       oil prices soar to all-time record, posing new...   \n",
       "...                                                   ...   \n",
       "119995  pakistan's musharraf says won't quit as army c...   \n",
       "119996  renteria signing a top-shelf deal red sox gene...   \n",
       "119997  saban not going to dolphins yet the miami dolp...   \n",
       "119998  today's nfl games pittsburgh at ny giants time...   \n",
       "119999  nets get carter from raptors indianapolis -- a...   \n",
       "\n",
       "                                                   tokens  \n",
       "0       [wall, st., bears, claw, back, into, the, blac...  \n",
       "1       [carlyle, looks, toward, commercial, aerospace...  \n",
       "2       [oil, and, economy, cloud, stocks, ', outlook,...  \n",
       "3       [iraq, halts, oil, exports, from, main, southe...  \n",
       "4       [oil, prices, soar, to, all-time, record, ,, p...  \n",
       "...                                                   ...  \n",
       "119995  [pakistan, 's, musharraf, says, wo, n't, quit,...  \n",
       "119996  [renteria, signing, a, top-shelf, deal, red, s...  \n",
       "119997  [saban, not, going, to, dolphins, yet, the, mi...  \n",
       "119998  [today, 's, nfl, games, pittsburgh, at, ny, gi...  \n",
       "119999  [nets, get, carter, from, raptors, indianapoli...  \n",
       "\n",
       "[120000 rows x 6 columns]"
      ]
     },
     "execution_count": 36,
     "metadata": {},
     "output_type": "execute_result"
    }
   ],
   "source": [
    "from nltk.tokenize import word_tokenize\n",
    "\n",
    "train_df['tokens'] = train_df['text'].progress_map(word_tokenize)\n",
    "train_df"
   ]
  },
  {
   "cell_type": "code",
   "execution_count": 37,
   "id": "e0c74733",
   "metadata": {},
   "outputs": [
    {
     "name": "stdout",
     "output_type": "stream",
     "text": [
      "train rows: 96,000\n",
      "dev rows: 24,000\n"
     ]
    }
   ],
   "source": [
    "from sklearn.model_selection import train_test_split\n",
    "\n",
    "train_df, dev_df = train_test_split(train_df, train_size=0.8)\n",
    "train_df.reset_index(inplace=True)\n",
    "dev_df.reset_index(inplace=True)\n",
    "\n",
    "print(f'train rows: {len(train_df.index):,}')\n",
    "print(f'dev rows: {len(dev_df.index):,}')"
   ]
  },
  {
   "cell_type": "markdown",
   "id": "3c35725c",
   "metadata": {},
   "source": [
    "Now we will create a vocabulary from the training data. We will only keep the terms that repeat beyond some threshold established below."
   ]
  },
  {
   "cell_type": "code",
   "execution_count": 38,
   "id": "160e13b6",
   "metadata": {},
   "outputs": [
    {
     "name": "stdout",
     "output_type": "stream",
     "text": [
      "vocabulary size: 17,447\n"
     ]
    }
   ],
   "source": [
    "threshold = 10\n",
    "tokens = train_df['tokens'].explode().value_counts()\n",
    "tokens = tokens[tokens > threshold]\n",
    "id_to_token = ['[UNK]'] + tokens.index.tolist()\n",
    "token_to_id = {w:i for i,w in enumerate(id_to_token)}\n",
    "vocabulary_size = len(id_to_token)\n",
    "print(f'vocabulary size: {vocabulary_size:,}')"
   ]
  },
  {
   "cell_type": "code",
   "execution_count": 39,
   "id": "4c3e30f1",
   "metadata": {},
   "outputs": [
    {
     "data": {
      "application/vnd.jupyter.widget-view+json": {
       "model_id": "7df05e949f424da48b3b4cb81da926d8",
       "version_major": 2,
       "version_minor": 0
      },
      "text/plain": [
       "  0%|          | 0/96000 [00:00<?, ?it/s]"
      ]
     },
     "metadata": {},
     "output_type": "display_data"
    },
    {
     "data": {
      "application/vnd.jupyter.widget-view+json": {
       "model_id": "e09e6f55e9744cc7be11b1ffb25dc25a",
       "version_major": 2,
       "version_minor": 0
      },
      "text/plain": [
       "  0%|          | 0/24000 [00:00<?, ?it/s]"
      ]
     },
     "metadata": {},
     "output_type": "display_data"
    },
    {
     "data": {
      "text/html": [
       "<div>\n",
       "<style scoped>\n",
       "    .dataframe tbody tr th:only-of-type {\n",
       "        vertical-align: middle;\n",
       "    }\n",
       "\n",
       "    .dataframe tbody tr th {\n",
       "        vertical-align: top;\n",
       "    }\n",
       "\n",
       "    .dataframe thead th {\n",
       "        text-align: right;\n",
       "    }\n",
       "</style>\n",
       "<table border=\"1\" class=\"dataframe\">\n",
       "  <thead>\n",
       "    <tr style=\"text-align: right;\">\n",
       "      <th></th>\n",
       "      <th>index</th>\n",
       "      <th>class index</th>\n",
       "      <th>class</th>\n",
       "      <th>title</th>\n",
       "      <th>description</th>\n",
       "      <th>text</th>\n",
       "      <th>tokens</th>\n",
       "      <th>features</th>\n",
       "    </tr>\n",
       "  </thead>\n",
       "  <tbody>\n",
       "    <tr>\n",
       "      <th>0</th>\n",
       "      <td>9116</td>\n",
       "      <td>1</td>\n",
       "      <td>World</td>\n",
       "      <td>Najaf's Residents Feel Trapped in Battle (AP)</td>\n",
       "      <td>AP - For nearly three weeks, Amer al-Jamali ha...</td>\n",
       "      <td>najaf's residents feel trapped in battle (ap) ...</td>\n",
       "      <td>[najaf, 's, residents, feel, trapped, in, batt...</td>\n",
       "      <td>{994: 1, 23: 2, 1727: 1, 2996: 1, 3995: 1, 7: ...</td>\n",
       "    </tr>\n",
       "    <tr>\n",
       "      <th>1</th>\n",
       "      <td>99831</td>\n",
       "      <td>3</td>\n",
       "      <td>Business</td>\n",
       "      <td>U.S. FDA Adds Restrictions to Acne Drug</td>\n",
       "      <td>WASHINGTON (Reuters) - Roche's acne drug Accu...</td>\n",
       "      <td>u.s. fda adds restrictions to acne drug  washi...</td>\n",
       "      <td>[u.s., fda, adds, restrictions, to, acne, drug...</td>\n",
       "      <td>{70: 2, 2504: 1, 1685: 1, 5737: 1, 4: 3, 0: 4,...</td>\n",
       "    </tr>\n",
       "    <tr>\n",
       "      <th>2</th>\n",
       "      <td>10663</td>\n",
       "      <td>3</td>\n",
       "      <td>Business</td>\n",
       "      <td>Smithfield Foods Profit More Than Doubles</td>\n",
       "      <td>Smithfield Foods Inc. (SFD.N: Quote, Profile, ...</td>\n",
       "      <td>smithfield foods profit more than doubles smit...</td>\n",
       "      <td>[smithfield, foods, profit, more, than, double...</td>\n",
       "      <td>{8537: 2, 2685: 3, 157: 1, 54: 2, 78: 2, 3138:...</td>\n",
       "    </tr>\n",
       "    <tr>\n",
       "      <th>3</th>\n",
       "      <td>73175</td>\n",
       "      <td>4</td>\n",
       "      <td>Sci/Tech</td>\n",
       "      <td>PluggedIn: The OQO Is Not Just Another Handhel...</td>\n",
       "      <td>SAN FRANCISCO (Reuters) - A full-fledged Wind...</td>\n",
       "      <td>pluggedin: the oqo is not just another handhel...</td>\n",
       "      <td>[pluggedin, :, the, oqo, is, not, just, anothe...</td>\n",
       "      <td>{11417: 1, 28: 1, 1: 6, 15864: 2, 25: 1, 68: 1...</td>\n",
       "    </tr>\n",
       "    <tr>\n",
       "      <th>4</th>\n",
       "      <td>104494</td>\n",
       "      <td>4</td>\n",
       "      <td>Sci/Tech</td>\n",
       "      <td>IBM invigorates LTO tape storage</td>\n",
       "      <td>LTO (linear tape open)-based drives are invigo...</td>\n",
       "      <td>ibm invigorates lto tape storage lto (linear t...</td>\n",
       "      <td>[ibm, invigorates, lto, tape, storage, lto, (,...</td>\n",
       "      <td>{210: 2, 0: 7, 3002: 3, 988: 2, 14: 1, 154: 1,...</td>\n",
       "    </tr>\n",
       "    <tr>\n",
       "      <th>...</th>\n",
       "      <td>...</td>\n",
       "      <td>...</td>\n",
       "      <td>...</td>\n",
       "      <td>...</td>\n",
       "      <td>...</td>\n",
       "      <td>...</td>\n",
       "      <td>...</td>\n",
       "      <td>...</td>\n",
       "    </tr>\n",
       "    <tr>\n",
       "      <th>95995</th>\n",
       "      <td>89460</td>\n",
       "      <td>1</td>\n",
       "      <td>World</td>\n",
       "      <td>Bush, Blair See Hope for Palestinian State (AP)</td>\n",
       "      <td>AP - As Yasser Arafat was buried, President Bu...</td>\n",
       "      <td>bush, blair see hope for palestinian state (ap...</td>\n",
       "      <td>[bush, ,, blair, see, hope, for, palestinian, ...</td>\n",
       "      <td>{135: 2, 2: 3, 765: 1, 672: 1, 886: 1, 11: 2, ...</td>\n",
       "    </tr>\n",
       "    <tr>\n",
       "      <th>95996</th>\n",
       "      <td>60620</td>\n",
       "      <td>1</td>\n",
       "      <td>World</td>\n",
       "      <td>Ex-Soldiers Vow to Bring Order to Haiti Capital</td>\n",
       "      <td>Ex-soldiers who helped topple former President...</td>\n",
       "      <td>ex-soldiers vow to bring order to haiti capita...</td>\n",
       "      <td>[ex-soldiers, vow, to, bring, order, to, haiti...</td>\n",
       "      <td>{14413: 2, 6475: 1, 4: 3, 1042: 1, 1078: 1, 13...</td>\n",
       "    </tr>\n",
       "    <tr>\n",
       "      <th>95997</th>\n",
       "      <td>34086</td>\n",
       "      <td>1</td>\n",
       "      <td>World</td>\n",
       "      <td>Musharraf says U.S. must address root of terro...</td>\n",
       "      <td>Reuters - The United States could lose its war...</td>\n",
       "      <td>musharraf says u.s. must address root of terro...</td>\n",
       "      <td>[musharraf, says, u.s., must, address, root, o...</td>\n",
       "      <td>{1625: 2, 91: 1, 70: 1, 752: 1, 2352: 1, 8695:...</td>\n",
       "    </tr>\n",
       "    <tr>\n",
       "      <th>95998</th>\n",
       "      <td>58067</td>\n",
       "      <td>1</td>\n",
       "      <td>World</td>\n",
       "      <td>Nuclear materials  #39;vanish #39; in Iraq</td>\n",
       "      <td>Equipment and materials that could be used to ...</td>\n",
       "      <td>nuclear materials  #39;vanish #39; in iraq equ...</td>\n",
       "      <td>[nuclear, materials, #, 39, ;, vanish, #, 39, ...</td>\n",
       "      <td>{275: 2, 3413: 2, 12: 3, 13: 3, 8: 3, 12159: 1...</td>\n",
       "    </tr>\n",
       "    <tr>\n",
       "      <th>95999</th>\n",
       "      <td>92975</td>\n",
       "      <td>4</td>\n",
       "      <td>Sci/Tech</td>\n",
       "      <td>In Brief: Bowstreet unveils pre-packaged porta...</td>\n",
       "      <td>Bowstreet this week launched its Enterprise Po...</td>\n",
       "      <td>in brief: bowstreet unveils pre-packaged porta...</td>\n",
       "      <td>[in, brief, :, bowstreet, unveils, pre-package...</td>\n",
       "      <td>{7: 1, 3146: 1, 28: 1, 0: 4, 1436: 1, 5695: 2,...</td>\n",
       "    </tr>\n",
       "  </tbody>\n",
       "</table>\n",
       "<p>96000 rows × 8 columns</p>\n",
       "</div>"
      ],
      "text/plain": [
       "        index  class index     class  \\\n",
       "0        9116            1     World   \n",
       "1       99831            3  Business   \n",
       "2       10663            3  Business   \n",
       "3       73175            4  Sci/Tech   \n",
       "4      104494            4  Sci/Tech   \n",
       "...       ...          ...       ...   \n",
       "95995   89460            1     World   \n",
       "95996   60620            1     World   \n",
       "95997   34086            1     World   \n",
       "95998   58067            1     World   \n",
       "95999   92975            4  Sci/Tech   \n",
       "\n",
       "                                                   title  \\\n",
       "0          Najaf's Residents Feel Trapped in Battle (AP)   \n",
       "1                U.S. FDA Adds Restrictions to Acne Drug   \n",
       "2              Smithfield Foods Profit More Than Doubles   \n",
       "3      PluggedIn: The OQO Is Not Just Another Handhel...   \n",
       "4                       IBM invigorates LTO tape storage   \n",
       "...                                                  ...   \n",
       "95995    Bush, Blair See Hope for Palestinian State (AP)   \n",
       "95996    Ex-Soldiers Vow to Bring Order to Haiti Capital   \n",
       "95997  Musharraf says U.S. must address root of terro...   \n",
       "95998         Nuclear materials  #39;vanish #39; in Iraq   \n",
       "95999  In Brief: Bowstreet unveils pre-packaged porta...   \n",
       "\n",
       "                                             description  \\\n",
       "0      AP - For nearly three weeks, Amer al-Jamali ha...   \n",
       "1       WASHINGTON (Reuters) - Roche's acne drug Accu...   \n",
       "2      Smithfield Foods Inc. (SFD.N: Quote, Profile, ...   \n",
       "3       SAN FRANCISCO (Reuters) - A full-fledged Wind...   \n",
       "4      LTO (linear tape open)-based drives are invigo...   \n",
       "...                                                  ...   \n",
       "95995  AP - As Yasser Arafat was buried, President Bu...   \n",
       "95996  Ex-soldiers who helped topple former President...   \n",
       "95997  Reuters - The United States could lose its war...   \n",
       "95998  Equipment and materials that could be used to ...   \n",
       "95999  Bowstreet this week launched its Enterprise Po...   \n",
       "\n",
       "                                                    text  \\\n",
       "0      najaf's residents feel trapped in battle (ap) ...   \n",
       "1      u.s. fda adds restrictions to acne drug  washi...   \n",
       "2      smithfield foods profit more than doubles smit...   \n",
       "3      pluggedin: the oqo is not just another handhel...   \n",
       "4      ibm invigorates lto tape storage lto (linear t...   \n",
       "...                                                  ...   \n",
       "95995  bush, blair see hope for palestinian state (ap...   \n",
       "95996  ex-soldiers vow to bring order to haiti capita...   \n",
       "95997  musharraf says u.s. must address root of terro...   \n",
       "95998  nuclear materials  #39;vanish #39; in iraq equ...   \n",
       "95999  in brief: bowstreet unveils pre-packaged porta...   \n",
       "\n",
       "                                                  tokens  \\\n",
       "0      [najaf, 's, residents, feel, trapped, in, batt...   \n",
       "1      [u.s., fda, adds, restrictions, to, acne, drug...   \n",
       "2      [smithfield, foods, profit, more, than, double...   \n",
       "3      [pluggedin, :, the, oqo, is, not, just, anothe...   \n",
       "4      [ibm, invigorates, lto, tape, storage, lto, (,...   \n",
       "...                                                  ...   \n",
       "95995  [bush, ,, blair, see, hope, for, palestinian, ...   \n",
       "95996  [ex-soldiers, vow, to, bring, order, to, haiti...   \n",
       "95997  [musharraf, says, u.s., must, address, root, o...   \n",
       "95998  [nuclear, materials, #, 39, ;, vanish, #, 39, ...   \n",
       "95999  [in, brief, :, bowstreet, unveils, pre-package...   \n",
       "\n",
       "                                                features  \n",
       "0      {994: 1, 23: 2, 1727: 1, 2996: 1, 3995: 1, 7: ...  \n",
       "1      {70: 2, 2504: 1, 1685: 1, 5737: 1, 4: 3, 0: 4,...  \n",
       "2      {8537: 2, 2685: 3, 157: 1, 54: 2, 78: 2, 3138:...  \n",
       "3      {11417: 1, 28: 1, 1: 6, 15864: 2, 25: 1, 68: 1...  \n",
       "4      {210: 2, 0: 7, 3002: 3, 988: 2, 14: 1, 154: 1,...  \n",
       "...                                                  ...  \n",
       "95995  {135: 2, 2: 3, 765: 1, 672: 1, 886: 1, 11: 2, ...  \n",
       "95996  {14413: 2, 6475: 1, 4: 3, 1042: 1, 1078: 1, 13...  \n",
       "95997  {1625: 2, 91: 1, 70: 1, 752: 1, 2352: 1, 8695:...  \n",
       "95998  {275: 2, 3413: 2, 12: 3, 13: 3, 8: 3, 12159: 1...  \n",
       "95999  {7: 1, 3146: 1, 28: 1, 0: 4, 1436: 1, 5695: 2,...  \n",
       "\n",
       "[96000 rows x 8 columns]"
      ]
     },
     "execution_count": 39,
     "metadata": {},
     "output_type": "execute_result"
    }
   ],
   "source": [
    "from collections import defaultdict\n",
    "\n",
    "def make_feature_vector(tokens, unk_id=0):\n",
    "    vector = defaultdict(int)\n",
    "    for t in tokens:\n",
    "        i = token_to_id.get(t, unk_id)\n",
    "        vector[i] += 1\n",
    "    return vector\n",
    "\n",
    "train_df['features'] = train_df['tokens'].progress_map(make_feature_vector)\n",
    "dev_df['features'] = dev_df['tokens'].progress_map(make_feature_vector)\n",
    "train_df"
   ]
  },
  {
   "cell_type": "code",
   "execution_count": 40,
   "id": "b885dda5",
   "metadata": {},
   "outputs": [],
   "source": [
    "from torch.utils.data import Dataset\n",
    "\n",
    "class MyDataset(Dataset):\n",
    "    def __init__(self, x, y):\n",
    "        self.x = x\n",
    "        self.y = y\n",
    "        \n",
    "    def __len__(self):\n",
    "        return len(self.x)\n",
    "    \n",
    "    def __getitem__(self, index):\n",
    "        x = torch.zeros(vocabulary_size, dtype=torch.float32)\n",
    "        y = torch.tensor(self.y[index])\n",
    "        for k,v in self.x[index].items():\n",
    "            x[k] = v\n",
    "        return x, y"
   ]
  },
  {
   "cell_type": "code",
   "execution_count": 41,
   "id": "c89cd41b",
   "metadata": {},
   "outputs": [],
   "source": [
    "from torch import nn\n",
    "import torch.nn.functional as F\n",
    "\n",
    "class Model(nn.Module):\n",
    "    def __init__(self, input_dim, hidden_dim_0, hidden_dim_1, output_dim, dropout):\n",
    "        super().__init__()\n",
    "        self.layers = nn.Sequential(\n",
    "            nn.Dropout(dropout),\n",
    "            nn.Linear(input_dim, hidden_dim_0),\n",
    "            nn.GELU(),\n",
    "            nn.Dropout(dropout),\n",
    "            nn.Linear(hidden_dim_0, hidden_dim_1),\n",
    "            nn.GELU(),\n",
    "            nn.Dropout(dropout),\n",
    "            nn.Linear(hidden_dim_1, output_dim),\n",
    "        )\n",
    "        \n",
    "    def forward(self, x):\n",
    "        return self.layers(x)"
   ]
  },
  {
   "cell_type": "code",
   "execution_count": 42,
   "id": "9b18b9a2",
   "metadata": {},
   "outputs": [],
   "source": [
    "from torch import optim\n",
    "from torch.utils.data import DataLoader\n",
    "from sklearn.metrics import accuracy_score\n",
    "\n",
    "# hyperparameters\n",
    "lr = 1e-2\n",
    "weight_decay = 1e-5\n",
    "batch_size = 500\n",
    "shuffle = True\n",
    "n_epochs = 15\n",
    "input_dim = vocabulary_size\n",
    "hidden_dim_0 = 100\n",
    "hidden_dim_1 = 50\n",
    "output_dim = len(labels)\n",
    "dropout = 0.5\n",
    "\n",
    "# lr = 1e-3\n",
    "# weight_decay = 1e-5\n",
    "# batch_size = 500\n",
    "# shuffle = True\n",
    "# n_epochs = 5\n",
    "# input_dim = vocabulary_size\n",
    "# hidden_dim_0 = 100\n",
    "# hidden_dim_1 = 50\n",
    "# output_dim = len(labels)\n",
    "#dropout = 0.3\n",
    "\n",
    "# initialize the model, loss function, optimizer, and data-loader\n",
    "model = Model(input_dim, hidden_dim_0, hidden_dim_1, output_dim, dropout).to(device)\n",
    "loss_func = nn.CrossEntropyLoss()\n",
    "optimizer = optim.Adam(\n",
    "    model.parameters(),\n",
    "    lr=lr,\n",
    "    weight_decay=weight_decay)\n",
    "train_ds = MyDataset(\n",
    "    train_df['features'],\n",
    "    train_df['class index'] - 1)\n",
    "train_dl = DataLoader(\n",
    "    train_ds,\n",
    "    batch_size=batch_size,\n",
    "    shuffle=shuffle)\n",
    "dev_ds = MyDataset(\n",
    "    dev_df['features'],\n",
    "    dev_df['class index'] - 1)\n",
    "dev_dl = DataLoader(\n",
    "    dev_ds,\n",
    "    batch_size=batch_size,\n",
    "    shuffle=shuffle)\n",
    "\n",
    "# lists used to store plotting data\n",
    "train_loss, train_acc = [], []\n",
    "dev_loss, dev_acc = [], []"
   ]
  },
  {
   "cell_type": "code",
   "execution_count": 43,
   "id": "c1cbda4b",
   "metadata": {},
   "outputs": [
    {
     "data": {
      "application/vnd.jupyter.widget-view+json": {
       "model_id": "f29777c2b0ac4732bd6591b54bb2f17b",
       "version_major": 2,
       "version_minor": 0
      },
      "text/plain": [
       "epoch 1 (train):   0%|          | 0/192 [00:00<?, ?it/s]"
      ]
     },
     "metadata": {},
     "output_type": "display_data"
    },
    {
     "data": {
      "application/vnd.jupyter.widget-view+json": {
       "model_id": "c7098d83969947559661197519484bff",
       "version_major": 2,
       "version_minor": 0
      },
      "text/plain": [
       "epoch 1 (dev):   0%|          | 0/48 [00:00<?, ?it/s]"
      ]
     },
     "metadata": {},
     "output_type": "display_data"
    },
    {
     "data": {
      "application/vnd.jupyter.widget-view+json": {
       "model_id": "b4f7d10f3d514d34be6b1a4ee047a60f",
       "version_major": 2,
       "version_minor": 0
      },
      "text/plain": [
       "epoch 2 (train):   0%|          | 0/192 [00:00<?, ?it/s]"
      ]
     },
     "metadata": {},
     "output_type": "display_data"
    },
    {
     "data": {
      "application/vnd.jupyter.widget-view+json": {
       "model_id": "e9bf68bff8874205bc73fd0499c2a1a4",
       "version_major": 2,
       "version_minor": 0
      },
      "text/plain": [
       "epoch 2 (dev):   0%|          | 0/48 [00:00<?, ?it/s]"
      ]
     },
     "metadata": {},
     "output_type": "display_data"
    },
    {
     "data": {
      "application/vnd.jupyter.widget-view+json": {
       "model_id": "60d2b03195fb4693b3b8ab8e9f632c1f",
       "version_major": 2,
       "version_minor": 0
      },
      "text/plain": [
       "epoch 3 (train):   0%|          | 0/192 [00:00<?, ?it/s]"
      ]
     },
     "metadata": {},
     "output_type": "display_data"
    },
    {
     "data": {
      "application/vnd.jupyter.widget-view+json": {
       "model_id": "2c6a8ad46d9244bead9840b0ba9e3bdd",
       "version_major": 2,
       "version_minor": 0
      },
      "text/plain": [
       "epoch 3 (dev):   0%|          | 0/48 [00:00<?, ?it/s]"
      ]
     },
     "metadata": {},
     "output_type": "display_data"
    },
    {
     "data": {
      "application/vnd.jupyter.widget-view+json": {
       "model_id": "b96c4386dc63453f96f9b12a89d5274d",
       "version_major": 2,
       "version_minor": 0
      },
      "text/plain": [
       "epoch 4 (train):   0%|          | 0/192 [00:00<?, ?it/s]"
      ]
     },
     "metadata": {},
     "output_type": "display_data"
    },
    {
     "data": {
      "application/vnd.jupyter.widget-view+json": {
       "model_id": "43fea9901d9b4633a16426f7e1324ad8",
       "version_major": 2,
       "version_minor": 0
      },
      "text/plain": [
       "epoch 4 (dev):   0%|          | 0/48 [00:00<?, ?it/s]"
      ]
     },
     "metadata": {},
     "output_type": "display_data"
    },
    {
     "data": {
      "application/vnd.jupyter.widget-view+json": {
       "model_id": "9648c0e2c9cf4879afd061b78c8c9f7a",
       "version_major": 2,
       "version_minor": 0
      },
      "text/plain": [
       "epoch 5 (train):   0%|          | 0/192 [00:00<?, ?it/s]"
      ]
     },
     "metadata": {},
     "output_type": "display_data"
    },
    {
     "data": {
      "application/vnd.jupyter.widget-view+json": {
       "model_id": "557b4bf749954d829a67e7626710335a",
       "version_major": 2,
       "version_minor": 0
      },
      "text/plain": [
       "epoch 5 (dev):   0%|          | 0/48 [00:00<?, ?it/s]"
      ]
     },
     "metadata": {},
     "output_type": "display_data"
    },
    {
     "data": {
      "application/vnd.jupyter.widget-view+json": {
       "model_id": "cf9453a54c3a41448c5dc015693924a9",
       "version_major": 2,
       "version_minor": 0
      },
      "text/plain": [
       "epoch 6 (train):   0%|          | 0/192 [00:00<?, ?it/s]"
      ]
     },
     "metadata": {},
     "output_type": "display_data"
    },
    {
     "data": {
      "application/vnd.jupyter.widget-view+json": {
       "model_id": "aff36781a05e4c33854fa05c589fa19a",
       "version_major": 2,
       "version_minor": 0
      },
      "text/plain": [
       "epoch 6 (dev):   0%|          | 0/48 [00:00<?, ?it/s]"
      ]
     },
     "metadata": {},
     "output_type": "display_data"
    },
    {
     "data": {
      "application/vnd.jupyter.widget-view+json": {
       "model_id": "dd7321107d114007b5eecef93a1c0adb",
       "version_major": 2,
       "version_minor": 0
      },
      "text/plain": [
       "epoch 7 (train):   0%|          | 0/192 [00:00<?, ?it/s]"
      ]
     },
     "metadata": {},
     "output_type": "display_data"
    },
    {
     "data": {
      "application/vnd.jupyter.widget-view+json": {
       "model_id": "119bed21e860421a804eedb7276467fa",
       "version_major": 2,
       "version_minor": 0
      },
      "text/plain": [
       "epoch 7 (dev):   0%|          | 0/48 [00:00<?, ?it/s]"
      ]
     },
     "metadata": {},
     "output_type": "display_data"
    },
    {
     "data": {
      "application/vnd.jupyter.widget-view+json": {
       "model_id": "df901cacffaf4bcd847e8c0b4c63fc32",
       "version_major": 2,
       "version_minor": 0
      },
      "text/plain": [
       "epoch 8 (train):   0%|          | 0/192 [00:00<?, ?it/s]"
      ]
     },
     "metadata": {},
     "output_type": "display_data"
    },
    {
     "data": {
      "application/vnd.jupyter.widget-view+json": {
       "model_id": "79d87e2dd3fc48f19409e9469f795c96",
       "version_major": 2,
       "version_minor": 0
      },
      "text/plain": [
       "epoch 8 (dev):   0%|          | 0/48 [00:00<?, ?it/s]"
      ]
     },
     "metadata": {},
     "output_type": "display_data"
    },
    {
     "data": {
      "application/vnd.jupyter.widget-view+json": {
       "model_id": "0dcdb647c7464ca88943c7f363aaee24",
       "version_major": 2,
       "version_minor": 0
      },
      "text/plain": [
       "epoch 9 (train):   0%|          | 0/192 [00:00<?, ?it/s]"
      ]
     },
     "metadata": {},
     "output_type": "display_data"
    },
    {
     "data": {
      "application/vnd.jupyter.widget-view+json": {
       "model_id": "4e66e962e652458691b3fd6e937b5944",
       "version_major": 2,
       "version_minor": 0
      },
      "text/plain": [
       "epoch 9 (dev):   0%|          | 0/48 [00:00<?, ?it/s]"
      ]
     },
     "metadata": {},
     "output_type": "display_data"
    },
    {
     "data": {
      "application/vnd.jupyter.widget-view+json": {
       "model_id": "21831019751346dfac55002378826375",
       "version_major": 2,
       "version_minor": 0
      },
      "text/plain": [
       "epoch 10 (train):   0%|          | 0/192 [00:00<?, ?it/s]"
      ]
     },
     "metadata": {},
     "output_type": "display_data"
    },
    {
     "data": {
      "application/vnd.jupyter.widget-view+json": {
       "model_id": "446f550d37784a36a77649637cf0dbba",
       "version_major": 2,
       "version_minor": 0
      },
      "text/plain": [
       "epoch 10 (dev):   0%|          | 0/48 [00:00<?, ?it/s]"
      ]
     },
     "metadata": {},
     "output_type": "display_data"
    },
    {
     "data": {
      "application/vnd.jupyter.widget-view+json": {
       "model_id": "0468974a6ce549ea95dd6acd949ceffa",
       "version_major": 2,
       "version_minor": 0
      },
      "text/plain": [
       "epoch 11 (train):   0%|          | 0/192 [00:00<?, ?it/s]"
      ]
     },
     "metadata": {},
     "output_type": "display_data"
    },
    {
     "data": {
      "application/vnd.jupyter.widget-view+json": {
       "model_id": "ce1f1a405ac64dbb877e847cbb487fc4",
       "version_major": 2,
       "version_minor": 0
      },
      "text/plain": [
       "epoch 11 (dev):   0%|          | 0/48 [00:00<?, ?it/s]"
      ]
     },
     "metadata": {},
     "output_type": "display_data"
    },
    {
     "data": {
      "application/vnd.jupyter.widget-view+json": {
       "model_id": "6fdfd368513646e886cf8038f8bb0da1",
       "version_major": 2,
       "version_minor": 0
      },
      "text/plain": [
       "epoch 12 (train):   0%|          | 0/192 [00:00<?, ?it/s]"
      ]
     },
     "metadata": {},
     "output_type": "display_data"
    },
    {
     "data": {
      "application/vnd.jupyter.widget-view+json": {
       "model_id": "282f878efc76457cbf703840ebc7aa48",
       "version_major": 2,
       "version_minor": 0
      },
      "text/plain": [
       "epoch 12 (dev):   0%|          | 0/48 [00:00<?, ?it/s]"
      ]
     },
     "metadata": {},
     "output_type": "display_data"
    },
    {
     "data": {
      "application/vnd.jupyter.widget-view+json": {
       "model_id": "743a46d174ae4437a4f4685a96660cea",
       "version_major": 2,
       "version_minor": 0
      },
      "text/plain": [
       "epoch 13 (train):   0%|          | 0/192 [00:00<?, ?it/s]"
      ]
     },
     "metadata": {},
     "output_type": "display_data"
    },
    {
     "data": {
      "application/vnd.jupyter.widget-view+json": {
       "model_id": "6693423c22bf433196cd8df60d183f97",
       "version_major": 2,
       "version_minor": 0
      },
      "text/plain": [
       "epoch 13 (dev):   0%|          | 0/48 [00:00<?, ?it/s]"
      ]
     },
     "metadata": {},
     "output_type": "display_data"
    },
    {
     "data": {
      "application/vnd.jupyter.widget-view+json": {
       "model_id": "872a10f16ec84fafaea72ed83049e8fa",
       "version_major": 2,
       "version_minor": 0
      },
      "text/plain": [
       "epoch 14 (train):   0%|          | 0/192 [00:00<?, ?it/s]"
      ]
     },
     "metadata": {},
     "output_type": "display_data"
    },
    {
     "data": {
      "application/vnd.jupyter.widget-view+json": {
       "model_id": "e90587b94f8b434eb0e8368782debb1f",
       "version_major": 2,
       "version_minor": 0
      },
      "text/plain": [
       "epoch 14 (dev):   0%|          | 0/48 [00:00<?, ?it/s]"
      ]
     },
     "metadata": {},
     "output_type": "display_data"
    },
    {
     "data": {
      "application/vnd.jupyter.widget-view+json": {
       "model_id": "cdcda7e30d3340749d6eeca08ac009c8",
       "version_major": 2,
       "version_minor": 0
      },
      "text/plain": [
       "epoch 15 (train):   0%|          | 0/192 [00:00<?, ?it/s]"
      ]
     },
     "metadata": {},
     "output_type": "display_data"
    },
    {
     "data": {
      "application/vnd.jupyter.widget-view+json": {
       "model_id": "bd92cc63726e45b6aeb26dd43d8cbb39",
       "version_major": 2,
       "version_minor": 0
      },
      "text/plain": [
       "epoch 15 (dev):   0%|          | 0/48 [00:00<?, ?it/s]"
      ]
     },
     "metadata": {},
     "output_type": "display_data"
    }
   ],
   "source": [
    "# train the model\n",
    "for epoch in range(n_epochs):\n",
    "    losses, acc = [], []\n",
    "    # set model to training mode\n",
    "    model.train()\n",
    "    for X, y_true in tqdm(train_dl, desc=f'epoch {epoch+1} (train)'):\n",
    "        # clear gradients\n",
    "        model.zero_grad()\n",
    "        # send batch to right device\n",
    "        X = X.to(device)\n",
    "        y_true = y_true.to(device)\n",
    "        # predict label scores\n",
    "        y_pred = model(X)\n",
    "        # compute loss\n",
    "        loss = loss_func(y_pred, y_true)\n",
    "        # compute accuracy\n",
    "        gold = y_true.detach().cpu().numpy()\n",
    "        pred = np.argmax(y_pred.detach().cpu().numpy(), axis=1)\n",
    "        # accumulate for plotting\n",
    "        losses.append(loss.detach().cpu().item())\n",
    "        acc.append(accuracy_score(gold, pred))\n",
    "        # backpropagate\n",
    "        loss.backward()\n",
    "        # optimize model parameters\n",
    "        optimizer.step()\n",
    "    # save epoch stats\n",
    "    train_loss.append(np.mean(losses))\n",
    "    train_acc.append(np.mean(acc))\n",
    "    \n",
    "    # set model to evaluation mode\n",
    "    model.eval()\n",
    "    # disable gradient calculation\n",
    "    with torch.no_grad():\n",
    "        losses, acc = [], []\n",
    "        for X, y_true in tqdm(dev_dl, desc=f'epoch {epoch+1} (dev)'):\n",
    "            # send batch to right device\n",
    "            X = X.to(device)\n",
    "            y_true = y_true.to(device)\n",
    "            # predict label scores\n",
    "            y_pred = model(X)\n",
    "            # compute loss\n",
    "            loss = loss_func(y_pred, y_true)\n",
    "            # compute accuracy\n",
    "            gold = y_true.cpu().numpy()\n",
    "            pred = np.argmax(y_pred.cpu().numpy(), axis=1)\n",
    "            # accumulate for plotting\n",
    "            losses.append(loss.cpu().item())\n",
    "            acc.append(accuracy_score(gold, pred))\n",
    "        # save epoch stats\n",
    "        dev_loss.append(np.mean(losses))\n",
    "        dev_acc.append(np.mean(acc))"
   ]
  },
  {
   "cell_type": "code",
   "execution_count": 44,
   "id": "648dcb50",
   "metadata": {},
   "outputs": [
    {
     "data": {
      "image/png": "[encoded data removed]",
      "text/plain": [
       "<Figure size 640x480 with 1 Axes>"
      ]
     },
     "metadata": {},
     "output_type": "display_data"
    }
   ],
   "source": [
    "import matplotlib.pyplot as plt\n",
    "\n",
    "x = np.arange(n_epochs) + 1\n",
    "\n",
    "plt.plot(x, train_loss)\n",
    "plt.plot(x, dev_loss)\n",
    "plt.legend(['train', 'dev'])\n",
    "plt.xlabel('epoch')\n",
    "plt.ylabel('loss')\n",
    "plt.grid(True)"
   ]
  },
  {
   "cell_type": "code",
   "execution_count": 45,
   "id": "49452575",
   "metadata": {},
   "outputs": [
    {
     "data": {
      "image/png": "[encoded data removed]",
      "text/plain": [
       "<Figure size 640x480 with 1 Axes>"
      ]
     },
     "metadata": {},
     "output_type": "display_data"
    }
   ],
   "source": [
    "plt.plot(x, train_acc)\n",
    "plt.plot(x, dev_acc)\n",
    "plt.legend(['train', 'dev'])\n",
    "plt.xlabel('epoch')\n",
    "plt.ylabel('accuracy')\n",
    "plt.grid(True)"
   ]
  },
  {
   "cell_type": "markdown",
   "id": "f02d4129",
   "metadata": {},
   "source": [
    "## Evaluate on test dataset"
   ]
  },
  {
   "cell_type": "code",
   "execution_count": 46,
   "id": "6ef28c27",
   "metadata": {},
   "outputs": [
    {
     "data": {
      "application/vnd.jupyter.widget-view+json": {
       "model_id": "873d17ef36414f0488784bdf4ac19d97",
       "version_major": 2,
       "version_minor": 0
      },
      "text/plain": [
       "  0%|          | 0/7600 [00:00<?, ?it/s]"
      ]
     },
     "metadata": {},
     "output_type": "display_data"
    },
    {
     "data": {
      "application/vnd.jupyter.widget-view+json": {
       "model_id": "a32be34299ff4ccea011594d2a9d01c7",
       "version_major": 2,
       "version_minor": 0
      },
      "text/plain": [
       "  0%|          | 0/7600 [00:00<?, ?it/s]"
      ]
     },
     "metadata": {},
     "output_type": "display_data"
    },
    {
     "data": {
      "text/html": [
       "<div>\n",
       "<style scoped>\n",
       "    .dataframe tbody tr th:only-of-type {\n",
       "        vertical-align: middle;\n",
       "    }\n",
       "\n",
       "    .dataframe tbody tr th {\n",
       "        vertical-align: top;\n",
       "    }\n",
       "\n",
       "    .dataframe thead th {\n",
       "        text-align: right;\n",
       "    }\n",
       "</style>\n",
       "<table border=\"1\" class=\"dataframe\">\n",
       "  <thead>\n",
       "    <tr style=\"text-align: right;\">\n",
       "      <th></th>\n",
       "      <th>class index</th>\n",
       "      <th>title</th>\n",
       "      <th>description</th>\n",
       "      <th>text</th>\n",
       "      <th>tokens</th>\n",
       "      <th>features</th>\n",
       "    </tr>\n",
       "  </thead>\n",
       "  <tbody>\n",
       "    <tr>\n",
       "      <th>0</th>\n",
       "      <td>3</td>\n",
       "      <td>Fears for T N pension after talks</td>\n",
       "      <td>Unions representing workers at Turner   Newall...</td>\n",
       "      <td>fears for t n pension after talks unions repre...</td>\n",
       "      <td>[fears, for, t, n, pension, after, talks, unio...</td>\n",
       "      <td>{850: 1, 11: 1, 150: 1, 5527: 1, 1487: 1, 38: ...</td>\n",
       "    </tr>\n",
       "    <tr>\n",
       "      <th>1</th>\n",
       "      <td>4</td>\n",
       "      <td>The Race is On: Second Private Team Sets Launc...</td>\n",
       "      <td>SPACE.com - TORONTO, Canada -- A second\\team o...</td>\n",
       "      <td>the race is on: second private team sets launc...</td>\n",
       "      <td>[the, race, is, on, :, second, private, team, ...</td>\n",
       "      <td>{1: 3, 489: 1, 25: 1, 10: 1, 28: 1, 134: 2, 90...</td>\n",
       "    </tr>\n",
       "    <tr>\n",
       "      <th>2</th>\n",
       "      <td>4</td>\n",
       "      <td>Ky. Company Wins Grant to Study Peptides (AP)</td>\n",
       "      <td>AP - A company founded by a chemistry research...</td>\n",
       "      <td>ky. company wins grant to study peptides (ap) ...</td>\n",
       "      <td>[ky., company, wins, grant, to, study, peptide...</td>\n",
       "      <td>{11867: 1, 60: 2, 409: 1, 4401: 2, 4: 2, 499: ...</td>\n",
       "    </tr>\n",
       "    <tr>\n",
       "      <th>3</th>\n",
       "      <td>4</td>\n",
       "      <td>Prediction Unit Helps Forecast Wildfires (AP)</td>\n",
       "      <td>AP - It's barely dawn when Mike Fitzpatrick st...</td>\n",
       "      <td>prediction unit helps forecast wildfires (ap) ...</td>\n",
       "      <td>[prediction, unit, helps, forecast, wildfires,...</td>\n",
       "      <td>{9362: 1, 611: 1, 1998: 1, 709: 1, 0: 4, 14: 1...</td>\n",
       "    </tr>\n",
       "    <tr>\n",
       "      <th>4</th>\n",
       "      <td>4</td>\n",
       "      <td>Calif. Aims to Limit Farm-Related Smog (AP)</td>\n",
       "      <td>AP - Southern California's smog-fighting agenc...</td>\n",
       "      <td>calif. aims to limit farm-related smog (ap) ap...</td>\n",
       "      <td>[calif., aims, to, limit, farm-related, smog, ...</td>\n",
       "      <td>{1053: 1, 1761: 1, 4: 2, 3196: 1, 0: 4, 13142:...</td>\n",
       "    </tr>\n",
       "    <tr>\n",
       "      <th>...</th>\n",
       "      <td>...</td>\n",
       "      <td>...</td>\n",
       "      <td>...</td>\n",
       "      <td>...</td>\n",
       "      <td>...</td>\n",
       "      <td>...</td>\n",
       "    </tr>\n",
       "    <tr>\n",
       "      <th>7595</th>\n",
       "      <td>1</td>\n",
       "      <td>Around the world</td>\n",
       "      <td>Ukrainian presidential candidate Viktor Yushch...</td>\n",
       "      <td>around the world ukrainian presidential candid...</td>\n",
       "      <td>[around, the, world, ukrainian, presidential, ...</td>\n",
       "      <td>{432: 1, 1: 2, 58: 1, 4315: 1, 388: 1, 1396: 1...</td>\n",
       "    </tr>\n",
       "    <tr>\n",
       "      <th>7596</th>\n",
       "      <td>2</td>\n",
       "      <td>Void is filled with Clement</td>\n",
       "      <td>With the supply of attractive pitching options...</td>\n",
       "      <td>void is filled with clement with the supply of...</td>\n",
       "      <td>[void, is, filled, with, clement, with, the, s...</td>\n",
       "      <td>{9266: 1, 25: 1, 5248: 1, 19: 3, 10970: 2, 1: ...</td>\n",
       "    </tr>\n",
       "    <tr>\n",
       "      <th>7597</th>\n",
       "      <td>2</td>\n",
       "      <td>Martinez leaves bitter</td>\n",
       "      <td>Like Roger Clemens did almost exactly eight ye...</td>\n",
       "      <td>martinez leaves bitter like roger clemens did ...</td>\n",
       "      <td>[martinez, leaves, bitter, like, roger, clemen...</td>\n",
       "      <td>{1978: 2, 1899: 1, 3103: 2, 312: 1, 1664: 1, 3...</td>\n",
       "    </tr>\n",
       "    <tr>\n",
       "      <th>7598</th>\n",
       "      <td>3</td>\n",
       "      <td>5 of arthritis patients in Singapore take Bext...</td>\n",
       "      <td>SINGAPORE : Doctors in the United States have ...</td>\n",
       "      <td>5 of arthritis patients in singapore take bext...</td>\n",
       "      <td>[5, of, arthritis, patients, in, singapore, ta...</td>\n",
       "      <td>{621: 1, 6: 1, 2718: 1, 2442: 1, 7: 2, 1063: 2...</td>\n",
       "    </tr>\n",
       "    <tr>\n",
       "      <th>7599</th>\n",
       "      <td>3</td>\n",
       "      <td>EBay gets into rentals</td>\n",
       "      <td>EBay plans to buy the apartment and home renta...</td>\n",
       "      <td>ebay gets into rentals ebay plans to buy the a...</td>\n",
       "      <td>[ebay, gets, into, rentals, ebay, plans, to, b...</td>\n",
       "      <td>{1463: 2, 537: 1, 73: 1, 11211: 1, 156: 1, 4: ...</td>\n",
       "    </tr>\n",
       "  </tbody>\n",
       "</table>\n",
       "<p>7600 rows × 6 columns</p>\n",
       "</div>"
      ],
      "text/plain": [
       "      class index                                              title  \\\n",
       "0               3                  Fears for T N pension after talks   \n",
       "1               4  The Race is On: Second Private Team Sets Launc...   \n",
       "2               4      Ky. Company Wins Grant to Study Peptides (AP)   \n",
       "3               4      Prediction Unit Helps Forecast Wildfires (AP)   \n",
       "4               4        Calif. Aims to Limit Farm-Related Smog (AP)   \n",
       "...           ...                                                ...   \n",
       "7595            1                                   Around the world   \n",
       "7596            2                        Void is filled with Clement   \n",
       "7597            2                             Martinez leaves bitter   \n",
       "7598            3  5 of arthritis patients in Singapore take Bext...   \n",
       "7599            3                             EBay gets into rentals   \n",
       "\n",
       "                                            description  \\\n",
       "0     Unions representing workers at Turner   Newall...   \n",
       "1     SPACE.com - TORONTO, Canada -- A second\\team o...   \n",
       "2     AP - A company founded by a chemistry research...   \n",
       "3     AP - It's barely dawn when Mike Fitzpatrick st...   \n",
       "4     AP - Southern California's smog-fighting agenc...   \n",
       "...                                                 ...   \n",
       "7595  Ukrainian presidential candidate Viktor Yushch...   \n",
       "7596  With the supply of attractive pitching options...   \n",
       "7597  Like Roger Clemens did almost exactly eight ye...   \n",
       "7598  SINGAPORE : Doctors in the United States have ...   \n",
       "7599  EBay plans to buy the apartment and home renta...   \n",
       "\n",
       "                                                   text  \\\n",
       "0     fears for t n pension after talks unions repre...   \n",
       "1     the race is on: second private team sets launc...   \n",
       "2     ky. company wins grant to study peptides (ap) ...   \n",
       "3     prediction unit helps forecast wildfires (ap) ...   \n",
       "4     calif. aims to limit farm-related smog (ap) ap...   \n",
       "...                                                 ...   \n",
       "7595  around the world ukrainian presidential candid...   \n",
       "7596  void is filled with clement with the supply of...   \n",
       "7597  martinez leaves bitter like roger clemens did ...   \n",
       "7598  5 of arthritis patients in singapore take bext...   \n",
       "7599  ebay gets into rentals ebay plans to buy the a...   \n",
       "\n",
       "                                                 tokens  \\\n",
       "0     [fears, for, t, n, pension, after, talks, unio...   \n",
       "1     [the, race, is, on, :, second, private, team, ...   \n",
       "2     [ky., company, wins, grant, to, study, peptide...   \n",
       "3     [prediction, unit, helps, forecast, wildfires,...   \n",
       "4     [calif., aims, to, limit, farm-related, smog, ...   \n",
       "...                                                 ...   \n",
       "7595  [around, the, world, ukrainian, presidential, ...   \n",
       "7596  [void, is, filled, with, clement, with, the, s...   \n",
       "7597  [martinez, leaves, bitter, like, roger, clemen...   \n",
       "7598  [5, of, arthritis, patients, in, singapore, ta...   \n",
       "7599  [ebay, gets, into, rentals, ebay, plans, to, b...   \n",
       "\n",
       "                                               features  \n",
       "0     {850: 1, 11: 1, 150: 1, 5527: 1, 1487: 1, 38: ...  \n",
       "1     {1: 3, 489: 1, 25: 1, 10: 1, 28: 1, 134: 2, 90...  \n",
       "2     {11867: 1, 60: 2, 409: 1, 4401: 2, 4: 2, 499: ...  \n",
       "3     {9362: 1, 611: 1, 1998: 1, 709: 1, 0: 4, 14: 1...  \n",
       "4     {1053: 1, 1761: 1, 4: 2, 3196: 1, 0: 4, 13142:...  \n",
       "...                                                 ...  \n",
       "7595  {432: 1, 1: 2, 58: 1, 4315: 1, 388: 1, 1396: 1...  \n",
       "7596  {9266: 1, 25: 1, 5248: 1, 19: 3, 10970: 2, 1: ...  \n",
       "7597  {1978: 2, 1899: 1, 3103: 2, 312: 1, 1664: 1, 3...  \n",
       "7598  {621: 1, 6: 1, 2718: 1, 2442: 1, 7: 2, 1063: 2...  \n",
       "7599  {1463: 2, 537: 1, 73: 1, 11211: 1, 156: 1, 4: ...  \n",
       "\n",
       "[7600 rows x 6 columns]"
      ]
     },
     "execution_count": 46,
     "metadata": {},
     "output_type": "execute_result"
    }
   ],
   "source": [
    "# repeat all preprocessing done above, this time on the test set\n",
    "test_df = pd.read_csv('data/ag_news_csv/test.csv', header=None)\n",
    "test_df.columns = ['class index', 'title', 'description']\n",
    "test_df['text'] = test_df['title'].str.lower() + \" \" + test_df['description'].str.lower()\n",
    "test_df['text'] = test_df['text'].str.replace('\\\\', ' ', regex=False)\n",
    "test_df['tokens'] = test_df['text'].progress_map(word_tokenize)\n",
    "test_df['features'] = test_df['tokens'].progress_map(make_feature_vector)\n",
    "test_df"
   ]
  },
  {
   "cell_type": "code",
   "execution_count": 47,
   "id": "7c1bc59e",
   "metadata": {},
   "outputs": [
    {
     "data": {
      "application/vnd.jupyter.widget-view+json": {
       "model_id": "ded9847a4be04be3a4e18e34b514e69a",
       "version_major": 2,
       "version_minor": 0
      },
      "text/plain": [
       "  0%|          | 0/16 [00:00<?, ?it/s]"
      ]
     },
     "metadata": {},
     "output_type": "display_data"
    },
    {
     "name": "stdout",
     "output_type": "stream",
     "text": [
      "              precision    recall  f1-score   support\n",
      "\n",
      "       World      0.953     0.892     0.922      1900\n",
      "      Sports      0.947     0.990     0.968      1900\n",
      "    Business      0.902     0.856     0.878      1900\n",
      "    Sci/Tech      0.864     0.925     0.893      1900\n",
      "\n",
      "    accuracy                          0.916      7600\n",
      "   macro avg      0.917     0.916     0.915      7600\n",
      "weighted avg      0.917     0.916     0.915      7600\n",
      "\n"
     ]
    }
   ],
   "source": [
    "from sklearn.metrics import classification_report\n",
    "\n",
    "# set model to evaluation mode\n",
    "model.eval()\n",
    "\n",
    "dataset = MyDataset(test_df['features'], test_df['class index'] - 1)\n",
    "data_loader = DataLoader(dataset, batch_size=batch_size)\n",
    "y_pred = []\n",
    "\n",
    "# disable gradient calculation\n",
    "with torch.no_grad():\n",
    "    for X, _ in tqdm(data_loader):\n",
    "        X = X.to(device)\n",
    "        # predict one class per example\n",
    "        y = torch.argmax(model(X), dim=1)\n",
    "        # convert tensor to numpy array\n",
    "        y_pred.append(y.cpu().numpy())\n",
    "    \n",
    "# print results\n",
    "y_true = dataset.y\n",
    "y_pred = np.concatenate(y_pred)\n",
    "print(classification_report(y_true, y_pred, target_names=labels, digits = 3))"
   ]
  },
  {
   "cell_type": "code",
   "execution_count": 48,
   "id": "0357b175",
   "metadata": {},
   "outputs": [
    {
     "data": {
      "text/plain": [
       "<sklearn.metrics._plot.confusion_matrix.ConfusionMatrixDisplay at 0x7228e5bb4260>"
      ]
     },
     "execution_count": 48,
     "metadata": {},
     "output_type": "execute_result"
    },
    {
     "data": {
      "image/png": "[encoded data removed]",
      "text/plain": [
       "<Figure size 400x400 with 1 Axes>"
      ]
     },
     "metadata": {},
     "output_type": "display_data"
    }
   ],
   "source": [
    "from sklearn.metrics import ConfusionMatrixDisplay, confusion_matrix\n",
    "\n",
    "cm = confusion_matrix(y_true, y_pred, normalize='true')\n",
    "disp = ConfusionMatrixDisplay(confusion_matrix=cm, display_labels=labels)\n",
    "fig, ax = plt.subplots(figsize=(4,4))\n",
    "disp.plot(cmap='Blues', values_format='.2f', colorbar=False, ax=ax, xticks_rotation=45)"
   ]
  }
 ],
 "metadata": {
  "kernelspec": {
   "display_name": "Python 3 (ipykernel)",
   "language": "python",
   "name": "python3"
  },
  "language_info": {
   "codemirror_mode": {
    "name": "ipython",
    "version": 3
   },
   "file_extension": ".py",
   "mimetype": "text/x-python",
   "name": "python",
   "nbconvert_exporter": "python",
   "pygments_lexer": "ipython3",
   "version": "3.12.4"
  }
 },
 "nbformat": 4,
 "nbformat_minor": 5
}
