{
 "cells": [
  {
   "cell_type": "markdown",
   "id": "f3f20b9c",
   "metadata": {},
   "source": [
    "# 2 Single 2 Perceptron"
   ]
  },
  {
   "cell_type": "markdown",
   "id": "ec2f5392-d290-41a7-ae1e-5582dbcd476d",
   "metadata": {},
   "source": [
    "## BEFORE RUNNING PERCEPTRON\n",
    "## Run commands in terminal shell:\n",
    "1. pip install gensim\n",
    "2. pip install nltk\n",
    "3. pip install kaggle"
   ]
  },
  {
   "cell_type": "code",
   "execution_count": 1,
   "id": "d561a30b",
   "metadata": {},
   "outputs": [],
   "source": [
    "# Package imports\n",
    "\n",
    "from src.utils.recorder_util import ModelResults\n",
    "import pandas as pd\n",
    "import numpy as np\n",
    "from sklearn.preprocessing import StandardScaler\n",
    "from sklearn.metrics import classification_report\n",
    "from tqdm import tqdm\n",
    "from gensim.models import KeyedVectors\n",
    "from nltk.tokenize import word_tokenize\n",
    "import kagglehub"
   ]
  },
  {
   "cell_type": "code",
   "execution_count": 2,
   "id": "edb4d0bb",
   "metadata": {},
   "outputs": [],
   "source": [
    "# Initializing recorder results\n",
    "\n",
    "model_name = \"2_Single_2Perceptron_Word2Vec\"\n",
    "author = \"Noah Sher\"\n",
    "seed = 123\n",
    "recorder = ModelResults(model_name, author, seed)"
   ]
  },
  {
   "cell_type": "code",
   "execution_count": 3,
   "id": "18cb65f2",
   "metadata": {},
   "outputs": [],
   "source": [
    "# Loading datasets\n",
    "\n",
    "train_data = pd.read_csv(\"testData/testData.csv\")\n",
    "test_data = pd.read_csv(\"testData/testData.csv\")\n",
    "#test_data = pd.read_csv(\"CHATGPT_test.csv\")"
   ]
  },
  {
   "cell_type": "code",
   "execution_count": 4,
   "id": "f788b420-5bbe-4c9d-9021-2025fbb9c323",
   "metadata": {},
   "outputs": [
    {
     "name": "stdout",
     "output_type": "stream",
     "text": [
      "Unprocessed train_data:\n"
     ]
    },
    {
     "data": {
      "text/html": [
       "<div>\n",
       "<style scoped>\n",
       "    .dataframe tbody tr th:only-of-type {\n",
       "        vertical-align: middle;\n",
       "    }\n",
       "\n",
       "    .dataframe tbody tr th {\n",
       "        vertical-align: top;\n",
       "    }\n",
       "\n",
       "    .dataframe thead th {\n",
       "        text-align: right;\n",
       "    }\n",
       "</style>\n",
       "<table border=\"1\" class=\"dataframe\">\n",
       "  <thead>\n",
       "    <tr style=\"text-align: right;\">\n",
       "      <th></th>\n",
       "      <th>label</th>\n",
       "      <th>source</th>\n",
       "      <th>text</th>\n",
       "    </tr>\n",
       "  </thead>\n",
       "  <tbody>\n",
       "    <tr>\n",
       "      <th>0</th>\n",
       "      <td>1</td>\n",
       "      <td>1</td>\n",
       "      <td>Hey, Mrs. Johnson! Here's my essay on whether ...</td>\n",
       "    </tr>\n",
       "    <tr>\n",
       "      <th>1</th>\n",
       "      <td>1</td>\n",
       "      <td>1</td>\n",
       "      <td>I believe zoos are very good for the world. Th...</td>\n",
       "    </tr>\n",
       "    <tr>\n",
       "      <th>2</th>\n",
       "      <td>1</td>\n",
       "      <td>1</td>\n",
       "      <td>I believe that the former British Prime Minis...</td>\n",
       "    </tr>\n",
       "    <tr>\n",
       "      <th>3</th>\n",
       "      <td>1</td>\n",
       "      <td>1</td>\n",
       "      <td>Limiting car usage has numerous advantages th...</td>\n",
       "    </tr>\n",
       "    <tr>\n",
       "      <th>4</th>\n",
       "      <td>1</td>\n",
       "      <td>1</td>\n",
       "      <td>Okay, so libaries are like books and stuf but ...</td>\n",
       "    </tr>\n",
       "  </tbody>\n",
       "</table>\n",
       "</div>"
      ],
      "text/plain": [
       "   label  source                                               text\n",
       "0      1       1  Hey, Mrs. Johnson! Here's my essay on whether ...\n",
       "1      1       1  I believe zoos are very good for the world. Th...\n",
       "2      1       1   I believe that the former British Prime Minis...\n",
       "3      1       1   Limiting car usage has numerous advantages th...\n",
       "4      1       1  Okay, so libaries are like books and stuf but ..."
      ]
     },
     "execution_count": 4,
     "metadata": {},
     "output_type": "execute_result"
    }
   ],
   "source": [
    "print(\"Unprocessed train_data:\")\n",
    "train_data.head()"
   ]
  },
  {
   "cell_type": "code",
   "execution_count": 5,
   "id": "50208e22-83f4-4f19-ab52-af706cebee2e",
   "metadata": {},
   "outputs": [
    {
     "name": "stdout",
     "output_type": "stream",
     "text": [
      "Unprocessed test_data:\n"
     ]
    },
    {
     "data": {
      "text/html": [
       "<div>\n",
       "<style scoped>\n",
       "    .dataframe tbody tr th:only-of-type {\n",
       "        vertical-align: middle;\n",
       "    }\n",
       "\n",
       "    .dataframe tbody tr th {\n",
       "        vertical-align: top;\n",
       "    }\n",
       "\n",
       "    .dataframe thead th {\n",
       "        text-align: right;\n",
       "    }\n",
       "</style>\n",
       "<table border=\"1\" class=\"dataframe\">\n",
       "  <thead>\n",
       "    <tr style=\"text-align: right;\">\n",
       "      <th></th>\n",
       "      <th>label</th>\n",
       "      <th>source</th>\n",
       "      <th>text</th>\n",
       "    </tr>\n",
       "  </thead>\n",
       "  <tbody>\n",
       "    <tr>\n",
       "      <th>0</th>\n",
       "      <td>1</td>\n",
       "      <td>1</td>\n",
       "      <td>Hey, Mrs. Johnson! Here's my essay on whether ...</td>\n",
       "    </tr>\n",
       "    <tr>\n",
       "      <th>1</th>\n",
       "      <td>1</td>\n",
       "      <td>1</td>\n",
       "      <td>I believe zoos are very good for the world. Th...</td>\n",
       "    </tr>\n",
       "    <tr>\n",
       "      <th>2</th>\n",
       "      <td>1</td>\n",
       "      <td>1</td>\n",
       "      <td>I believe that the former British Prime Minis...</td>\n",
       "    </tr>\n",
       "    <tr>\n",
       "      <th>3</th>\n",
       "      <td>1</td>\n",
       "      <td>1</td>\n",
       "      <td>Limiting car usage has numerous advantages th...</td>\n",
       "    </tr>\n",
       "    <tr>\n",
       "      <th>4</th>\n",
       "      <td>1</td>\n",
       "      <td>1</td>\n",
       "      <td>Okay, so libaries are like books and stuf but ...</td>\n",
       "    </tr>\n",
       "  </tbody>\n",
       "</table>\n",
       "</div>"
      ],
      "text/plain": [
       "   label  source                                               text\n",
       "0      1       1  Hey, Mrs. Johnson! Here's my essay on whether ...\n",
       "1      1       1  I believe zoos are very good for the world. Th...\n",
       "2      1       1   I believe that the former British Prime Minis...\n",
       "3      1       1   Limiting car usage has numerous advantages th...\n",
       "4      1       1  Okay, so libaries are like books and stuf but ..."
      ]
     },
     "execution_count": 5,
     "metadata": {},
     "output_type": "execute_result"
    }
   ],
   "source": [
    "print(\"Unprocessed test_data:\")\n",
    "test_data.head()"
   ]
  },
  {
   "cell_type": "code",
   "execution_count": 6,
   "id": "e63aeacd",
   "metadata": {},
   "outputs": [],
   "source": [
    "# Preprocessing text by:\n",
    "#   1. lowercasing all letters and\n",
    "#   2. splitting all strings into a list of words.\n",
    "\n",
    "def preprocess_data(text):\n",
    "    lower_text = text.lower()\n",
    "    preprocessed = lower_text.split()\n",
    "    return preprocessed\n",
    "\n",
    "train_data[\"preprocessed_text\"] = train_data[\"text\"].apply(preprocess_data)\n",
    "test_data[\"preprocessed_text\"] = test_data[\"text\"].apply(preprocess_data)"
   ]
  },
  {
   "cell_type": "code",
   "execution_count": 7,
   "id": "ec334c01-9e12-45fa-9160-f2c1d1fb03e0",
   "metadata": {},
   "outputs": [
    {
     "name": "stdout",
     "output_type": "stream",
     "text": [
      "Preprocessed train_data:\n"
     ]
    },
    {
     "data": {
      "text/html": [
       "<div>\n",
       "<style scoped>\n",
       "    .dataframe tbody tr th:only-of-type {\n",
       "        vertical-align: middle;\n",
       "    }\n",
       "\n",
       "    .dataframe tbody tr th {\n",
       "        vertical-align: top;\n",
       "    }\n",
       "\n",
       "    .dataframe thead th {\n",
       "        text-align: right;\n",
       "    }\n",
       "</style>\n",
       "<table border=\"1\" class=\"dataframe\">\n",
       "  <thead>\n",
       "    <tr style=\"text-align: right;\">\n",
       "      <th></th>\n",
       "      <th>label</th>\n",
       "      <th>source</th>\n",
       "      <th>text</th>\n",
       "      <th>preprocessed_text</th>\n",
       "    </tr>\n",
       "  </thead>\n",
       "  <tbody>\n",
       "    <tr>\n",
       "      <th>0</th>\n",
       "      <td>1</td>\n",
       "      <td>1</td>\n",
       "      <td>Hey, Mrs. Johnson! Here's my essay on whether ...</td>\n",
       "      <td>[hey,, mrs., johnson!, here's, my, essay, on, ...</td>\n",
       "    </tr>\n",
       "    <tr>\n",
       "      <th>1</th>\n",
       "      <td>1</td>\n",
       "      <td>1</td>\n",
       "      <td>I believe zoos are very good for the world. Th...</td>\n",
       "      <td>[i, believe, zoos, are, very, good, for, the, ...</td>\n",
       "    </tr>\n",
       "    <tr>\n",
       "      <th>2</th>\n",
       "      <td>1</td>\n",
       "      <td>1</td>\n",
       "      <td>I believe that the former British Prime Minis...</td>\n",
       "      <td>[i, believe, that, the, former, british, prime...</td>\n",
       "    </tr>\n",
       "    <tr>\n",
       "      <th>3</th>\n",
       "      <td>1</td>\n",
       "      <td>1</td>\n",
       "      <td>Limiting car usage has numerous advantages th...</td>\n",
       "      <td>[limiting, car, usage, has, numerous, advantag...</td>\n",
       "    </tr>\n",
       "    <tr>\n",
       "      <th>4</th>\n",
       "      <td>1</td>\n",
       "      <td>1</td>\n",
       "      <td>Okay, so libaries are like books and stuf but ...</td>\n",
       "      <td>[okay,, so, libaries, are, like, books, and, s...</td>\n",
       "    </tr>\n",
       "  </tbody>\n",
       "</table>\n",
       "</div>"
      ],
      "text/plain": [
       "   label  source                                               text  \\\n",
       "0      1       1  Hey, Mrs. Johnson! Here's my essay on whether ...   \n",
       "1      1       1  I believe zoos are very good for the world. Th...   \n",
       "2      1       1   I believe that the former British Prime Minis...   \n",
       "3      1       1   Limiting car usage has numerous advantages th...   \n",
       "4      1       1  Okay, so libaries are like books and stuf but ...   \n",
       "\n",
       "                                   preprocessed_text  \n",
       "0  [hey,, mrs., johnson!, here's, my, essay, on, ...  \n",
       "1  [i, believe, zoos, are, very, good, for, the, ...  \n",
       "2  [i, believe, that, the, former, british, prime...  \n",
       "3  [limiting, car, usage, has, numerous, advantag...  \n",
       "4  [okay,, so, libaries, are, like, books, and, s...  "
      ]
     },
     "execution_count": 7,
     "metadata": {},
     "output_type": "execute_result"
    }
   ],
   "source": [
    "print(\"Preprocessed train_data:\")\n",
    "train_data.head()"
   ]
  },
  {
   "cell_type": "code",
   "execution_count": 8,
   "id": "b927d6f4-1ba6-4824-b137-e2d4ac368f4b",
   "metadata": {},
   "outputs": [
    {
     "name": "stdout",
     "output_type": "stream",
     "text": [
      "Preprocessed test_data:\n"
     ]
    },
    {
     "data": {
      "text/html": [
       "<div>\n",
       "<style scoped>\n",
       "    .dataframe tbody tr th:only-of-type {\n",
       "        vertical-align: middle;\n",
       "    }\n",
       "\n",
       "    .dataframe tbody tr th {\n",
       "        vertical-align: top;\n",
       "    }\n",
       "\n",
       "    .dataframe thead th {\n",
       "        text-align: right;\n",
       "    }\n",
       "</style>\n",
       "<table border=\"1\" class=\"dataframe\">\n",
       "  <thead>\n",
       "    <tr style=\"text-align: right;\">\n",
       "      <th></th>\n",
       "      <th>label</th>\n",
       "      <th>source</th>\n",
       "      <th>text</th>\n",
       "      <th>preprocessed_text</th>\n",
       "    </tr>\n",
       "  </thead>\n",
       "  <tbody>\n",
       "    <tr>\n",
       "      <th>0</th>\n",
       "      <td>1</td>\n",
       "      <td>1</td>\n",
       "      <td>Hey, Mrs. Johnson! Here's my essay on whether ...</td>\n",
       "      <td>[hey,, mrs., johnson!, here's, my, essay, on, ...</td>\n",
       "    </tr>\n",
       "    <tr>\n",
       "      <th>1</th>\n",
       "      <td>1</td>\n",
       "      <td>1</td>\n",
       "      <td>I believe zoos are very good for the world. Th...</td>\n",
       "      <td>[i, believe, zoos, are, very, good, for, the, ...</td>\n",
       "    </tr>\n",
       "    <tr>\n",
       "      <th>2</th>\n",
       "      <td>1</td>\n",
       "      <td>1</td>\n",
       "      <td>I believe that the former British Prime Minis...</td>\n",
       "      <td>[i, believe, that, the, former, british, prime...</td>\n",
       "    </tr>\n",
       "    <tr>\n",
       "      <th>3</th>\n",
       "      <td>1</td>\n",
       "      <td>1</td>\n",
       "      <td>Limiting car usage has numerous advantages th...</td>\n",
       "      <td>[limiting, car, usage, has, numerous, advantag...</td>\n",
       "    </tr>\n",
       "    <tr>\n",
       "      <th>4</th>\n",
       "      <td>1</td>\n",
       "      <td>1</td>\n",
       "      <td>Okay, so libaries are like books and stuf but ...</td>\n",
       "      <td>[okay,, so, libaries, are, like, books, and, s...</td>\n",
       "    </tr>\n",
       "  </tbody>\n",
       "</table>\n",
       "</div>"
      ],
      "text/plain": [
       "   label  source                                               text  \\\n",
       "0      1       1  Hey, Mrs. Johnson! Here's my essay on whether ...   \n",
       "1      1       1  I believe zoos are very good for the world. Th...   \n",
       "2      1       1   I believe that the former British Prime Minis...   \n",
       "3      1       1   Limiting car usage has numerous advantages th...   \n",
       "4      1       1  Okay, so libaries are like books and stuf but ...   \n",
       "\n",
       "                                   preprocessed_text  \n",
       "0  [hey,, mrs., johnson!, here's, my, essay, on, ...  \n",
       "1  [i, believe, zoos, are, very, good, for, the, ...  \n",
       "2  [i, believe, that, the, former, british, prime...  \n",
       "3  [limiting, car, usage, has, numerous, advantag...  \n",
       "4  [okay,, so, libaries, are, like, books, and, s...  "
      ]
     },
     "execution_count": 8,
     "metadata": {},
     "output_type": "execute_result"
    }
   ],
   "source": [
    "print(\"Preprocessed test_data:\")\n",
    "test_data.head()"
   ]
  },
  {
   "cell_type": "code",
   "execution_count": 9,
   "id": "18365433-5e64-46e0-9505-0df31796ffb7",
   "metadata": {},
   "outputs": [
    {
     "name": "stdout",
     "output_type": "stream",
     "text": [
      "Google's Word2Vec model loaded successfully.\n"
     ]
    }
   ],
   "source": [
    "# Training Word2Vec on the train_data\n",
    "\n",
    "path = \"GoogleModel/GoogleNews-vectors-negative300.bin\"\n",
    "word2Vec = KeyedVectors.load_word2vec_format(path, binary = True)\n",
    "print(\"Google's Word2Vec model loaded successfully.\")"
   ]
  },
  {
   "cell_type": "code",
   "execution_count": 10,
   "id": "e99746b3-7720-4ee5-84be-4308d9a2a0c6",
   "metadata": {},
   "outputs": [],
   "source": [
    "# Converting texts to embeddings\n",
    "\n",
    "def embeddings(text, model):\n",
    "    vectors = []\n",
    "    for word in text:\n",
    "        if word in model:\n",
    "            vectors.append(model[word])\n",
    "    if vectors:\n",
    "        return np.mean(vectors, axis = 0)\n",
    "    else:\n",
    "        return np.zeros(model.vector_size)\n",
    "        \n",
    "x_train = []\n",
    "for text in train_data[\"preprocessed_text\"]:\n",
    "    embedding = embeddings(text, word2Vec)\n",
    "    x_train.append(embedding)\n",
    "x_train = np.array(x_train)\n",
    "y_train = train_data[\"label\"].values\n",
    "\n",
    "x_test = []\n",
    "for text in test_data[\"preprocessed_text\"]:\n",
    "    embedding = embeddings(text, word2Vec)\n",
    "    x_test.append(embedding)\n",
    "x_test = np.array(x_test)\n",
    "y_test = test_data[\"label\"].values"
   ]
  },
  {
   "cell_type": "code",
   "execution_count": 11,
   "id": "be2f1724-7653-4315-a159-eec556f36c95",
   "metadata": {},
   "outputs": [],
   "source": [
    "# Scaling the data\n",
    "\n",
    "scaler = StandardScaler()\n",
    "x_train_scaled = scaler.fit_transform(x_train)\n",
    "x_test_scaled = scaler.transform(x_test)"
   ]
  },
  {
   "cell_type": "code",
   "execution_count": 12,
   "id": "94f99550",
   "metadata": {},
   "outputs": [],
   "source": [
    "# initializing weights and bias\n",
    "\n",
    "np.random.seed(seed)\n",
    "n_examples, n_features = x_train_scaled.shape\n",
    "w = np.zeros(n_features)\n",
    "b = 0"
   ]
  },
  {
   "cell_type": "code",
   "execution_count": 13,
   "id": "03a2ef78",
   "metadata": {},
   "outputs": [
    {
     "name": "stderr",
     "output_type": "stream",
     "text": [
      "epoch 1: 100%|██████████| 6870/6870 [00:00<00:00, 405580.45it/s]\n"
     ]
    },
    {
     "name": "stdout",
     "output_type": "stream",
     "text": [
      "Epoch 1: Errors = 616\n"
     ]
    },
    {
     "name": "stderr",
     "output_type": "stream",
     "text": [
      "epoch 2: 100%|██████████| 6870/6870 [00:00<00:00, 421257.69it/s]\n"
     ]
    },
    {
     "name": "stdout",
     "output_type": "stream",
     "text": [
      "Epoch 2: Errors = 438\n"
     ]
    },
    {
     "name": "stderr",
     "output_type": "stream",
     "text": [
      "epoch 3: 100%|██████████| 6870/6870 [00:00<00:00, 434122.31it/s]\n"
     ]
    },
    {
     "name": "stdout",
     "output_type": "stream",
     "text": [
      "Epoch 3: Errors = 364\n"
     ]
    },
    {
     "name": "stderr",
     "output_type": "stream",
     "text": [
      "epoch 4: 100%|██████████| 6870/6870 [00:00<00:00, 437915.93it/s]\n"
     ]
    },
    {
     "name": "stdout",
     "output_type": "stream",
     "text": [
      "Epoch 4: Errors = 370\n"
     ]
    },
    {
     "name": "stderr",
     "output_type": "stream",
     "text": [
      "epoch 5: 100%|██████████| 6870/6870 [00:00<00:00, 436661.69it/s]\n"
     ]
    },
    {
     "name": "stdout",
     "output_type": "stream",
     "text": [
      "Epoch 5: Errors = 316\n"
     ]
    },
    {
     "name": "stderr",
     "output_type": "stream",
     "text": [
      "epoch 6: 100%|██████████| 6870/6870 [00:00<00:00, 438182.31it/s]\n"
     ]
    },
    {
     "name": "stdout",
     "output_type": "stream",
     "text": [
      "Epoch 6: Errors = 349\n"
     ]
    },
    {
     "name": "stderr",
     "output_type": "stream",
     "text": [
      "epoch 7: 100%|██████████| 6870/6870 [00:00<00:00, 432883.17it/s]\n"
     ]
    },
    {
     "name": "stdout",
     "output_type": "stream",
     "text": [
      "Epoch 7: Errors = 323\n"
     ]
    },
    {
     "name": "stderr",
     "output_type": "stream",
     "text": [
      "epoch 8: 100%|██████████| 6870/6870 [00:00<00:00, 437729.67it/s]\n"
     ]
    },
    {
     "name": "stdout",
     "output_type": "stream",
     "text": [
      "Epoch 8: Errors = 323\n"
     ]
    },
    {
     "name": "stderr",
     "output_type": "stream",
     "text": [
      "epoch 9: 100%|██████████| 6870/6870 [00:00<00:00, 432909.19it/s]\n"
     ]
    },
    {
     "name": "stdout",
     "output_type": "stream",
     "text": [
      "Epoch 9: Errors = 319\n"
     ]
    },
    {
     "name": "stderr",
     "output_type": "stream",
     "text": [
      "epoch 10: 100%|██████████| 6870/6870 [00:00<00:00, 428696.99it/s]"
     ]
    },
    {
     "name": "stdout",
     "output_type": "stream",
     "text": [
      "Epoch 10: Errors = 307\n"
     ]
    },
    {
     "name": "stderr",
     "output_type": "stream",
     "text": [
      "\n"
     ]
    }
   ],
   "source": [
    "# Training the perceptron\n",
    "\n",
    "n_epochs = 10\n",
    "indices = np.arange(n_examples)\n",
    "recorder.record_training_start()\n",
    "for epoch in range(n_epochs):\n",
    "    n_errors = 0\n",
    "    np.random.shuffle(indices)\n",
    "    for i in tqdm(indices, desc = f'epoch {epoch + 1}'):\n",
    "        x = x_train_scaled[i]\n",
    "        y_true = y_train[i]\n",
    "        score = x @ w + b\n",
    "        y_pred = 1 if score > 0 else 0\n",
    "        if y_true != y_pred:\n",
    "            if y_true == 1:\n",
    "                w += x\n",
    "                b += 1\n",
    "            else:\n",
    "                w -= x\n",
    "                b -= 1\n",
    "            n_errors += 1\n",
    "    print(f\"Epoch {epoch + 1}: Errors = {n_errors}\")\n",
    "    if n_errors == 0:\n",
    "        print(\"No errors, early stopping.\")\n",
    "        break\n",
    "recorder.record_training_stop()"
   ]
  },
  {
   "cell_type": "code",
   "execution_count": 14,
   "id": "56fdb2bf",
   "metadata": {},
   "outputs": [],
   "source": [
    "# Testing the perceptron\n",
    "\n",
    "recorder.record_testing_start()\n",
    "y_pred = (np.dot(x_test_scaled, w) + b) > 0\n",
    "recorder.record_testing_stop()"
   ]
  },
  {
   "cell_type": "code",
   "execution_count": 15,
   "id": "b9f53d07",
   "metadata": {
    "tags": []
   },
   "outputs": [
    {
     "name": "stdout",
     "output_type": "stream",
     "text": [
      "              precision    recall  f1-score   support\n",
      "\n",
      "     Not Bot       0.97      0.95      0.96      3435\n",
      "         Bot       0.95      0.97      0.96      3435\n",
      "\n",
      "    accuracy                           0.96      6870\n",
      "   macro avg       0.96      0.96      0.96      6870\n",
      "weighted avg       0.96      0.96      0.96      6870\n",
      "\n"
     ]
    }
   ],
   "source": [
    "# Recording results\n",
    "\n",
    "report = classification_report(y_test, \n",
    "                               y_pred, \n",
    "                               target_names = [\"Not Bot\", \"Bot\"])\n",
    "print(report)\n",
    "recorder.record_performance(y_true = y_test,\n",
    "                            y_pred = y_pred,\n",
    "                            target_names = [\"Not Bot\", \"Bot\"])\n",
    "recorder.write(\"model_results.csv\")"
   ]
  },
  {
   "cell_type": "code",
   "execution_count": null,
   "id": "b12835bc-7fe3-4e01-a762-20f42d0022f2",
   "metadata": {},
   "outputs": [],
   "source": []
  }
 ],
 "metadata": {
  "kernelspec": {
   "display_name": "Python 3 (ipykernel)",
   "language": "python",
   "name": "python3"
  },
  "language_info": {
   "codemirror_mode": {
    "name": "ipython",
    "version": 3
   },
   "file_extension": ".py",
   "mimetype": "text/x-python",
   "name": "python",
   "nbconvert_exporter": "python",
   "pygments_lexer": "ipython3",
   "version": "3.11.6"
  }
 },
 "nbformat": 4,
 "nbformat_minor": 5
}
